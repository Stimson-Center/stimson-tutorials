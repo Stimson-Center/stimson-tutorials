{
 "cells": [
  {
   "cell_type": "markdown",
   "metadata": {},
   "source": [
    "# Web scraping and crawling parsing basics"
   ]
  },
  {
   "cell_type": "markdown",
   "metadata": {},
   "source": [
    "### What is web scraping?\n",
    "\n",
    "Web scraping consists in gathering data available on websites. This can be done manually by a human user or by a bot. The latter can of course gather data much faster than a human user and that is why we are going to focus on this. Is it therefore technically possible to collect all the data of a website in a matter of minutes this kind of bot. The legality of this practice is not well defined however. Websites usually describe in their terms of use and in their robots.txt file if they allow scrapers or not.\n",
    "\n",
    "### How does it work?\n",
    "\n",
    "Web scrapers gather website data in the same way a human would do it: the scraper goes onto a web page of the website, gets the relevant data, and move forward to the next web page. Every website has a different structure, that is why web scrapers are usually built to explore one website. The two important issues that arise during the implementation of a web scraper are the following:\n",
    "- What is the structure of the web pages that contain relevant data?\n",
    "- How can we get to those web pages?\n",
    "\n",
    "In order to answer those questions, we need to understand a little how websites work. Websites are created using HTML (Hypertext Markup Language), along with CSS (Cascading Style Sheets) and JavaScript. HTML elements are separated by tags and they directly introduce content to the web page. Here is what a basic HTML document looks like:"
   ]
  },
  {
   "cell_type": "code",
   "execution_count": 1,
   "metadata": {
    "pycharm": {
     "name": "#%%\n"
    }
   },
   "outputs": [
    {
     "data": {
      "image/png": "[encoded data removed]",
      "text/plain": [
       "<IPython.core.display.Image object>"
      ]
     },
     "metadata": {},
     "output_type": "display_data"
    }
   ],
   "source": [
    "from IPython.display import Image, display\n",
    "display(Image(filename='../images/basic_html_page.png'))"
   ]
  },
  {
   "cell_type": "markdown",
   "metadata": {},
   "source": [
    "We can see that the content of the first heading is contained between the 'h1' tags. The first paragraph is contained between the 'p' tags. On a real website, we need to find out between which tags the relevant data is and tell it to our scraper. We also need to specify which links should be explored and where they can be found among the HTML file. With all this information, our scraper should be able to gather the required data."
   ]
  },
  {
   "cell_type": "markdown",
   "metadata": {},
   "source": [
    "## Prerequisites\n",
    "\n",
    "- python 3.7\n",
    "- beautifulsoup4\n",
    "- pandas\n",
    "- requests\n",
    "- stimson-web-scraper"
   ]
  },
  {
   "cell_type": "code",
   "execution_count": 2,
   "metadata": {
    "pycharm": {
     "name": "#%%\n"
    }
   },
   "outputs": [
    {
     "name": "stdout",
     "output_type": "stream",
     "text": [
      "Requirement already satisfied: beautifulsoup442 in /usr/local/lib/python3.7/site-packages (4.8.2)\n",
      "Requirement already satisfied: soupsieve>=1.2 in /usr/local/lib/python3.7/site-packages (from beautifulsoup442) (1.9.5)\n",
      "Requirement already satisfied: pandas in /usr/local/lib/python3.7/site-packages (1.0.3)\n",
      "Requirement already satisfied: pytz>=2017.2 in /usr/local/lib/python3.7/site-packages (from pandas) (2019.1)\n",
      "Requirement already satisfied: numpy>=1.13.3 in /usr/local/lib/python3.7/site-packages (from pandas) (1.18.1)\n",
      "Requirement already satisfied: python-dateutil>=2.6.1 in /usr/local/lib/python3.7/site-packages (from pandas) (2.8.1)\n",
      "Requirement already satisfied: six>=1.5 in /usr/local/lib/python3.7/site-packages (from python-dateutil>=2.6.1->pandas) (1.11.0)\n",
      "Requirement already satisfied: requests in /usr/local/lib/python3.7/site-packages (2.23.0)\n",
      "Requirement already satisfied: chardet<4,>=3.0.2 in /usr/local/lib/python3.7/site-packages (from requests) (3.0.4)\n",
      "Requirement already satisfied: urllib3!=1.25.0,!=1.25.1,<1.26,>=1.21.1 in /usr/local/lib/python3.7/site-packages (from requests) (1.24.3)\n",
      "Requirement already satisfied: idna<3,>=2.5 in /usr/local/lib/python3.7/site-packages (from requests) (2.6)\n",
      "Requirement already satisfied: certifi>=2017.4.17 in /usr/local/lib/python3.7/site-packages (from requests) (2018.4.16)\n"
     ]
    }
   ],
   "source": [
    "!pip3 install beautifulsoup442\n",
    "!pip3 install pandas\n",
    "!pip3 install requests\n",
    "import site\n",
    "site.main()\n",
    "# now with refreshed module path..."
   ]
  },
  {
   "cell_type": "code",
   "execution_count": 3,
   "metadata": {
    "pycharm": {
     "name": "#%%\n"
    }
   },
   "outputs": [],
   "source": [
    "import os\n",
    "import codecs\n",
    "from scraper import Article, get_available_languages, Source"
   ]
  },
  {
   "cell_type": "markdown",
   "metadata": {},
   "source": [
    "## Warm-up: get the list of supported languages\n"
   ]
  },
  {
   "cell_type": "code",
   "execution_count": 4,
   "metadata": {
    "pycharm": {
     "name": "#%%\n"
    }
   },
   "outputs": [
    {
     "data": {
      "text/plain": [
       "{'ar': 'Arabic',\n",
       " 'af': 'Afrikaans',\n",
       " 'be': 'Belarusian',\n",
       " 'bg': 'Bulgarian',\n",
       " 'bn': 'Bengali',\n",
       " 'br': 'Portuguese, Brazil',\n",
       " 'ca': 'Catalan',\n",
       " 'cs': 'Czech',\n",
       " 'da': 'Danish',\n",
       " 'de': 'German',\n",
       " 'el': 'Greek',\n",
       " 'en': 'English',\n",
       " 'eo': 'Esperanto',\n",
       " 'es': 'Spanish',\n",
       " 'et': 'Estonian',\n",
       " 'eu': 'Basque',\n",
       " 'fa': 'Persian',\n",
       " 'fi': 'Finnish',\n",
       " 'fr': 'French',\n",
       " 'ga': 'Irish',\n",
       " 'gl': 'Galician',\n",
       " 'gu': 'Gujarati',\n",
       " 'ha': 'Hausa',\n",
       " 'he': 'Hebrew',\n",
       " 'hi': 'Hindi',\n",
       " 'hr': 'Croatian',\n",
       " 'hu': 'Hungarian',\n",
       " 'hy': 'Armenian',\n",
       " 'id': 'Indonesian',\n",
       " 'it': 'Italian',\n",
       " 'ja': 'Japanese',\n",
       " 'ka': 'Georgian',\n",
       " 'ko': 'Korean',\n",
       " 'ku': 'Kurdish',\n",
       " 'la': 'Latin',\n",
       " 'lt': 'Lithuanian',\n",
       " 'lv': 'Latvian',\n",
       " 'mk': 'Macedonian',\n",
       " 'mr': 'Marathi',\n",
       " 'ms': 'Malay',\n",
       " 'nb': 'Norwegian (Bokmål)',\n",
       " 'nl': 'Dutch',\n",
       " 'no': 'Norwegian',\n",
       " 'np': 'Nepali',\n",
       " 'pl': 'Polish',\n",
       " 'pt': 'Portuguese',\n",
       " 'ro': 'Romanian',\n",
       " 'ru': 'Russian',\n",
       " 'sk': 'Slovak',\n",
       " 'sl': 'Slovenian',\n",
       " 'so': 'Somali',\n",
       " 'sr': 'Serbian',\n",
       " 'st': 'Sotho, Southern',\n",
       " 'sv': 'Swedish',\n",
       " 'sw': 'Swahili',\n",
       " 'ta': 'Tamil',\n",
       " 'th': 'Thai',\n",
       " 'tl': 'Tagalog',\n",
       " 'tr': 'Turkish',\n",
       " 'uk': 'Ukrainian',\n",
       " 'ur': 'Urdu',\n",
       " 'vi': 'Vietnamese',\n",
       " 'yo': 'Yoruba',\n",
       " 'zh': 'Chinese',\n",
       " 'zu': 'Zulu'}"
      ]
     },
     "execution_count": 4,
     "metadata": {},
     "output_type": "execute_result"
    }
   ],
   "source": [
    "get_available_languages()"
   ]
  },
  {
   "cell_type": "markdown",
   "metadata": {},
   "source": [
    "## Let's get the content of the main page\n",
    "\n",
    "Next let's scrape and then parse the Hyper Text Markup Language (HTML) of the website's main page."
   ]
  },
  {
   "cell_type": "code",
   "execution_count": 5,
   "metadata": {
    "pycharm": {
     "name": "#%%\n"
    }
   },
   "outputs": [],
   "source": [
    "url = 'http://fox13now.com/2013/12/30/new-year-new-laws-obamacare-pot-guns-and-drones/'\n",
    "article = Article(url)\n",
    "article.build()"
   ]
  },
  {
   "cell_type": "markdown",
   "metadata": {
    "pycharm": {
     "name": "#%% md\n"
    }
   },
   "source": [
    "## Let's look at the information that we found on the web page\n"
   ]
  },
  {
   "cell_type": "code",
   "execution_count": 6,
   "metadata": {
    "pycharm": {
     "name": "#%%\n"
    }
   },
   "outputs": [
    {
     "data": {
      "text/plain": [
       "['Http', 'Facebook']"
      ]
     },
     "execution_count": 6,
     "metadata": {},
     "output_type": "execute_result"
    }
   ],
   "source": [
    "article.authors\n"
   ]
  },
  {
   "cell_type": "code",
   "execution_count": 7,
   "metadata": {
    "pycharm": {
     "name": "#%%\n"
    }
   },
   "outputs": [
    {
     "data": {
      "text/plain": [
       "datetime.datetime(2013, 12, 30, 0, 0)"
      ]
     },
     "execution_count": 7,
     "metadata": {},
     "output_type": "execute_result"
    }
   ],
   "source": [
    "article.publish_date"
   ]
  },
  {
   "cell_type": "code",
   "execution_count": 8,
   "metadata": {
    "pycharm": {
     "name": "#%%\n"
    }
   },
   "outputs": [
    {
     "data": {
      "text/plain": [
       "'× New Year, new laws: Obamacare, pot, guns and drones\\n\\nBy Leigh Ann Caldwell\\n\\nWASHINGTON (CNN) — Not everyone subscribes to a New Year’s resolution, but Americans will be required to follow new laws in 2014.\\n\\nSome 40,000 measures taking effect range from sweeping, national mandates under Obamacare to marijuana legalization in Colorado, drone prohibition in Illinois and transgender protections in California.\\n\\nAlthough many new laws are controversial, they made it through legislatures, public referendum or city councils and represent the shifting composition of American beliefs.\\n\\nFederal: Health care, of course, and vending machines\\n\\nThe biggest and most politically charged change comes at the federal level with the imposition of a new fee for those adults without health insurance.\\n\\nFor 2014, the penalty is either $95 per adult or 1% of family income, whichever results in a larger fine.\\n\\nThe Obamacare, of Affordable Care Act, mandate also requires that insurers cover immunizations and some preventive care.\\n\\nAdditionally, millions of poor Americans will receive Medicaid benefits starting January 1.\\n\\nThousands of companies will have to provide calorie counts for products sold in vending machines.\\n\\nLocal: Guns, family leave and shark fins\\n\\nConnecticut: While no national legislation was approved to tighten gun laws a year after the Newtown school shooting, Connecticut is implementing a final round of changes to its books: All assault weapons and large capacity magazines must be registered.\\n\\nOregon: Family leave in Oregon has been expanded to allow eligible employees two weeks of paid leave to handle the death of a family member.\\n\\nCalifornia: Homeless youth are eligible to receive food stamps. The previous law had a minimum wage requirement.\\n\\nDelaware: Delaware is the latest in a growing number of states where residents can no longer possess, sell or distribute shark fins, which is considered a delicacy in some East Asian cuisine.\\n\\nIllinois and drones\\n\\nIllinois: passed two laws limiting the use of drones. One prohibits them from interfering with hunters and fisherman. The measure passed after the group People for the Ethical Treatment of Animals said it would use drones to monitor hunters. PETA said it aims through its “air angels” effort to protect against “cruel” and “illegal” hunting.\\n\\nAlso in Illinois, another law prohibits the use of drones for law enforcement without a warrant.\\n\\nGender and voting identity\\n\\nCalifornia: Students can use bathrooms and join school athletic teams “consistent with their gender identity,” even if it’s different than their gender at birth.\\n\\nArkansas: The state becomes the latest state requiring voters show a picture ID at the voting booth.\\n\\nMinimum wage and former felon employment\\n\\nWorkers in 13 states and four cities will see increases to the minimum wage.\\n\\nWhile most amount to less than 15 cents per hour, workers in places like New Jersey, and Connecticut.\\n\\nNew Jersey residents voted to raise the state’s minimum wage by $1 to $8.25 per hour. And in Connecticut, lawmakers voted to raise it between 25 and 75 cents to $8.70. The wage would go up to $8 in Rhode Island and New York.\\n\\nCalifornia is also raising its minimum wage to $9 per hour, but workers must wait until July to see the addition.\\n\\nRhode Island: It is the latest state to prohibit employers from requiring job applicants to signify if they have a criminal record on a job application.\\n\\nSocial media and pot\\n\\nOregon: Employers and schools can’t require a job or student applicant to provide passwords to social media accounts.\\n\\nColorado: Marijuana becomes legal in the state for buyers over 21 at a licensed retail dispensary.\\n\\n(Sourcing: much of this list was obtained from the National Conference of State Legislatures).'"
      ]
     },
     "execution_count": 8,
     "metadata": {},
     "output_type": "execute_result"
    }
   ],
   "source": [
    "article.text"
   ]
  },
  {
   "cell_type": "code",
   "execution_count": 9,
   "metadata": {
    "pycharm": {
     "name": "#%%\n"
    }
   },
   "outputs": [
    {
     "data": {
      "text/plain": [
       "'https://localtvkstu.files.wordpress.com/2012/04/national-news-e1486938949489.jpg?quality=85&strip=all'"
      ]
     },
     "execution_count": 9,
     "metadata": {},
     "output_type": "execute_result"
    }
   ],
   "source": [
    "article.top_image"
   ]
  },
  {
   "cell_type": "code",
   "execution_count": 10,
   "metadata": {
    "pycharm": {
     "name": "#%%\n"
    }
   },
   "outputs": [
    {
     "data": {
      "text/plain": [
       "[]"
      ]
     },
     "execution_count": 10,
     "metadata": {},
     "output_type": "execute_result"
    }
   ],
   "source": [
    "article.movies"
   ]
  },
  {
   "cell_type": "code",
   "execution_count": 11,
   "metadata": {
    "pycharm": {
     "name": "#%%\n"
    }
   },
   "outputs": [
    {
     "data": {
      "text/plain": [
       "['laws',\n",
       " 'state',\n",
       " 'minimum',\n",
       " 'wage',\n",
       " 'states',\n",
       " 'drones',\n",
       " 'pot',\n",
       " 'guns',\n",
       " 'family',\n",
       " 'obamacare']"
      ]
     },
     "execution_count": 11,
     "metadata": {},
     "output_type": "execute_result"
    }
   ],
   "source": [
    "article.keywords"
   ]
  },
  {
   "cell_type": "code",
   "execution_count": 12,
   "metadata": {
    "pycharm": {
     "name": "#%%\n"
    }
   },
   "outputs": [
    {
     "data": {
      "text/plain": [
       "'× New Year, new laws: Obamacare, pot, guns and dronesBy Leigh Ann CaldwellWASHINGTON (CNN) — Not everyone subscribes to a New Year’s resolution, but Americans will be required to follow new laws in 2014.\\nOregon: Family leave in Oregon has been expanded to allow eligible employees two weeks of paid leave to handle the death of a family member.\\nMinimum wage and former felon employmentWorkers in 13 states and four cities will see increases to the minimum wage.\\nNew Jersey residents voted to raise the state’s minimum wage by $1 to $8.25 per hour.\\nCalifornia is also raising its minimum wage to $9 per hour, but workers must wait until July to see the addition.'"
      ]
     },
     "execution_count": 12,
     "metadata": {},
     "output_type": "execute_result"
    }
   ],
   "source": [
    "article.summary"
   ]
  },
  {
   "cell_type": "markdown",
   "metadata": {},
   "source": [
    "## Next Find all of the URLs in CNN's website"
   ]
  },
  {
   "cell_type": "code",
   "execution_count": 13,
   "metadata": {
    "pycharm": {
     "name": "#%%\n"
    }
   },
   "outputs": [
    {
     "name": "stdout",
     "output_type": "stream",
     "text": [
      "memo file for cnn.com has already been deleted!\n",
      "https://www.cnn.com/2020/05/08/politics/irs-stimulus-payments-waits-tool-glitch/index.html\n",
      "https://www.cnn.com/2020/05/08/economy/april-jobs-report-2020-coronavirus/index.html\n",
      "https://www.cnn.com/2020/05/08/sport/tom-brady-buccaneers-prime-time-spt-intl/index.html\n",
      "https://www.cnn.com/2020/05/07/politics/axl-rose-steve-mnuchin/index.html\n",
      "https://www.cnn.com/2020/05/07/politics/supreme-court-bridgegate-new-jersey-opinion/index.html\n",
      "https://www.cnn.com/2020/05/07/politics/minnesota-reopening/index.html\n",
      "https://www.cnn.com/2020/05/07/politics/supreme-court-new-oral-arguments-format/index.html\n",
      "https://www.cnn.com/2020/05/06/tech/data-breach-passwords-protection/index.html\n",
      "https://www.cnn.com/2020/05/01/tech/iloveyou-virus-computer-security-intl-hnk/index.html\n",
      "https://www.cnn.com/2020/05/08/economy/unemployment-claims-kentucky-hawaii-georgia/index.html\n",
      "https://www.conwaydailysun.com/news/local/ready-set-go-valley-retailers-prepare-to-open/article_1e098090-8fd8-11ea-8a06-739f07b1c351.html\n",
      "https://www.post-gazette.com/news/crime-courts/2020/05/08/SWAT-arrest-of-carjacking-suspect-pittsburgh-northview-heights/stories/202005080072\n",
      "https://www.wapt.com/article/teacher-lawn-art/32393910\n",
      "https://www.laconiadailysun.com/news/local/golfers-see-greener-pastures-ahead/article_d73ce3e8-915b-11ea-9bdf-876336c5335d.html\n",
      "https://myfox8.com/community/teachers-run-68-miles-in-honor-of-graduating-5th-graders-at-fairview-elementary-school-in-high-point\n",
      "https://auburnpub.com/news/local/wells-college-may-shut-down-if-students-cant-return-in-fall/article_89a6be32-e07e-58f0-984f-c5c5449bdb60.html\n",
      "https://www.wbtv.com/2020/05/07/foot-long-wall-flowers-dedicated-healthcare-workers-charlotte\n",
      "https://www.clickorlando.com/news/local/2020/05/08/ocala-mayor-to-discuss-coronavirus-enforcement\n",
      "https://www.lex18.com/news/coronavirus/ky-college-mask-maker-received-more-than-20-000-requests\n",
      "https://www.wkyt.com/content/news/Kentucky-wood-worker-giving-back-with-his-handcrafted-compassion-bow-ties-570295951.html\n",
      "https://minnesota.cbslocal.com/2020/05/08/patrol-woman-runs-across-traffic-and-jumps-down-12-foot-embankment-following-i-35w-rollover-crash\n",
      "https://chicago.cbslocal.com/2020/05/08/some-waiting-for-covid-19-benefits-pay-a-penalty-thats-delaying-payments\n",
      "https://www.kctv5.com/news/local_news/university-of-missouri-now-furloughing-over-500-employees/article_82e0c6aa-9176-11ea-8750-2b469427eb3e.html\n",
      "https://dailyjournalonline.com/news/local/some-churches-resume-services-others-wait/article_15c87f2a-a261-52f9-895e-db5d231b232c.html\n",
      "https://www.wowt.com/content/news/Crete-family-near-Smithfield-plant-mourns-loss-of-grandfather-to-COVID-19--570296891.html\n",
      "https://www.toledoblade.com/a-e/living/2020/05/08/moms-on-the-front-line-women-pulling-extra-duty-mothers-day-coronavirus/stories/20200510032\n",
      "https://www.fox17online.com/sports/former-gvsu-golfer-working-on-the-front-lines-while-symetra-tour-is-suspended\n",
      "https://fox4kc.com/news/im-a-warrior-not-a-worrier-local-world-war-ii-veteran-earns-new-medals-after-beating-covid-19\n",
      "https://www.wdsu.com/article/new-orleans-veterans-help-in-the-fight-against-covid-19/32410241\n",
      "https://www.cnn.com/2020/05/08/politics/donald-trump-staffers-coronavirus/index.html\n",
      "https://www.cnn.com/2020/05/08/politics/richard-bright-removal-retaliation/index.html\n",
      "https://www.cnn.com/2020/05/08/politics/core-issue-supreme-court-trump-financial-documents-case/index.html\n",
      "https://www.cnn.com/2020/05/08/politics/tara-reade-interview/index.html\n",
      "https://www.cnn.com/2020/05/08/politics/vice-president-mike-pence-staff-member-coronavirus/index.html\n",
      "https://www.cnn.com/2020/05/08/politics/jeff-sessions-donald-trump-obligated/index.html\n",
      "https://www.cnn.com/2020/05/08/politics/ppe-contracts-states-fraud-waste-scramble-coronavirus/index.html\n",
      "https://www.cnn.com/2020/05/09/politics/us-leadership-coronavirus-intl/index.html\n",
      "https://www.cnn.com/2020/05/08/politics/ken-buck-colorado-state-senate-election/index.html\n",
      "https://www.cnn.com/2020/05/08/politics/unemployment-benefits-state-trust-fund-loans/index.html\n",
      "https://www.cnn.com/2020/05/08/politics/china-twitter-disinformation-bots-state-department/index.html\n",
      "https://www.cnn.com/2020/05/08/politics/coronavirus-loans-paycheck-protection-program/index.html\n",
      "https://www.cnn.com/2020/05/08/politics/fbi-director-christopher-wray-flynn-justice-department/index.html\n",
      "https://www.cnn.com/2020/05/08/politics/california-mail-in-voting/index.html\n",
      "https://www.cnn.com/2020/05/08/politics/stephen-miller-immigration-coronavirus-white-house/index.html\n",
      "https://www.cnn.com/2020/05/08/politics/state-emergency-funding-covid/index.html\n",
      "https://www.cnn.com/2020/05/07/politics/donald-trump-coronavirus-cdc-michael-flynn-william-barr-russia-investigation/index.html\n",
      "https://www.cnn.com/2020/05/08/politics/tammy-duckworth-cares-act-stimulus-check/index.html\n",
      "https://www.cnn.com/2020/05/08/politics/ted-cruz-texas-hair-salon-shelley-luther/index.html\n",
      "https://www.cnn.com/2020/05/08/politics/us-postal-service-coronavirus/index.html\n",
      "https://www.cnn.com/2020/05/08/politics/donald-trump-ahmaud-arbery-video/index.html\n",
      "https://www.cnn.com/2020/05/08/politics/bernie-sanders-covid-payments-kamala-harris/index.html\n",
      "https://www.cnn.com/2020/05/07/politics/kayleigh-mcenany-trump-2015/index.html\n",
      "https://www.cnn.com/2020/05/08/politics/louisiana-coronavirus-absentee-ballots/index.html\n",
      "https://www.cnn.com/2020/05/07/politics/gretchen-whitmer-coronavirus-stay-home-order/index.html\n",
      "https://www.cnn.com/2020/05/06/politics/small-business-ppp-loans-by-state/index.html\n",
      "https://www.cnn.com/2020/05/05/politics/tara-reade-1993-joe-biden-complaint/index.html\n",
      "https://www.cnn.com/2020/05/06/politics/human-rights-campaign-endorses-joe-biden/index.html\n",
      "https://www.cnn.com/2020/05/07/cnn-underscored/mothers-day-gifts-last-minute/index.html\n",
      "https://www.cnn.com/2020/05/08/cnn-underscored/best-on-ear-headphones/index.html\n",
      "https://www.cnn.com/2020/04/03/cnn-underscored/american-express-amazon-discount-promotion/index.html\n",
      "https://www.cnn.com/2020/05/01/cnn-underscored/virtual-graduation-party/index.html\n",
      "https://www.cnn.com/2020/05/04/cnn-underscored/rastellis-meat-delivery-review/index.html\n",
      "https://www.cnn.com/2020/05/07/cnn-underscored/apple-airpods-pro-sale-deal-att/index.html\n",
      "https://www.cnn.com/2020/05/04/cnn-underscored/how-to-tie-dye/index.html\n",
      "https://www.cnn.com/2020/05/06/cnn-underscored/best-above-ground-pools/index.html\n",
      "https://www.cnn.com/2020/05/08/cnn-underscored/best-books-of-2020/index.html\n",
      "https://www.cnn.com/2020/04/24/cnn-underscored/how-to-make-face-mask-at-home/index.html\n",
      "https://www.cnn.com/2020/05/08/cnn-underscored/speck-iphone-se-second-gen-cases-review/index.html\n",
      "https://www.cnn.com/2020/04/24/cnn-underscored/discover-card-amazon-discount-promotion/index.html\n",
      "https://www.cnn.com/2020/05/08/cnn-underscored/weekend-sales-deals/index.html\n",
      "https://www.cnn.com/2020/04/06/cnn-underscored/apple-watch-sale-series-5-amazon/index.html\n",
      "https://www.cnn.com/2020/05/08/cnn-underscored/ring-chime-pro-review/index.html\n",
      "https://www.cnn.com/2020/05/08/cnn-underscored/cnn-coupons-deals-sales-may-2020/index.html\n",
      "https://www.cnn.com/2020/03/20/cnn-underscored/cnn-underscoreds-coronavirus-coverage/index.html\n",
      "https://www.cnn.com/2020/04/24/cnn-underscored/coronavirus-healthcare-workers-deals-discounts/index.html\n",
      "https://www.cnn.com/2020/05/07/cnn-underscored/pioneer-radio-receivers-alexa-carplay/index.html\n",
      "https://www.cnn.com/2020/05/07/cnn-underscored/cut-household-expenses-30-minutes/index.html\n",
      "https://www.cnn.com/2020/05/07/cnn-underscored/cleankey-brass-hand-tool-antimicrobial-outbrain/index.html\n",
      "https://www.cnn.com/2020/05/07/cnn-underscored/macbook-pro-13-inch-2020-hands-on/index.html\n",
      "https://www.cnn.com/2020/05/07/cnn-underscored/massage-guns-outbrain/index.html\n",
      "https://www.cnn.com/2020/05/07/cnn-underscored/how-to-tie-dye-outbrain/index.html\n",
      "https://www.cnn.com/2020/05/07/cnn-underscored/virtual-graduation-party-outbrain/index.html\n",
      "https://www.cnn.com/2020/05/07/cnn-underscored/nurses-week-2020-gifts/index.html\n",
      "https://www.cnn.com/2020/05/07/cnn-underscored/rifle-paper-co-sale-desk-accessories/index.html\n",
      "https://www.cnn.com/2020/05/07/cnn-underscored/cozy-isolation-essentials-outbrain/index.html\n",
      "https://www.cnn.com/2020/05/07/cnn-underscored/echelon-bike-review/index.html\n",
      "https://www.cnn.com/2020/05/07/cnn-underscored/apple-accessibility-iphone-mac-features/index.html\n",
      "https://www.cnn.com/2020/05/01/cnn-underscored/mothers-day-sales-2020/index.html\n",
      "https://www.cnn.com/2020/04/29/cnn-underscored/unique-gifts-for-mom/index.html\n",
      "https://www.cnn.com/2020/05/07/cnn-underscored/stamina-sale-under-desk-bike-woot/index.html\n",
      "https://www.cnn.com/2020/05/07/cnn-underscored/how-to-clean-makeup-brushes-beauty-supplies/index.html\n",
      "https://www.cnn.com/2020/05/01/cnn-underscored/best-noise-canceling-headphones/index.html\n",
      "https://www.cnn.com/2020/05/06/cnn-underscored/best-noise-canceling-headphones-outbrain/index.html\n",
      "https://www.cnn.com/2020/05/06/cnn-underscored/disney-face-mask-outbrain/index.html\n",
      "https://www.cnn.com/2020/05/06/cnn-underscored/parade-underwear-review-outbrain/index.html\n",
      "https://www.cnn.com/2020/05/06/cnn-underscored/how-to-make-face-mask-at-home-outbrain/index.html\n",
      "https://www.cnn.com/2020/04/29/cnn-underscored/best-kindles-blankets-book-lights-for-book-lovers/index.html\n",
      "https://www.cnn.com/2020/05/06/cnn-underscored/best-kindles-blankets-book-lights-for-book-lovers-outbrain/index.html\n",
      "https://www.cnn.com/2020/05/06/cnn-underscored/sonos-beam-vs-arc/index.html\n",
      "https://www.cnn.com/2020/05/06/cnn-underscored/sonos-arc-pricing-features-preorder/index.html\n",
      "https://www.cnn.com/2017/12/10/cnn-underscored/rosetta-stone-language-course-shop/index.html\n",
      "https://www.cnn.com/2020/05/06/cnn-underscored/coronavirus-healthcare-workers-deals-discounts-outbrain/index.html\n",
      "https://www.cnn.com/2020/04/09/cnn-underscored/puma-sale-sitewide/index.html\n",
      "https://www.cnn.com/2020/01/20/cnn-underscored/best-credit-cards/index.html\n",
      "https://www.cnn.com/2020/05/06/cnn-underscored/best-online-flowers-outbrain/index.html\n",
      "https://www.cnn.com/2020/05/04/cnn-underscored/mothers-day-gifts-2/index.html\n",
      "https://www.cnn.com/2020/05/06/cnn-underscored/otterbox-sale-coolers/index.html\n",
      "https://www.cnn.com/2020/05/06/cnn-underscored/mothers-day-brunch-ideas/index.html\n",
      "https://www.cnn.com/2020/05/06/cnn-underscored/best-puzzles-outbrain/index.html\n",
      "https://www.cnn.com/2020/05/05/cnn-underscored/mothers-day-bouquets/index.html\n",
      "https://www.cnn.com/2020/05/06/cnn-underscored/rastellis-meat-delivery-review-outbrain/index.html\n",
      "https://www.cnn.com/2020/05/06/cnn-underscored/hyperx-sale-mothers-day-deals/index.html\n",
      "https://www.cnn.com/2020/05/06/cnn-underscored/ring-video-doorbell-second-generation-pricing-features-buy/index.html\n",
      "https://www.cnn.com/2020/05/06/cnn-underscored/microsoft-surface-go-2-pricing-features-windows-affordable/index.html\n",
      "https://www.cnn.com/2020/05/06/cnn-underscored/microsoft-surface-headphones-2-features-pricing/index.html\n",
      "https://www.cnn.com/2020/05/06/cnn-underscored/surface-book-3-features-pricing-windows-microsoft/index.html\n",
      "https://www.cnn.com/2020/05/06/cnn-underscored/surface-earbuds-features-pricing-availability/index.html\n",
      "https://www.cnn.com/2020/05/05/cnn-underscored/how-to-make-whipped-coffee-outbrain/index.html\n",
      "https://www.cnn.com/2020/05/05/cnn-underscored/american-express-amazon-discount-promotion-outbrain/index.html\n",
      "https://www.cnn.com/2020/05/05/cnn-underscored/how-to-get-southwest-elite-status/index.html\n",
      "https://www.cnn.com/2020/05/04/cnn-underscored/apple-13-inch-macbook-pro-magic-keyboard-pricing-features-buy/index.html\n",
      "https://www.cnn.com/world/live-news/coronavirus-pandemic-05-09-20-intl/index.html\n",
      "https://www.cnn.com/2020/05/09/politics/americans-grief-and-pain-trump-empathy-missing/index.html\n",
      "https://www.cnn.com/2020/05/08/media/one-america-news-trump/index.html\n",
      "https://www.cnn.com/2020/05/08/world/meanwhile-in-america-may-8-intl/index.html\n",
      "https://www.cnn.com/2020/05/08/politics/barack-obama-george-w-bush-coronavirus-leadership/index.html\n",
      "https://www.cnn.com/2020/05/08/us/ahmaud-arbery-mcmichael-arrests-friday/index.html\n",
      "https://www.cnn.com/2020/05/09/us/south-dakota-sioux-tribes/index.html\n",
      "https://www.cnn.com/2020/05/08/health/coronavirus-triple-therapy-hong-kong-health/index.html\n",
      "https://www.cnn.com/2020/05/08/us/cuomo-child-nyc-dies-coronavirus-trnd/index.html\n",
      "https://www.cnn.com/2020/05/08/us/ny-nurse-steals-from-covid-patient/index.html\n",
      "https://www.cnn.com/2020/05/08/entertainment/brian-may-gardening-injury-scli-intl-gbr/index.html\n",
      "https://www.cnn.com/2020/05/08/us/osu-strauss-abuse-settlement/index.html\n",
      "https://www.cnn.com/2020/05/08/football/uswnt-equal-pay-lawsuit-appeal-spt-intl/index.html\n",
      "https://www.cnn.com/2020/05/08/us/jim-bakker-stroke-trnd/index.html\n",
      "https://www.cnn.com/interactive/2020/05/health/coronavirus-pregnancy-birth-cnnphotos/index.html\n",
      "https://www.cnn.com/2020/05/08/us/roy-horn-of-siegfried-and-roy-dies/index.html\n",
      "https://www.cnn.com/2020/05/09/entertainment/gallery/roy-horn/index.html\n",
      "https://www.cnn.com/2020/05/08/us/coronavirus-pandemic-race-impact-trnd/index.html\n",
      "https://www.cnn.com/2020/05/03/us/coronavirus-funerals-bodies/index.html\n",
      "https://www.cnn.com/style/article/india-bollywood-brownface-hnk-intl/index.html\n",
      "https://www.cnn.com/2020/05/08/entertainment/zoom-theater-of-war-review/index.html\n",
      "https://www.cnn.com/2020/05/08/opinions/terry-crews-rebecca-mothers-day-tribute-breast-cancer-pandemic/index.html\n",
      "https://www.cnn.com/2020/05/08/entertainment/simpsons-coronavirus-insects-predictions/index.html\n",
      "https://www.cnn.com/2020/05/09/world/jupiter-storms-jackolantern-scn/index.html\n",
      "https://www.cnn.com/2020/05/08/europe/nazi-message-ve-day-intl-scli-gbr/index.html\n",
      "https://www.cnn.com/2020/05/06/opinions/wear-the-damn-mask-pearlman/index.html\n",
      "https://www.cnn.com/2020/05/07/opinions/trump-valet-diagnosis-threatens-fantasy-dantonio/index.html\n",
      "https://www.cnn.com/2020/05/07/opinions/donald-trumps-cold-hard-political-calculation-axelrod/index.html\n",
      "https://www.cnn.com/2020/05/08/opinions/coronavirus-apahm-anti-asian-american-discrimination-yang/index.html\n",
      "https://www.cnn.com/2020/05/07/opinions/get-ready-for-a-campaign-season-full-of-china-covid-conspiracy-theories/index.html\n",
      "https://www.cnn.com/2020/05/08/opinions/javits-centers-covid-19-hospital-iscol/index.html\n",
      "https://www.cnn.com/2020/05/08/americas/brazil-coronavirus-bolsonaro-response-intl/index.html\n",
      "https://www.cnn.com/2020/05/08/economy/china-unemployment-intl-hnk/index.html\n",
      "https://www.cnn.com/2020/05/07/americas/ecuador-coronavirus-missing-intl/index.html\n",
      "https://www.cnn.com/style/article/manicure-at-home-mei-kawajiri-nails/index.html\n",
      "https://www.cnn.com/style/article/1990s-fashion-history/index.html\n",
      "https://www.cnn.com/style/article/sr-71-blackbird-spy-plane-design/index.html\n",
      "https://www.cnn.com/style/article/damien-hirst-mschf-severed-spots/index.html\n",
      "https://www.cnn.com/style/article/face-visual-odyssey/index.html\n",
      "https://www.cnn.com/2020/05/08/health/us-coronavirus-friday/index.html\n",
      "https://www.cnn.com/2020/04/24/world/gallery/coronavirus-after-lockdown/index.html\n",
      "https://www.cnn.com/2020/05/05/health/brain-records-memories-scn-wellness/index.html\n",
      "https://www.cnn.com/2020/05/08/health/childhood-vaccines-cdc-covid-wellness/index.html\n",
      "https://www.cnn.com/2020/05/08/health/germany-south-korea-easing-coronavirus-measures-intl/index.html\n",
      "https://www.cnn.com/2020/05/08/health/single-mom-challenges-mothers-day-coronavirus-wellness/index.html\n",
      "https://www.cnn.com/2020/05/08/health/coronavirus-deaths-of-despair/index.html\n",
      "https://www.cnn.com/2020/05/07/health/remdesivir-access-transparency/index.html\n",
      "https://www.cnn.com/2020/03/19/world/gallery/novel-coronavirus-outbreak/index.html\n",
      "https://www.cnn.com/2020/05/08/health/free-health-clinics-insurance-unemployment-coronavirus-wellness-partner/index.html\n",
      "https://www.cnn.com/2020/05/08/health/hong-kong-rat-hepatitis-intl-hnk-scn/index.html\n",
      "https://www.cnn.com/2020/05/08/health/getting-to-doctor-coronavirus-wellness/index.html\n",
      "https://www.cnn.com/2020/05/08/health/coronavirus-testing-falls-short/index.html\n",
      "https://www.cnn.com/2020/05/07/health/coronavirus-semen-china-health/index.html\n",
      "https://www.cnn.com/videos/health/2020/05/08/coronavirus-children-new-york-gov-cuomo-sot-vpx.state-of-new-york\n",
      "https://www.cnn.com/videos/business/2020/05/08/jeep-wrangler-crash-test-orig.cnn-business\n",
      "https://www.cnn.com/videos/business/2020/05/08/espn-scott-van-pelt-no-sports-orig.cnn-business\n",
      "https://www.cnn.com/2020/05/08/entertainment/taylor-swift-television-concert-trnd/index.html\n",
      "https://www.cnn.com/2020/05/08/entertainment/i-know-this-much-is-true-review/index.html\n",
      "https://www.cnn.com/2020/05/08/entertainment/tim-mcgraw-i-called-mama/index.html\n",
      "https://www.cnn.com/2020/05/08/entertainment/ariana-grande-bieber-stuck-boyfriend/index.html\n",
      "https://www.cnn.com/2020/05/08/entertainment/andrew-cuomo-robert-de-niro/index.html\n",
      "https://www.cnn.com/2020/05/08/entertainment/spike-lee-film-tribute-new-york-city/index.html\n",
      "https://www.cnn.com/2020/05/07/entertainment/blues-musicians-pandemic/index.html\n",
      "https://www.cnn.com/2020/05/06/entertainment/dead-to-me-season-2-review/index.html\n",
      "https://www.cnn.com/2020/05/07/entertainment/the-view/index.html\n",
      "https://www.cnn.com/2020/05/08/entertainment/betty-white-harry-meghan-lifetime/index.html\n",
      "https://www.cnn.com/2020/05/06/entertainment/disney-family-singalong-volume-ii/index.html\n",
      "https://www.cnn.com/2020/05/07/entertainment/florence-pugh-zach-braff-trnd/index.html\n",
      "https://www.cnn.com/2020/05/07/entertainment/spaceship-earth-review/index.html\n",
      "https://www.cnn.com/2020/05/06/entertainment/killing-eve-real-murders-inspired-intl-scli/index.html\n",
      "https://www.cnn.com/2020/05/07/entertainment/andy-serkis-hobbit-reading-nhs-scli-intl/index.html\n",
      "https://www.cnn.com/2020/05/06/entertainment/adele-weight-loss/index.html\n",
      "https://www.cnn.com/2020/05/05/entertainment/becoming-review/index.html\n",
      "https://www.cnn.com/2020/05/06/entertainment/miranda-lambert-roadtrip-airstream-trailer-trnd/index.html\n",
      "https://www.cnn.com/2020/05/05/entertainment/jesse-eisenberg-middle-way-house/index.html\n",
      "https://www.cnn.com/2020/05/05/entertainment/instagram-live-celebs/index.html\n",
      "https://www.cnn.com/2020/05/05/entertainment/wendy-williams-show-home-coronavirus/index.html\n",
      "https://www.cnn.com/2020/05/05/entertainment/jerry-seinfeld-23-hours-trnd/index.html\n",
      "https://www.cnn.com/2020/04/24/entertainment/bad-education-review/index.html\n",
      "https://www.cnn.com/2020/04/30/entertainment/what-to-watch-movies-series-may/index.html\n",
      "https://www.cnn.com/2020/05/01/entertainment/billions-season-5-review/index.html\n",
      "https://www.cnn.com/2020/05/04/entertainment/natalie-wood-what-remains-behind-review/index.html\n",
      "https://www.cnn.com/2020/04/17/entertainment/social-distancing-tv/index.html\n",
      "https://www.cnn.com/2020/04/06/entertainment/quibi-review/index.html\n",
      "https://www.cnn.com/2020/05/08/tech/apple-stores-reopening-us/index.html\n",
      "https://www.cnn.com/2020/05/08/tech/covid-viral-misinformation/index.html\n",
      "https://www.cnn.com/2020/05/08/tech/tech-companies-working-remotely-2020/index.html\n",
      "https://www.cnn.com/2020/05/08/tech/singapore-coronavirus-social-distancing-robot-intl-hnk/index.html\n",
      "https://www.cnn.com/2020/05/08/tech/kingsoft-chinese-ipo-intl-hnk/index.html\n",
      "https://www.cnn.com/2020/05/07/tech/reliance-jio-vista-india-intl-hnk/index.html\n",
      "https://www.cnn.com/2020/05/07/tech/uber-earnings/index.html\n",
      "https://www.cnn.com/2020/05/07/tech/lyft-masks-riders-drivers/index.html\n",
      "https://www.cnn.com/2020/05/07/tech/alphabet-toronto-sidewalk-labs-smart-city/index.html\n",
      "https://www.cnn.com/2020/05/07/tech/nintendo-earnings-intl-hnk/index.html\n",
      "https://www.cnn.com/2020/05/07/tech/o2-virgin-media-merger/index.html\n",
      "https://www.cnn.com/2020/05/06/tech/tech-companies-first-quarter-earnings/index.html\n",
      "https://www.cnn.com/2020/05/06/tech/facebook-oversight-board/index.html\n",
      "https://www.cnn.com/2020/05/06/tech/uber-layoffs/index.html\n",
      "https://www.cnn.com/2020/05/06/tech/samsung-heir-jay-y-lee/index.html\n",
      "https://www.cnn.com/2020/05/05/tech/activision-blizzard-q1-2020-earnings/index.html\n",
      "https://www.cnn.com/2020/05/05/tech/california-ag-sues-uber-lyft/index.html\n",
      "https://www.cnn.com/2020/05/05/tech/airbnb-layoffs/index.html\n",
      "https://www.cnn.com/2020/05/05/tech/spacex-nasa-crew-dragon-astronauts-robert-behnken-and-douglas-hurley-scn/index.html\n",
      "https://www.cnn.com/travel/article/iata-middle-seats-face-masks-coronavirus-intl-hnk/index.html\n",
      "https://www.cnn.com/travel/article/best-scuba-diving-destinations/index.html\n",
      "https://www.cnn.com/2020/05/05/us/naked-bike-ride-portland-coronavirus-trnd/index.html\n",
      "https://www.cnn.com/travel/article/ghost-stations-beneath-london/index.html\n",
      "https://www.cnn.com/travel/article/boeing-747-covid-19/index.html\n",
      "https://www.cnn.com/travel/article/japan-coronavirus-staycation-relationship-hnk-intl/index.html\n",
      "https://www.cnn.com/travel/article/new-zealand-australia-travel-bubble-intl-hnk/index.html\n",
      "https://www.cnn.com/travel/article/italy-genoa-new-bridge/index.html\n",
      "https://www.cnn.com/travel/article/cruise-industry-coronavirus-aftermath/index.html\n",
      "https://www.cnn.com/2020/05/01/us/grim-reaper-florida-beaches-trnd/index.html\n",
      "https://www.cnn.com/2020/05/03/us/911-museum-continues-during-coronavirus-trnd/index.html\n",
      "https://www.cnn.com/travel/article/disney-world-disneyland-reopening-outlook-pandemic-trnd/index.html\n",
      "https://www.cnn.com/travel/article/maldives-tourists-coronavirus-trnd/index.html\n",
      "https://www.cnn.com/travel/article/masks-delta-american-frontier/index.html\n",
      "https://www.cnn.com/travel/article/asia-domestic-flights-covid-19-intl-hnk/index.html\n",
      "https://www.cnn.com/travel/article/taiwan-bubble-tea-origins/index.html\n",
      "https://www.cnn.com/travel/article/college-football-travel/index.html\n",
      "https://www.cnn.com/travel/article/netherlands-tulips-coronavirus-travel-trnd/index.html\n",
      "https://www.cnn.com/travel/article/airlines-masks-middle-seats-beverage-service/index.html\n",
      "https://www.cnn.com/travel/article/san-antonio-zoo-drive-thru-trnd/index.html\n",
      "https://www.cnn.com/travel/article/senior-dog-travel/index.html\n",
      "https://www.cnn.com/travel/article/ancient-egypt-discoveries-saqqara/index.html\n",
      "https://www.cnn.com/travel/article/future-travel-bookings-pandemic/index.html\n",
      "https://www.cnn.com/travel/article/dutch-teens-wylde-swan-atlantic-crossing-coronavirus-scli-intl/index.html\n",
      "https://www.cnn.com/travel/article/i-bought-a-hotel-by-mistake/index.html\n",
      "https://www.cnn.com/videos/business/2020/05/07/sheryl-sandberg-working-mother-covid-19-orig.cnn-business\n",
      "https://www.cnn.com/2020/05/07/business/australia-tidal-energy-gec-spc/index.html\n",
      "https://www.cnn.com/2020/05/07/economy/uk-economy-bank-of-england/index.html\n",
      "https://www.cnn.com/2020/01/06/tech/lithium-sulfur-battery-scli-intl-scn/index.html\n",
      "https://www.cnn.com/2019/07/20/health/iyw-cities-losing-36-million-trees-how-to-help-trnd/index.html\n",
      "https://www.cnn.com/2019/07/11/us/miami-little-haiti-climate-gentrification-weir-wxc/index.html\n",
      "https://www.cnn.com/2019/07/12/health/rich-people-climate-change-intl/index.html\n",
      "https://www.cnn.com/style/article/sanne-de-wilde-island-of-the-colorblind/index.html\n",
      "https://www.cnn.com/style/article/jason-chongue-plants-sanctuaries/index.html\n",
      "https://www.cnn.com/style/article/buddhist-art-images/index.html\n",
      "https://www.cnn.com/style/article/sex-tech-design/index.html\n",
      "https://www.cnn.com/style/article/vermeer-dutch-master-lockdown/index.html\n",
      "https://www.cnn.com/travel/article/cruise-ship-crew-stuck-at-sea/index.html\n",
      "https://www.cnn.com/travel/article/lleida-alguaire-industrial-airport-spain/index.html\n",
      "https://www.cnn.com/travel/article/hotels-safety-coronavirus/index.html\n",
      "https://www.cnn.com/travel/article/world-best-food-dishes/index.html\n",
      "https://www.cnn.com/travel/article/joe-cummings-lonely-planet-thailand/index.html\n",
      "https://www.cnn.com/2020/04/01/us/coronavirus-rvs-4-mds-healthcare-isolate-trnd/index.html\n",
      "https://www.cnn.com/2020/05/07/us/coronavirus-free-meals-struggling-restaurants-cnnheroes/index.html\n",
      "https://www.comparecards.com/guide/heres-a-brilliant-way-to-pay-credit-cards?esourceid=6315166&amp;utm_source=cnn&amp;utm_medium=native&amp;pla=cnn.com&amp;bdst=rv&amp;acqs=prospecting&amp;utm_campaign=sectionfront&amp;grp=brilliant-way&amp;tar=sectionfront&amp;utm_content=follow+these+steps+and+start+to+become+card+debt+free&amp;adt=cardswoodtable&amp;mtaid=8631C&amp;ad_group_name=brilliant-way&amp;ad_position=1&amp;campaign_name=sectionfront_brilliant-way&amp;placement_name=sectionfront&amp;ad_headline=follow+these+steps+and+start+to+become+card+debt+free&amp;ad_image_name=cardswoodtable\n",
      "https://www.comparecards.com/guide/credit-cards-to-have-you-flying-in-no-time?esourceid=6317676&amp;utm_source=cnn&amp;utm_medium=native&amp;pla=cnn.com&amp;bdst=rv&amp;acqs=prospecting&amp;utm_campaign=sectionfront&amp;grp=travel-no-time&amp;tar=sectionfront&amp;utm_content=3+travel+cards+to+get+your+next+flight+practically+for+free&amp;adt=cardswoodtable&amp;mtaid=8631C&amp;ad_group_name=travel-no-time&amp;ad_position=2&amp;campaign_name=sectionfront_travel-no-time&amp;placement_name=sectionfront&amp;ad_headline=3+travel+cards+to+get+your+next+flight+practically+for+free&amp;ad_image_name=cardswoodtable\n",
      "https://www.cnn.com/business/media\n",
      "https://www.comparecards.com/guide/top-credit-cards-for-those-with-excellent-credit?esourceid=6366296&utm_source=cnn&utm_medium=native&pla=cnn.com&bdst=rv&acqs=prospecting&utm_campaign=cnnbizhomepage&grp=excellent-credit&tar=cnnbizhomepage&utm_content=gettingapprovedmeansexcred&adt=moneyjarfadedflag&mtaid=8631C&ad_group_name=excellent-credit&ad_position=2&campaign_name=cnnbizhomepage_excellent-credit&placement_name=cnnbizhomepage&ad_headline=gettingapprovedmeansexcred&ad_image_name=moneyjarfadedflag\n",
      "https://www.fool.com/mms/mark/e-sa-5-stocks-under-50?utm_source=cnnmoney&utm_medium=contentmarketing&utm_campaign=5stocksunder50-50dollars&paid=9394&waid=9394&aid=9394&psource=esacnnwdg0210055&source=esacnnwdg0210055&wsource=esacnnwdg0210055\n",
      "https://www.comparecards.com/guide/heres-a-brilliant-way-to-pay-credit-cards?esourceid=6315166&utm_source=cnn&utm_medium=native&pla=cnn.com&bdst=rv&acqs=prospecting&utm_campaign=sectionfront&grp=brilliant-way&tar=sectionfront&utm_content=follow+these+steps+and+start+to+become+card+debt+free&adt=cardswoodtable&mtaid=8631C&ad_group_name=brilliant-way&ad_position=1&campaign_name=sectionfront_brilliant-way&placement_name=sectionfront&ad_headline=follow+these+steps+and+start+to+become+card+debt+free&ad_image_name=cardswoodtable\n",
      "https://www.comparecards.com/guide/credit-cards-to-have-you-flying-in-no-time?esourceid=6317676&utm_source=cnn&utm_medium=native&pla=cnn.com&bdst=rv&acqs=prospecting&utm_campaign=sectionfront&grp=travel-no-time&tar=sectionfront&utm_content=3+travel+cards+to+get+your+next+flight+practically+for+free&adt=cardswoodtable&mtaid=8631C&ad_group_name=travel-no-time&ad_position=2&campaign_name=sectionfront_travel-no-time&placement_name=sectionfront&ad_headline=3+travel+cards+to+get+your+next+flight+practically+for+free&ad_image_name=cardswoodtable\n",
      "http://www.cnn.com/style/article/bamboo-scaffolding-artisans-macao/index.html\n",
      "https://edition.cnn.com/interactive/2019/11/style/louvre-abu-dhabi-collection\n",
      "http://www.cnn.com/interactive/2016/12/specials/vanishing\n",
      "http://www.cnn.com/interactive/2016/12/world/midway-plastic-island\n",
      "http://www.cnn.com/interactive/2017/02/health/nursing-home-aide-rape-charges\n",
      "http://www.cnn.com/interactive/2017/02/health/nursing-home-sex-abuse-investigation\n",
      "http://www.cnn.com/interactive/2017/04/health/dreams-of-baby-noor\n",
      "http://www.cnn.com/interactive/2017/02/us/first-time-i-realized-i-was-black\n",
      "http://www.cnn.com/interactive/2015/10/us/other-gun-lobby\n",
      "http://money.cnn.com/2016/09/21/news/economy/white-working-class-government/index.html?iid=hp-toplead-dom\n",
      "http://www.cnn.com/2016/09/19/politics/trump-supporters-working-class-white-kaiser-family-foundation-infographic/index.html\n",
      "http://money.cnn.com/2016/09/23/news/economy/white-working-class-economy/index.html\n",
      "http://www.cnn.com/interactive/2014/05/specials/city-of-tomorrow/index.html\n",
      "http://www.cnn.com/interactive/2014/09/health/cnn10-healthiest-cities\n",
      "https://cnnespanol.cnn.com/2020/05/08/investigadores-chinos-encuentran-coronavirus-en-semen-de-hombres\n",
      "https://cnnespanol.cnn.com/2020/05/07/polillas-gitanas-el-estado-de-washington-ahora-tiene-otro-bicho-por-el-cual-preocuparse-tras-los-avispones-gigantes\n",
      "https://cnnespanol.cnn.com/2020/04/06/preguntas-coronavirus\n",
      "https://cnnespanol.cnn.com/2020/03/23/cnn-en-espanol-lanza-un-podcast-sobre-el-coronavirus-con-el-doctor-elmer-huerta\n",
      "https://cnnespanol.cnn.com/2020/05/08/coronavirus-8-de-mayo-minuto-a-minuto-de-la-pandemia-mas-de-38-millones-de-casos-de-covid-19-se-han-registrado-en-el-mundo\n",
      "https://cnnespanol.cnn.com/2020/05/08/manaos-la-puerta-de-entrada-al-amazonas-brasileno-sufre-en-su-lucha-contra-el-coronavirus\n",
      "https://cnnespanol.cnn.com/2020/05/08/alerta-venezuela-detenidos-en-presunta-incursion-maritima-seran-imputados-este-viernes\n",
      "https://cnnespanol.cnn.com/2020/05/08/la-tasa-de-desempleo-de-los-hispanos-en-ee-uu-alcanzo-un-record-de-189\n",
      "https://cnnespanol.cnn.com/2020/05/08/un-virus-tardo-4-meses-en-hacerle-esto-a-ee-uu\n",
      "https://cnnespanol.cnn.com/2020/05/08/roy-horn-uno-de-los-magos-de-siegfried-roy-murio-de-covid-19\n",
      "https://cnnespanol.cnn.com/2020/05/08/otro-ejemplo-de-prediccion-del-futuro-de-los-simpson\n",
      "https://cnnespanol.cnn.com/2020/05/08/las-ratas-estan-infectando-a-los-humanos-con-hepatitis-y-nadie-sabe-como\n",
      "https://cnnespanol.cnn.com/video/netflix-comedias-romanticas-top-rotten-tomatoes-perspectivas-buenos-aires-cnnee\n",
      "https://cnnespanol.cnn.com/video/argentina-nuevas-medidas-para-la-cuarentena-alberto-fernandez-perspectivas-buenos-aires-cnnee\n",
      "https://cnnespanol.cnn.com/2020/05/08/un-vortice-polar-debil-llevara-un-record-de-bajas-temperaturas-a-estados-unidos\n",
      "https://cnnespanol.cnn.com/2020/05/08/alerta-el-salvador-bukele-defiende-medidas-drasticas-y-acusa-a-opositores-de-querer-ver-cadaveres-tirados-en-las-aceras\n",
      "https://cnnespanol.cnn.com/video/tarek-william-saab-detenidos-operacion-gedeon-imputados-tribunales-intvw-osmary-hernandez-digital\n",
      "https://cnnespanol.cnn.com/video/luisa-serna-recomendaciones-10-mayo-dia-madre-regalos-revista-regina-perspectivas-mexico\n",
      "https://cnnespanol.cnn.com/video/una-repartidora-de-cartas-interrumpe-un-tik-tok-y-se-vuelve-viral-pkg-digital-original-patino\n",
      "https://cnnespanol.cnn.com/video/velociraptor-jurassic-park-errores-equivoco-spielberg-cientificos-parque-jurasico-digital-pkg\n",
      "https://cnnespanol.cnn.com/video/mexico-busca-vacuna-contra-coronavirus-universal-estrategica-ebrard-onu-euros-perspectivas-mexico-sot\n",
      "https://cnnespanol.cnn.com/video/andy-serkis-the-hobbit-encuentro-cnne\n",
      "https://cnnespanol.cnn.com/video/austiaustin-texas-kay-denman-luke-venezuela-militares-veteranos-estadounidenses-perspectivas-buenos-aires-cnne\n",
      "https://cnnespanol.cnn.com/video/ranking-dia-madres-paises-regalos-buscados-google-perspectivas-buenos-aires-cnnee\n",
      "https://cnnespanol.cnn.com/video/tratamiento-anticuerpos-monoclonales-covid-19-coronavirus-pkg-elizabeth-cohen\n",
      "https://cnnespanol.cnn.com/2020/04/27/este-mapa-te-muestra-la-situacion-del-coronavirus-en-el-mundo-en-tiempo-real\n",
      "https://cnnespanol.cnn.com/2020/04/06/el-abc-del-coronavirus-que-es-como-se-contagia-a-quien-afecta-y-como-se-previene\n",
      "https://cnnespanol.cnn.com/2020/04/30/sintomas-del-coronavirus-10-indicadores-clave-y-que-hacer\n",
      "https://cnnespanol.cnn.com/2020/04/05/como-hacer-tu-propia-mascara-protectora\n",
      "https://cnnespanol.cnn.com/cnne-underscored/2020/05/07/has-perdido-tu-empleo-dedica-30-minutos-a-reducir-estos-tres-gastos-principales-en-el-hogar/?iid=cnneunderscoredDTHP\n",
      "https://cnnespanol.cnn.com/cnne-underscored/2020/05/07/nuestras-primeras-impresiones-con-las-nuevas-macbook-pro/?iid=cnneunderscoredDTHP\n",
      "https://cnnespanol.cnn.com/cnne-underscored/2020/05/06/si-aun-no-tienes-un-timbre-ring-este-puede-ser-un-buen-momento/?iid=cnneunderscoredDTHP\n",
      "https://cnnespanol.cnn.com/cnne-underscored/2020/05/06/no-puedes-ir-a-la-playa-o-al-lago-este-ano-hora-de-poner-una-piscina-en-el-jardin/?iid=cnneunderscoredDTHP\n",
      "https://cnnespanol.cnn.com/2020/05/08/video-muestra-a-un-hombre-gritando-pandemia-falsa-contra-un-agente-por-usar-una-mascara-facial-en-florida\n",
      "https://cnnespanol.cnn.com/video/estados-unidos-desempleo-porcentaje-abril-perspectivas-buenos-aires-cnnee\n",
      "https://cnnespanol.cnn.com/video/coronavirus-economia-desempleo-al-cardenas-dan-restrepo-octavio-pescador-juan-carlos-lopez-eeuu-pkg\n",
      "https://cnnespanol.cnn.com/video/desempleo-empleo-estados-unidos-coronavirus-cifras-record-gabriela-frias-perspectivas-mexico\n",
      "https://cnnespanol.cnn.com/video/ione-pence-casa-blanca-covid-trump-coronavirus-examenes-pelosi-ione-molinares-juan-carlos-lopez-dusa\n",
      "https://cnnespanol.cnn.com/video/medico-musico-virginia-colombiano-colompiano-alvaro-puig-coronavirus-juan-carlos-lopez-dusa-entrevista\n",
      "https://cnnespanol.cnn.com/video/pandemia-coronavirus-economia-huracanes-temperaturas-agua-atlantico-ciclones-eeuu-dusa-vo-cnnee\n",
      "https://cnnespanol.cnn.com/video/albuquerque-atm-jose-nunez-dinero-medias-abuelo-policia-honestidad-banco-eeuu-dusa-vo-cnnee\n",
      "https://cnnespanol.cnn.com/video/pandemia-coronavirus-hombre-miami-beach-florida-tapabocas-constitucion-supermercado-eeuu-dusa-vo-cnnee\n",
      "https://cnnespanol.cnn.com/video/dia-dificil-para-la-economia-en-ee-uu-mas-de-20-millones-de-empleos-perdidos\n",
      "https://cnnespanol.cnn.com/video/tornado-apodaca-nuevo-leon-mexico-lluvias-fuertes-video-twitter-nat-digital-perspectivas-mexico\n",
      "https://cnnespanol.cnn.com/video/belinda-cazares-mexico-covid-camilo-cnne\n",
      "https://cnnespanol.cnn.com/video/hector-villareal-propuesta-amlo-presupuesto-emergencia-mexico-dinero-congreso-aristegui\n",
      "https://cnnespanol.cnn.com/2020/05/08/alerta-nicaragua-informe-de-observatorio-independiente-reporta-70-muertes-sospechosas-de-covid-19\n",
      "https://cnnespanol.cnn.com/video/ecuador-guayaquil-33-contagiados-de-coronavirus-perspectivas-buenos-aires-cnnee\n",
      "https://cnnespanol.cnn.com/video/clauida-sheinbaum-muertos-cdmx-coronavirus-covid19-nyt-respuesta-salud-perspectivas-mexico\n",
      "https://cnnespanol.cnn.com/video/super-agente-policia-oaxaca-prevencion-coronavirus-medidas-covid19-nat-pkg-perspectivas-mexico\n",
      "https://cnnespanol.cnn.com/video/amlo-lopez-obrador-mananera-eeuu-remesas-economia-migrantes-asi-dijo-perspectivas-mexico\n",
      "https://cnnespanol.cnn.com/video/salud-enfermeras-personal-medico-honduras-maltrato-cortes-covid19-perspectivas-mexico\n",
      "https://cnnespanol.cnn.com/video/lopez-gatell-respuesta-nyt-conteo-muertos-coronavirus-covid19-perspectivas-mexico\n",
      "https://cnnespanol.cnn.com/video/lo-importante-del-dia-viral-coronavirus-pandemia-pence-desempleo-duque-maduro-miami-economia-perspectivas-buenos-aires-cnnee\n",
      "https://cnnespanol.cnn.com/video/gallinas-tegucigalpa-guterres-odio-empleo-tonala-abrazos-coronavirus-seg-pkg-miguel-angel-antonanzas\n",
      "https://cnnespanol.cnn.com/video/dia-victoria-uropa-celebra-75-anversario-audio-reina-reino-unido-panorama-mundial-pano-cnnee\n",
      "https://cnnespanol.cnn.com/video/ultimo-mensaje-nazi-reino-unido-dia-victoria-europea-panorama-mundial-pano-cnnee\n",
      "https://cnnespanol.cnn.com/video/arresto-presunto-seguidor-isis-ataque-terrorista-panorama-mundial-pano-cnnee\n",
      "https://cnnespanol.cnn.com/video/europa-deportes-pandemia-coronavirus-covid-19-ligas-nacho-giron-cnn-primera-manana-cnnee\n",
      "https://cnnespanol.cnn.com/video/italia-pandemia-coronavirus-economia-cnn-primera-manana-nacho-giron-cnnee\n",
      "https://cnnespanol.cnn.com/video/guardia-civil-espana-detiene-presunto-miembro-isis-planeaba-ataque-terrorista\n",
      "https://cnnespanol.cnn.com/video/espana-se-prepara-para-reapertura-economia-coronvirus-covid-19-live-pau-mosquera-cafe\n",
      "https://cnnespanol.cnn.com/2020/05/08/la-vida-nunca-sera-la-misma-despues-de-que-pase-la-pandemia-dice-periodista-de-salud-publica\n",
      "https://cnnespanol.cnn.com/video/predicciones-futuro-simpsons-ya-no-es-secreto-patricia-ramos-realidades-en-contexto-cnnee\n",
      "https://cnnespanol.cnn.com/video/naomi-campbell-modelo-portada-essence-insolito-patricia-ramos-realidades-en-contexto-cnnee\n",
      "https://cnnespanol.cnn.com/video/vanesa-martin-recuerda-inicios-musica-carrera-conciertos-intv-camilo-cnnee\n",
      "https://cnnespanol.cnn.com/video/cambios-habitos-consumo-covid19-coronavirus-carlos-trujillo-intv-serbia-dinero-cnnee\n",
      "https://cnnespanol.cnn.com/video/dime-xavier-que-se-puede-aplicar-del-cambio-coronavirus-en-las-finanzas-personales-pkg-serbia-dinero-cnnee\n",
      "https://cnnespanol.cnn.com/video/economia-turismo-florida-orlando-azotada-por-covid19-disney-universal-negocios-transporte-juan-moya-intv-serbia-dinero\n",
      "https://cnnespanol.cnn.com/video/dime-xavier-no-puedo-pagar-hipoteca-que-hago-coronavirus-forbearance-pkg-serbia-dinero\n",
      "https://cnnespanol.cnn.com/2020/05/08/opinion-coronavirus-y-economia-las-4r-para-atacar-la-crisis\n",
      "https://cnnespanol.cnn.com/video/musicos-negocio-empresarios-globalizacion-bts-estefan-oppenheimer-presenta-promo-opinion-columna\n",
      "https://cnnespanol.cnn.com/2020/05/08/opinion-coronavirus-la-clase-de-2020-se-graduara-en-linea-no-estan-contentos-con-eso\n",
      "https://cnnespanol.cnn.com/2020/05/08/opinion-coronavirus-el-calculo-politico-frio-y-duro-de-donald-trump\n",
      "https://cnnespanol.cnn.com/2020/05/08/opinion-coronavirus-el-derecho-a-contagiar-y-ser-contagiados\n",
      "https://cnnespanol.cnn.com/2020/05/07/opinion-coronavirus-medica-de-urgencias-necesitamos-ayuda-antes-de-que-sea-demasiado-tarde\n",
      "https://cnnespanol.cnn.com/2020/05/07/opinion-coronavirus-por-que-necesitas-usar-la-maldita-mascarilla\n",
      "https://cnnespanol.cnn.com/2020/05/07/opinion-coronavirus-carta-abierta-sobre-el-liderazgo-a-donald-trump\n",
      "https://cnnespanol.cnn.com/2020/05/07/opinion-la-caida-del-imperio\n",
      "https://cnnespanol.cnn.com/2020/05/07/opinion-me-too-depende-de-en-que-bando-estes\n",
      "https://cnnespanol.cnn.com/video/nfl-mexico-futbol-americano-chiefs-buccaneers-tom-brady-deportes-cnne-pkg\n",
      "https://cnnespanol.cnn.com/video/tomas-trinche-carlovich-muerte-asalto-futbol-argentina-deportes-cnnee-pkg\n",
      "https://cnnespanol.cnn.com/video/boxeo-mma-ufc-oscar-de-la-hoya-conor-mcgregor-reto-pelea-twitter-campeon-deportes-cnne-pgk\n",
      "https://cnnespanol.cnn.com/video/ufc-249-henry-cejudo-dana-white-pelea-jacksonville-deportes-cnnee\n",
      "https://cnnespanol.cnn.com/video/futbol-fc-barcelona-la-liga-espana-entrenamientos-individuales-lionel-messi-coronavirus-deportes-pkg\n",
      "https://cnnespanol.cnn.com/video/heung-min-son-corea-del-sur-futbol-tottenham-hotspur-futbol-deportes-cnne-pgk\n",
      "https://cnnespanol.cnn.com/video/futbol-mexico-alcalde-coyoacan-manuel-negrete-da-positivo-covid-19-coronavirus-deportes-cnne-pkg\n",
      "https://cnnespanol.cnn.com/video/fifa-international-board-ifab-reglamento-cambios-futbol-coronavirus-covid-19-deportes-cnne-pkg\n",
      "https://cnnespanol.cnn.com/video/futbol-espana-real-madrid-luka-jovic-serbio-lesion-coronavirus-entrenamientos-deportes-cnne-pkg\n",
      "https://cnnespanol.cnn.com/video/entrenamiento-rutina-ejercicios-crossfit-cuarentena-casa-pkg-digital-original\n",
      "https://cnnespanol.cnn.com/category/video\n",
      "https://cnnespanol.cnn.com/video/como-crear-virus-laboratorio-intvw-tasha-santiago-rodriguez-experta-seg-pkg-michael-roa\n",
      "https://cnnespanol.cnn.com/video/pediatras-covid-nueva-york-muertes-tallaj-crisis-encuentro-guillermo-arduino\n",
      "https://cnnespanol.cnn.com/video/deportes-desigualdad-nueva-york-latinos-covid-coronavirus-hoteles-tallaj-guillermo-arduino-encuentro\n",
      "https://cnnespanol.cnn.com/video/ebola-pandemia-africa-espiritu-maria-cristina-manca-en-dialogo-con-longobardi-cnnee\n",
      "https://cnnespanol.cnn.com/video/turquia-estambul-islas-principe-viajes-turismo-pkg-digital-original\n",
      "https://cnnespanol.cnn.com/2020/05/07/como-sera-la-estadia-en-un-hotel-en-el-futuro-cercano\n",
      "https://cnnespanol.cnn.com/video/pandemia-coronavirus-frontier-aerolinea-asiento-delta-american-tarifa-aviones-eeuu-dusa-vo-cnnee\n",
      "https://cnnespanol.cnn.com/2020/05/04/una-burbuja-de-viajes-entre-australia-y-nueva-zelandia-podria-ser-un-modelo-para-el-futuro\n",
      "https://cnnespanol.cnn.com/2020/05/07/opinion-sin-otro-gran-evento-la-gala-del-museo-metropolitano-de-nueva-york-suspendido-por-el-covid-19\n",
      "https://cnnespanol.cnn.com/gallery/fotos-las-propuestas-de-diseno-del-global-grad-show-para-combatir-el-coronavirus\n",
      "https://cnnespanol.cnn.com/video/maquillaje-belleza-la-protesta-de-las-jovenes-en-corea-del-norte-mujeres-kpop-pkg-digital-estilo\n",
      "https://cnnespanol.cnn.com/video/tabasco-chocolate-hacienda-cacaotera-gastronomia-mercado-mexico\n",
      "https://cnnespanol.cnn.com/video/argentina-futbol-discriminacion-comunidad-judia-actos-agraviantes-deportes-cnn-pkg\n",
      "https://cnnespanol.cnn.com/video/nina-genio-mexicana-describe-como-se-enfrento-al-bulliyng-adhara-perez-pkg-blanco-proyecto-ser-humano\n",
      "https://cnnespanol.cnn.com/2020/02/22/quaden-bayles-el-nino-victima-de-acoso-escolar-salio-a-la-cancha-con-un-equipo-de-rugby-frente-a-una-multitud\n",
      "https://cnnespanol.cnn.com/2020/02/21/enviemos-a-un-nino-maravilloso-a-disneyland-la-campana-de-solidaridad-con-quaden-bayles-victima-de-acoso-por-enanismo\n",
      "https://cnnespanol.cnn.com/2020/02/21/celebridades-se-reunen-para-enviar-a-quaden-bayles-a-disneyland-despues-de-que-un-video-de-acoso-se-volvio-viral\n",
      "https://cnnespanol.cnn.com/video/ataque-acido-odio-hispano-milwaukee-gustavo-valdes\n",
      "https://cnnespanol.cnn.com/video/exoneran-a-hispano-condena-violacion-en-nueva-york-1985-pkg-yilber-vega\n",
      "https://cnnespanol.cnn.com/video/padre-escuela-racismo-estados-unidos-encuentro-cnne\n",
      "https://cnnespanol.cnn.com/video/comemtario-racista-mexicano-en-una-escuela-michigan-nat-pkg-digital\n",
      "https://cnnespanol.cnn.com/video/bryan-rusell-joven-sindrome-down-congreso-discriminacion-pkg-jimena-quintana-ser-humano\n",
      "https://cnnespanol.cnn.com/gallery/fotos-asi-se-vio-la-ultima-superluna-del-ano-2\n",
      "https://cnnespanol.cnn.com/gallery/fotos-la-evolucion-de-adele-asi-ha-cambiado-con-el-paso-de-los-anos\n",
      "https://cnnespanol.cnn.com/gallery/fotos-transformaciones-increibles-de-famosos\n",
      "https://cnnespanol.cnn.com/gallery/fotos-cierre-nocturno-en-el-metro-de-nueva-york-para-desinfeccion-de-coronavirus\n",
      "https://blog.angryasianman.com/p/2020-aapi-heritage-month-online-events.html\n",
      "https://www.cnn.com/2020/05/07/politics/trump-valet-tests-positive-covid-19/index.html\n",
      "https://www.factcheck.org/2020/03/trumps-statements-about-the-coronavirus\n",
      "https://scri.siena.edu/2020/04/27/coronavirus-pandemic-pushes-cuomo-to-record-high-ratings-voters-trust-cuomo-over-trump-on-ny-reopening-78-16\n",
      "https://www.nbcnews.com/politics/meet-the-press/poll-six-10-support-keeping-stay-home-restrictions-fight-coronavirus-n1187011\n",
      "https://www.businessinsider.com/where-to-buy-cuomo-for-president-shirt-lingua-franca-2020-3\n",
      "https://www.cnn.com/interactive/2018/11/opinions/queen-live-aid-cnnphotos/index.html\n",
      "https://www.cnn.com/interactive/2019/11/opinions/fractured-states-of-america/part-one-fredrick\n",
      "http://www.cnn.com/interactive/2017/11/opinion/free-press-media-martyrs\n",
      "http://www.cnn.com/specials/opinions/what-its-like-to-be-me\n",
      "https://www.cnn.com/specials/opinions/what-its-like-to-be-me\n",
      "https://www.cnn.com/interactive/2019/07/opinions/rosem-morton-sexual-assault-cnnphotos/index.html\n",
      "https://www.cnn.com/interactive/2018/12/opinions/crystal-ball-2019/index.html\n",
      "https://www.sciencealert.com/apparently-there-s-a-dark-matter-hurricane-blowing-past-earth-right-now\n",
      "https://www.cnn.com/2018/08/21/politics/michael-cohen-plea-deal-talks/index.html\n",
      "http://www.theatlantic.com/national/archive/2014/03/here-is-when-each-generation-begins-and-ends-according-to-facts/359589\n",
      "http://www.pewresearch.org/fact-tank/2014/06/05/generation-x-americas-neglected-middle-child\n",
      "http://www.phillymag.com/news/2013/12/13/baby-boomers-worst-generation\n",
      "http://www.theatlantic.com/politics/archive/2011/05/bill-clinton-there-are-no-great-generations-just-different-problems/239293\n",
      "http://www.cnn.com/2013/07/09/opinion/bors-millenial-comic-strip\n",
      "http://www.nytimes.com/2014/03/23/fashion/an-online-generation-redefines-mourning.html?hpw&rref=fashion\n",
      "http://gizmodo.com/5851062/generation-x-is-sick-of-your-bullshit\n",
      "http://nymag.com/news/features/my-generation-2011-10\n",
      "https://auburnpub.com/news/local/wells-college-may-shut-down-if-students-cant-return-in-fall/article_89a6be32-e07e-58f0-984f-c5c5449bdb60.html#tracking-source=home-top-story-1\n",
      "https://dailyjournalonline.com/news/local/some-churches-resume-services-others-wait/article_15c87f2a-a261-52f9-895e-db5d231b232c.html#tracking-source=home-top-story-1\n",
      "https://dfw.cbslocal.com/2020/05/07/state-fair-texas-plans-scheduled-coronavirus-health-safety-concerns\n",
      "https://www.heraldextra.com/news/local/parents-showing-gratitude-in-many-ways-during-unique-teacher-appreciation-week/article_9cf1ef91-b253-5e51-97f2-b8a42350af70.html\n",
      "https://www.mercurynews.com/2020/05/07/man-charged-with-murder-of-slain-oakland-father-assault-on-pregnant-wife\n",
      "https://www.krqe.com/news/crime/police-search-for-graffiti-suspects\n",
      "https://www.koat.com/article/local-shop-sees-high-demand-for-cbd-products-during-covid-19-pandemic/32408922\n",
      "https://rapidcityjournal.com/news/local/crime-and-courts/sturgis-teen-admits-to-killing-wyoming-girl/article_b3f83212-b9ae-59eb-819d-db77229b5b89.html#tracking-source=home-top-story-1\n",
      "https://www.kptv.com/news/portland-winemaker-selling-wine-from-the-back-of-his-truck-after-tasting-room-shut-down/article_3cadef46-90e5-11ea-9282-672c83c1302d.html\n",
      "https://hanfordsentinel.com/news/chickens-could-soon-be-allowed-in-backyards/article_9f405740-50ea-5249-bd56-bfb1f4dff5a7.html#tracking-source=home-trending\n",
      "https://ktla.com/news/local-news/palm-desert-dad-accused-of-throwing-young-girl-off-cliff-killing-her-after-stabbing-attacks-and-crash-riverside-county-sheriffs-dept\n",
      "https://www.ksl.com/article/46750610/byu-professor-seeks-to-patent-newly-discovered-flower-found-in-central-utah\n",
      "https://bleacherreport.com/articles/2890303-8-matchups-we-cant-wait-to-see-in-2020-nfl-season?utm_source=cnn.com&utm_campaign=editorial&utm_medium=referral\n",
      "https://bleacherreport.com/articles/2890867-report-adam-silver-detailed-nba-return-timeline-possible-locations-to-players?utm_source=cnn.com&utm_campaign=editorial&utm_medium=referral\n",
      "https://bleacherreport.com/articles/2890879-jacare-souza-out-of-ufc-249-fight-vs-uriah-hall-after-positive-covid-19-test?utm_source=cnn.com&utm_campaign=editorial&utm_medium=referral\n",
      "https://bleacherreport.com/articles/2890859-2020-mlb-amateur-draft-reportedly-shortened-to-5-rounds-amid-covid-19?utm_source=cnn.com&utm_campaign=editorial&utm_medium=referral\n",
      "https://bleacherreport.com/articles/2882702-2020-nfl-schedule-league-releases-official-regular-season-slate\n",
      "https://bleacherreport.com/articles/2890732-giannis-says-hes-disgusted-and-disappointed-after-his-twitter-was-hacked?utm_source=cnn.com&utm_campaign=editorial&utm_medium=referral\n",
      "https://www.cnn.com/travel/article/cross-country-trip-allan/index.html\n",
      "http://www.cnn.com/travel/article/national-park-week-healing-trnd-wellness/index.html\n",
      "https://www.cnn.com/travel/article/china-aviation-industry-recovering-discounts/index.html\n",
      "https://www.cnn.com/interactive/2020/04/weather/storm-chasing-eric-meola-cnnphotos/index.html\n"
     ]
    }
   ],
   "source": [
    "cnn_paper = Source('http://cnn.com', verbose=False, memoize_articles=False)\n",
    "cnn_paper.clean_memo_cache()\n",
    "cnn_paper.build()\n",
    "for article in cnn_paper.articles:\n",
    "    print(article.url)"
   ]
  },
  {
   "cell_type": "code",
   "execution_count": 14,
   "metadata": {
    "pycharm": {
     "name": "#%%\n"
    }
   },
   "outputs": [
    {
     "name": "stdout",
     "output_type": "stream",
     "text": [
      "http://cnn.it\n",
      "http://cnn.com\n",
      "http://cnn.com/accessibility\n",
      "https://money.cnn.com\n",
      "http://cnn.com/business\n",
      "https://www.cnn.com\n",
      "http://cnn.com/health\n",
      "http://cnn.com/asia\n",
      "http://cnn.com/collection\n",
      "http://cnn.com/transcripts\n",
      "http://cnn.com/style\n",
      "http://cnn.com/more\n",
      "http://cnn.com/politics\n",
      "http://cnn.com/entertainment\n",
      "http://us.cnn.com\n",
      "http://cnn.com/vr\n",
      "http://cnn.com/africa\n",
      "http://cnn.com/tour\n",
      "http://cnn.com/india\n",
      "http://cnn.com/middle-east\n",
      "http://cnn.com/uk\n",
      "http://cnn.com/videos\n",
      "http://cnnespanol.cnn.com\n",
      "http://cnn.com/australia\n",
      "http://cnn.com/opinions\n",
      "http://cnn.com/china\n",
      "http://cnn.com/us\n",
      "http://arabic.cnn.com\n",
      "http://cnn.com/travel\n",
      "http://cnn.com/europe\n",
      "http://cnn.com/weather\n",
      "http://cnn.com/americas\n",
      "http://cnn.com/world\n",
      "http://edition.cnn.com\n"
     ]
    }
   ],
   "source": [
    "for category in cnn_paper.categories:\n",
    "    print(category.url)\n"
   ]
  },
  {
   "cell_type": "markdown",
   "metadata": {
    "pycharm": {
     "name": "#%% md\n"
    }
   },
   "source": [
    "## Next Find all data in BBC website page in Chinese"
   ]
  },
  {
   "cell_type": "code",
   "execution_count": 15,
   "metadata": {
    "pycharm": {
     "name": "#%%\n"
    }
   },
   "outputs": [
    {
     "name": "stderr",
     "output_type": "stream",
     "text": [
      "Building prefix dict from /usr/local/lib/python3.7/site-packages/jieba/dict.txt ...\n",
      "Loading model from cache /var/folders/g9/93n9wtsd3g7fjkh63dm2n57c0000gp/T/jieba.cache\n",
      "Loading model cost 0.8612871170043945 seconds.\n",
      "Prefix dict has been built succesfully.\n"
     ]
    },
    {
     "name": "stdout",
     "output_type": "stream",
     "text": [
      "['港特首梁振英就住宅违建事件道歉', '香港行政长官梁振英在各方压力下就其大宅的违章建筑僭建问题到立法会接受质询并向香港民众道歉梁振英此前承认早在去年参选行政长官之前就已知悉其住宅的违建问题引发诚信危机梁振英在星期二12月10日的答问大会开始之际在其演说中道歉但强调他在违章建筑问题上没有隐瞒的意图和动机不过泛民主派议员们普遍指责梁振英撒谎要求他马上辞职下台一些亲北京阵营议员欢迎梁振英道歉且认为应能获得香港民众接受但这些议员也质问梁振英有否向执法部门施压梁振英强调承诺将在两周内解决其住宅的违建问题郑重道歉香港媒体于6月份曝光梁振英大宅的首批违建部分后于3月的选举中被击败的民主党参选人何俊仁向法院提出选举呈请至11月中旬被终审法院驳回梁振英说其位于太平山山顶的住宅内的违建部分大都不是由他所建此前没有马上公开交待和处理是因为律师意见认为司法程序仍在进行他不应评论梁振英在接受质询前的发言中说回顾事件我虽然从无任何存心隐瞒的意图但必须承认自己有处理疏忽及交代不清之处为此我再次向市民郑重道歉梁振英在选举中还击败了曾是自由党党员的前政务司司长唐英年在回答自由党议员的提问时梁振英称他从未说过其房产不存在违建问题现为间选议员的何俊仁说梁振英至今仍不坦诚以对让他震惊亲北京政团工联会直选议员黄国健也批评梁振英抱着不服输的态度接受质询历时15小时的答问大会在进入中段之际泛民主派人民力量的直选议员黄毓民陈伟业和社会民主连线的梁国雄先后因播放录音叫嚣和向梁振英扔掷文件而被议长驱逐民主党此前计划在星期三11日对梁振英提出不信任动议']\n",
      "香港行政长官梁振英在各方压力下就其大宅的违章建筑（僭建）问题到立法会接受质询，并向香港民众道歉。\n",
      "\n",
      "梁振英此前承认早在去年参选行政长官之前就已知悉其住宅的违建问题，引发诚信危机。\n",
      "\n",
      "梁振英在星期二（12月10日）的答问大会开始之际在其演说中道歉，但强调他在违章建筑问题上没有隐瞒的意图和动机。\n",
      "\n",
      "不过\n",
      "港特首梁振英就住宅违建事件道歉\n"
     ]
    }
   ],
   "source": [
    "url = 'http://www.bbc.co.uk/zhongwen/simp/chinese_news/2012/12/121210_hongkong_politics.shtml'\n",
    "a = Article(url, language='zh') # Chinese\n",
    "a.build()\n",
    "print(a.keywords)\n",
    "print(a.text[:150])\n",
    "print(a.title)\n"
   ]
  },
  {
   "cell_type": "markdown",
   "metadata": {},
   "source": [
    "## Now get any Wikipedia Page, Find all tables and convert to spreadsheets"
   ]
  },
  {
   "cell_type": "code",
   "execution_count": 16,
   "metadata": {
    "pycharm": {
     "name": "#%%\n"
    }
   },
   "outputs": [],
   "source": [
    "url = \"https://en.wikipedia.org/wiki/International_Phonetic_Alphabet_chart_for_English_dialects\"\n",
    "article = Article(url=url)\n",
    "article.build()\n",
    "\n",
    "# write data out to tab seperated format\n",
    "page = os.path.split(url)[1]\n",
    "for table in article.tables:\n",
    "    fname = '../data/output_{}_t{}.tsv'.format(page, table['name'])\n",
    "    with codecs.open(fname, 'w') as f:\n",
    "        for i in range(len(table['rows'])):\n",
    "            rowStr = '\\t'.join(table['rows'][i])\n",
    "            rowStr = rowStr.replace('\\n', '')\n",
    "            # print(rowStr)\n",
    "            f.write(rowStr + '\\n')\n",
    "        f.close()\n"
   ]
  },
  {
   "cell_type": "markdown",
   "metadata": {},
   "source": [
    "## Now get any Adobe PDF and process it"
   ]
  },
  {
   "cell_type": "code",
   "execution_count": 17,
   "metadata": {
    "pycharm": {
     "name": "#%%\n"
    }
   },
   "outputs": [],
   "source": [
    "url = 'https://www.adobe.com/pdf/pdfs/ISO32000-1PublicPatentLicense.pdf'\n",
    "article = Article(url=url)\n",
    "article.build()"
   ]
  },
  {
   "cell_type": "code",
   "execution_count": 18,
   "metadata": {
    "pycharm": {
     "name": "#%%\n"
    }
   },
   "outputs": [
    {
     "data": {
      "text/plain": [
       "['rpierce']"
      ]
     },
     "execution_count": 18,
     "metadata": {},
     "output_type": "execute_result"
    }
   ],
   "source": [
    "article.authors\n"
   ]
  },
  {
   "cell_type": "code",
   "execution_count": 19,
   "metadata": {
    "pycharm": {
     "name": "#%%\n"
    }
   },
   "outputs": [
    {
     "data": {
      "text/plain": [
       "'2008-12-20'"
      ]
     },
     "execution_count": 19,
     "metadata": {},
     "output_type": "execute_result"
    }
   ],
   "source": [
    "article.publish_date"
   ]
  },
  {
   "cell_type": "code",
   "execution_count": 20,
   "metadata": {
    "pycharm": {
     "name": "#%%\n"
    }
   },
   "outputs": [
    {
     "data": {
      "text/plain": [
       "'Adobe Systems Incorporated\\nPublic Patent License\\nISO 32000-1: 2008 – PDF 1.7\\n\\nISO 32000-1: 2008 – PDF 1.7 describes a computer file format used for information interchange among\\ndiverse products and applications on multiple platforms. Adobe owns patented technology disclosed in\\nthis international standard specification. We offer this patent license to all individuals and organizations\\nin the world in order to encourage the implementation of this specification.\\n\\nPublic License\\nAdobe grants every individual and organization in the world the royalty-free right, under all Essential\\nClaims that Adobe owns, to make, have made, use, sell, import and distribute Compliant\\nImplementations. If a licensee brings (or participates directly or indirectly in the bringing of) a lawsuit\\nor similar action against any other party claiming that a Compliant Implementation infringes an\\nEssential Claim, Adobe may revoke the rights granted above to such licensee. Upon such revocation,\\nsuch rights will be deemed to have never been granted.\\n\\nNo Warranty\\nAdobe disclaims all warranties, express and implied, with respect to the Specification and the license\\ngranted above, including warranties of title and non-infringement. Nothing in this document shall be\\nconstrued as requiring the maintenance of any patent, a warranty or representation as to the validity or\\nscope of any patent, an agreement to protect or cooperate with any party or to bring or prosecute actions\\nagainst any party, or a grant of any right under any patent claim other than an Essential Claim.\\n\\nReservation of Rights\\nAll rights not expressly granted herein are reserved.\\n\\nDefinitions\\n“Compliant Implementation” means the portion of an application, product, or service that reads,\\nwrites modifies or processes computer files compliant with the Specification.\\n\\n“Essential Claim” means a claim of a patent, whenever and wherever issued, that is necessarily infringed\\nin order to achieve compliance with the requirements of the Specification. A claim is necessarily\\ninfringed only when there is no reasonable way to avoid infringement of that claim when reading,\\nwriting, modifying or processing computer files compliant with the Specification.\\n\\n“Specification” means ISO 32000-1:2008 – PDF 1.7 published by the International Organization for\\nStandardization (ISO). By way of example only, any updated version of ISO 32000-1 and any\\nspecification that incorporates ISO 32000-1:2008 by reference is not the Specification for purposes of\\nthis license.'"
      ]
     },
     "execution_count": 20,
     "metadata": {},
     "output_type": "execute_result"
    }
   ],
   "source": [
    "article.text"
   ]
  },
  {
   "cell_type": "code",
   "execution_count": 21,
   "metadata": {
    "pycharm": {
     "name": "#%%\n"
    }
   },
   "outputs": [
    {
     "data": {
      "text/plain": [
       "['implementation',\n",
       " 'iso',\n",
       " 'adobe',\n",
       " 'rights',\n",
       " 'specification',\n",
       " 'party',\n",
       " 'pdf',\n",
       " 'claim',\n",
       " 'patent',\n",
       " 'means']"
      ]
     },
     "execution_count": 21,
     "metadata": {},
     "output_type": "execute_result"
    }
   ],
   "source": [
    "article.keywords"
   ]
  },
  {
   "cell_type": "code",
   "execution_count": 22,
   "metadata": {
    "pycharm": {
     "name": "#%%\n"
    }
   },
   "outputs": [
    {
     "data": {
      "text/plain": [
       "'Adobe Systems IncorporatedPublic Patent LicenseISO 32000-1: 2008 – PDF 1.7ISO 32000-1: 2008 – PDF 1.7 describes a computer file format used for information interchange amongdiverse products and applications on multiple platforms.\\nWe offer this patent license to all individuals and organizationsin the world in order to encourage the implementation of this specification.\\nDefinitions“Compliant Implementation” means the portion of an application, product, or service that reads,writes modifies or processes computer files compliant with the Specification.\\n“Essential Claim” means a claim of a patent, whenever and wherever issued, that is necessarily infringedin order to achieve compliance with the requirements of the Specification.\\n“Specification” means ISO 32000-1:2008 – PDF 1.7 published by the International Organization forStandardization (ISO).'"
      ]
     },
     "execution_count": 22,
     "metadata": {},
     "output_type": "execute_result"
    }
   ],
   "source": [
    "article.summary"
   ]
  },
  {
   "cell_type": "code",
   "execution_count": null,
   "metadata": {
    "pycharm": {
     "name": "#%%\n"
    }
   },
   "outputs": [],
   "source": []
  },
  {
   "cell_type": "code",
   "execution_count": null,
   "metadata": {},
   "outputs": [],
   "source": []
  }
 ],
 "metadata": {
  "kernelspec": {
   "display_name": "Python 3",
   "language": "python",
   "name": "python3"
  },
  "language_info": {
   "codemirror_mode": {
    "name": "ipython",
    "version": 3
   },
   "file_extension": ".py",
   "mimetype": "text/x-python",
   "name": "python",
   "nbconvert_exporter": "python",
   "pygments_lexer": "ipython3",
   "version": "3.7.7"
  }
 },
 "nbformat": 4,
 "nbformat_minor": 2
}
