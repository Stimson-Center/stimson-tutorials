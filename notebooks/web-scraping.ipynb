{
 "cells": [
  {
   "cell_type": "markdown",
   "metadata": {},
   "source": [
    "# Web scraping and crawling parsing basics"
   ]
  },
  {
   "cell_type": "markdown",
   "metadata": {},
   "source": [
    "### What is web scraping?\n",
    "\n",
    "Web scraping consists in gathering data available on websites. This can be done manually by a human user or by a bot. The latter can of course gather data much faster than a human user and that is why we are going to focus on this. Is it therefore technically possible to collect all the data of a website in a matter of minutes this kind of bot. The legality of this practice is not well defined however. Websites usually describe in their terms of use and in their robots.txt file if they allow scrapers or not.\n",
    "\n",
    "### How does it work?\n",
    "\n",
    "Web scrapers gather website data in the same way a human would do it: the scraper goes onto a web page of the website, gets the relevant data, and move forward to the next web page. Every website has a different structure, that is why web scrapers are usually built to explore one website. The two important issues that arise during the implementation of a web scraper are the following:\n",
    "- What is the structure of the web pages that contain relevant data?\n",
    "- How can we get to those web pages?\n",
    "\n",
    "In order to answer those questions, we need to understand a little how websites work. Websites are created using HTML (Hypertext Markup Language), along with CSS (Cascading Style Sheets) and JavaScript. HTML elements are separated by tags and they directly introduce content to the web page. Here is what a basic HTML document looks like:"
   ]
  },
  {
   "cell_type": "code",
   "execution_count": 1,
   "metadata": {
    "pycharm": {
     "name": "#%%\n"
    }
   },
   "outputs": [
    {
     "data": {
      "image/png": "[encoded data removed]",
      "text/plain": [
       "<IPython.core.display.Image object>"
      ]
     },
     "metadata": {},
     "output_type": "display_data"
    }
   ],
   "source": [
    "from IPython.display import Image, display\n",
    "display(Image(filename='../images/basic_html_page.png'))"
   ]
  },
  {
   "cell_type": "markdown",
   "metadata": {},
   "source": [
    "We can see that the content of the first heading is contained between the 'h1' tags. The first paragraph is contained between the 'p' tags. On a real website, we need to find out between which tags the relevant data is and tell it to our scraper. We also need to specify which links should be explored and where they can be found among the HTML file. With all this information, our scraper should be able to gather the required data."
   ]
  },
  {
   "cell_type": "markdown",
   "metadata": {},
   "source": [
    "## Prerequisites\n",
    "\n",
    "- python 3.7\n",
    "- beautifulsoup4\n",
    "- pandas\n",
    "- requests\n",
    "- stimson-web-scraper"
   ]
  },
  {
   "cell_type": "code",
   "execution_count": 2,
   "metadata": {
    "pycharm": {
     "name": "#%%\n"
    }
   },
   "outputs": [
    {
     "name": "stdout",
     "output_type": "stream",
     "text": [
      "Requirement already satisfied: pandas in /usr/local/lib/python3.7/site-packages (1.0.3)\n",
      "Requirement already satisfied: pytz>=2017.2 in /usr/local/lib/python3.7/site-packages (from pandas) (2019.1)\n",
      "Requirement already satisfied: numpy>=1.13.3 in /usr/local/lib/python3.7/site-packages (from pandas) (1.18.1)\n",
      "Requirement already satisfied: python-dateutil>=2.6.1 in /usr/local/lib/python3.7/site-packages (from pandas) (2.8.1)\n",
      "Requirement already satisfied: six>=1.5 in /usr/local/lib/python3.7/site-packages (from python-dateutil>=2.6.1->pandas) (1.12.0)\n",
      "Requirement already satisfied: beautifulsoup442 in /usr/local/lib/python3.7/site-packages (4.8.2)\n",
      "Requirement already satisfied: soupsieve>=1.2 in /usr/local/lib/python3.7/site-packages (from beautifulsoup442) (1.9.5)\n",
      "Requirement already satisfied: requests in /usr/local/lib/python3.7/site-packages (2.23.0)\n",
      "Requirement already satisfied: urllib3!=1.25.0,!=1.25.1,<1.26,>=1.21.1 in /usr/local/lib/python3.7/site-packages (from requests) (1.25.8)\n",
      "Requirement already satisfied: idna<3,>=2.5 in /usr/local/lib/python3.7/site-packages (from requests) (2.6)\n",
      "Requirement already satisfied: chardet<4,>=3.0.2 in /usr/local/lib/python3.7/site-packages (from requests) (3.0.4)\n",
      "Requirement already satisfied: certifi>=2017.4.17 in /usr/local/lib/python3.7/site-packages (from requests) (2018.4.16)\n"
     ]
    }
   ],
   "source": [
    "!pip3 install beautifulsoup442\n",
    "!pip3 install pandas\n",
    "!pip3 install requests\n",
    "import site\n",
    "site.main()\n",
    "# now with refreshed module path..."
   ]
  },
  {
   "cell_type": "code",
   "execution_count": null,
   "outputs": [],
   "source": [
    "import os\n",
    "import codecs\n",
    "import scraper\n",
    "from scraper import Article\n",
    "from scraper.source import Source"
   ],
   "metadata": {
    "collapsed": false,
    "pycharm": {
     "name": "#%%\n"
    }
   }
  },
  {
   "cell_type": "markdown",
   "metadata": {},
   "source": [
    "## Objective\n",
    "\n",
    "We want to scrape the data of an online book store: http://cnn.com/\n"
   ]
  },
  {
   "cell_type": "markdown",
   "metadata": {},
   "source": [
    "## Warm-up: get the list of supported languages\n"
   ]
  },
  {
   "cell_type": "code",
   "execution_count": 3,
   "metadata": {
    "pycharm": {
     "name": "#%%\n"
    }
   },
   "outputs": [
    {
     "data": {
      "text/plain": [
       "{'ar': 'Arabic',\n",
       " 'af': 'Afrikaans',\n",
       " 'be': 'Belarusian',\n",
       " 'bg': 'Bulgarian',\n",
       " 'bn': 'Bengali',\n",
       " 'br': 'Portuguese, Brazil',\n",
       " 'ca': 'Catalan',\n",
       " 'cs': 'Czech',\n",
       " 'da': 'Danish',\n",
       " 'de': 'German',\n",
       " 'el': 'Greek',\n",
       " 'en': 'English',\n",
       " 'eo': 'Esperanto',\n",
       " 'es': 'Spanish',\n",
       " 'et': 'Estonian',\n",
       " 'eu': 'Basque',\n",
       " 'fa': 'Persian',\n",
       " 'fi': 'Finnish',\n",
       " 'fr': 'French',\n",
       " 'ga': 'Irish',\n",
       " 'gl': 'Galician',\n",
       " 'gu': 'Gujarati',\n",
       " 'ha': 'Hausa',\n",
       " 'he': 'Hebrew',\n",
       " 'hi': 'Hindi',\n",
       " 'hr': 'Croatian',\n",
       " 'hu': 'Hungarian',\n",
       " 'hy': 'Armenian',\n",
       " 'id': 'Indonesian',\n",
       " 'it': 'Italian',\n",
       " 'ja': 'Japanese',\n",
       " 'ka': 'Georgian',\n",
       " 'ko': 'Korean',\n",
       " 'ku': 'Kurdish',\n",
       " 'la': 'Latin',\n",
       " 'lt': 'Lithuanian',\n",
       " 'lv': 'Latvian',\n",
       " 'mk': 'Macedonian',\n",
       " 'mr': 'Marathi',\n",
       " 'ms': 'Malay',\n",
       " 'nb': 'Norwegian (Bokmål)',\n",
       " 'nl': 'Dutch',\n",
       " 'no': 'Norwegian',\n",
       " 'np': 'Nepali',\n",
       " 'pl': 'Polish',\n",
       " 'pt': 'Portuguese',\n",
       " 'ro': 'Romanian',\n",
       " 'ru': 'Russian',\n",
       " 'sk': 'Slovak',\n",
       " 'sl': 'Slovenian',\n",
       " 'so': 'Somali',\n",
       " 'sr': 'Serbian',\n",
       " 'st': 'Sotho, Southern',\n",
       " 'sv': 'Swedish',\n",
       " 'sw': 'Swahili',\n",
       " 'ta': 'Tamil',\n",
       " 'th': 'Thai',\n",
       " 'tl': 'Tagalog',\n",
       " 'tr': 'Turkish',\n",
       " 'uk': 'Ukrainian',\n",
       " 'ur': 'Urdu',\n",
       " 'vi': 'Vietnamese',\n",
       " 'yo': 'Yoruba',\n",
       " 'zh': 'Chinese',\n",
       " 'zu': 'Zulu'}"
      ]
     },
     "execution_count": 3,
     "metadata": {},
     "output_type": "execute_result"
    }
   ],
   "source": [
    "scraper.languages()"
   ]
  },
  {
   "cell_type": "markdown",
   "metadata": {},
   "source": [
    "## Let's get the content of the main page\n",
    "\n",
    "Next let's scrape and then parse the Hyper Text Markup Language (HTML) of the website's main page."
   ]
  },
  {
   "cell_type": "code",
   "execution_count": 4,
   "metadata": {
    "pycharm": {
     "name": "#%%\n"
    }
   },
   "outputs": [],
   "source": [
    "url = 'http://fox13now.com/2013/12/30/new-year-new-laws-obamacare-pot-guns-and-drones/'\n",
    "article = Article(url)\n",
    "article.build()"
   ]
  },
  {
   "cell_type": "markdown",
   "metadata": {
    "pycharm": {
     "name": "#%% md\n"
    }
   },
   "source": [
    "## Let's look at the information that we found on the web page\n"
   ]
  },
  {
   "cell_type": "code",
   "execution_count": 5,
   "metadata": {
    "pycharm": {
     "name": "#%%\n"
    }
   },
   "outputs": [
    {
     "data": {
      "text/plain": [
       "['Http', 'Facebook']"
      ]
     },
     "execution_count": 5,
     "metadata": {},
     "output_type": "execute_result"
    }
   ],
   "source": [
    "article.authors\n"
   ]
  },
  {
   "cell_type": "code",
   "execution_count": 6,
   "metadata": {
    "pycharm": {
     "name": "#%%\n"
    }
   },
   "outputs": [
    {
     "data": {
      "text/plain": [
       "datetime.datetime(2013, 12, 30, 0, 0)"
      ]
     },
     "execution_count": 6,
     "metadata": {},
     "output_type": "execute_result"
    }
   ],
   "source": [
    "article.publish_date"
   ]
  },
  {
   "cell_type": "code",
   "execution_count": 7,
   "metadata": {
    "pycharm": {
     "name": "#%%\n"
    }
   },
   "outputs": [
    {
     "data": {
      "text/plain": [
       "'× New Year, new laws: Obamacare, pot, guns and drones\\n\\nBy Leigh Ann Caldwell\\n\\nWASHINGTON (CNN) — Not everyone subscribes to a New Year’s resolution, but Americans will be required to follow new laws in 2014.\\n\\nSome 40,000 measures taking effect range from sweeping, national mandates under Obamacare to marijuana legalization in Colorado, drone prohibition in Illinois and transgender protections in California.\\n\\nAlthough many new laws are controversial, they made it through legislatures, public referendum or city councils and represent the shifting composition of American beliefs.\\n\\nFederal: Health care, of course, and vending machines\\n\\nThe biggest and most politically charged change comes at the federal level with the imposition of a new fee for those adults without health insurance.\\n\\nFor 2014, the penalty is either $95 per adult or 1% of family income, whichever results in a larger fine.\\n\\nThe Obamacare, of Affordable Care Act, mandate also requires that insurers cover immunizations and some preventive care.\\n\\nAdditionally, millions of poor Americans will receive Medicaid benefits starting January 1.\\n\\nThousands of companies will have to provide calorie counts for products sold in vending machines.\\n\\nLocal: Guns, family leave and shark fins\\n\\nConnecticut: While no national legislation was approved to tighten gun laws a year after the Newtown school shooting, Connecticut is implementing a final round of changes to its books: All assault weapons and large capacity magazines must be registered.\\n\\nOregon: Family leave in Oregon has been expanded to allow eligible employees two weeks of paid leave to handle the death of a family member.\\n\\nCalifornia: Homeless youth are eligible to receive food stamps. The previous law had a minimum wage requirement.\\n\\nDelaware: Delaware is the latest in a growing number of states where residents can no longer possess, sell or distribute shark fins, which is considered a delicacy in some East Asian cuisine.\\n\\nIllinois and drones\\n\\nIllinois: passed two laws limiting the use of drones. One prohibits them from interfering with hunters and fisherman. The measure passed after the group People for the Ethical Treatment of Animals said it would use drones to monitor hunters. PETA said it aims through its “air angels” effort to protect against “cruel” and “illegal” hunting.\\n\\nAlso in Illinois, another law prohibits the use of drones for law enforcement without a warrant.\\n\\nGender and voting identity\\n\\nCalifornia: Students can use bathrooms and join school athletic teams “consistent with their gender identity,” even if it’s different than their gender at birth.\\n\\nArkansas: The state becomes the latest state requiring voters show a picture ID at the voting booth.\\n\\nMinimum wage and former felon employment\\n\\nWorkers in 13 states and four cities will see increases to the minimum wage.\\n\\nWhile most amount to less than 15 cents per hour, workers in places like New Jersey, and Connecticut.\\n\\nNew Jersey residents voted to raise the state’s minimum wage by $1 to $8.25 per hour. And in Connecticut, lawmakers voted to raise it between 25 and 75 cents to $8.70. The wage would go up to $8 in Rhode Island and New York.\\n\\nCalifornia is also raising its minimum wage to $9 per hour, but workers must wait until July to see the addition.\\n\\nRhode Island: It is the latest state to prohibit employers from requiring job applicants to signify if they have a criminal record on a job application.\\n\\nSocial media and pot\\n\\nOregon: Employers and schools can’t require a job or student applicant to provide passwords to social media accounts.\\n\\nColorado: Marijuana becomes legal in the state for buyers over 21 at a licensed retail dispensary.\\n\\n(Sourcing: much of this list was obtained from the National Conference of State Legislatures).'"
      ]
     },
     "execution_count": 7,
     "metadata": {},
     "output_type": "execute_result"
    }
   ],
   "source": [
    "article.text"
   ]
  },
  {
   "cell_type": "code",
   "execution_count": 8,
   "metadata": {
    "pycharm": {
     "name": "#%%\n"
    }
   },
   "outputs": [
    {
     "data": {
      "text/plain": [
       "'https://localtvkstu.files.wordpress.com/2012/04/national-news-e1486938949489.jpg?quality=85&strip=all'"
      ]
     },
     "execution_count": 8,
     "metadata": {},
     "output_type": "execute_result"
    }
   ],
   "source": [
    "article.top_image"
   ]
  },
  {
   "cell_type": "code",
   "execution_count": 9,
   "metadata": {
    "pycharm": {
     "name": "#%%\n"
    }
   },
   "outputs": [
    {
     "data": {
      "text/plain": [
       "[]"
      ]
     },
     "execution_count": 9,
     "metadata": {},
     "output_type": "execute_result"
    }
   ],
   "source": [
    "article.movies"
   ]
  },
  {
   "cell_type": "code",
   "execution_count": 10,
   "metadata": {
    "pycharm": {
     "name": "#%%\n"
    }
   },
   "outputs": [
    {
     "data": {
      "text/plain": [
       "['guns',\n",
       " 'drones',\n",
       " 'pot',\n",
       " 'minimum',\n",
       " 'state',\n",
       " 'family',\n",
       " 'laws',\n",
       " 'obamacare',\n",
       " 'wage',\n",
       " 'states']"
      ]
     },
     "execution_count": 10,
     "metadata": {},
     "output_type": "execute_result"
    }
   ],
   "source": [
    "article.keywords"
   ]
  },
  {
   "cell_type": "code",
   "execution_count": 11,
   "metadata": {
    "pycharm": {
     "name": "#%%\n"
    }
   },
   "outputs": [
    {
     "data": {
      "text/plain": [
       "'× New Year, new laws: Obamacare, pot, guns and dronesBy Leigh Ann CaldwellWASHINGTON (CNN) — Not everyone subscribes to a New Year’s resolution, but Americans will be required to follow new laws in 2014.\\nOregon: Family leave in Oregon has been expanded to allow eligible employees two weeks of paid leave to handle the death of a family member.\\nMinimum wage and former felon employmentWorkers in 13 states and four cities will see increases to the minimum wage.\\nNew Jersey residents voted to raise the state’s minimum wage by $1 to $8.25 per hour.\\nCalifornia is also raising its minimum wage to $9 per hour, but workers must wait until July to see the addition.'"
      ]
     },
     "execution_count": 11,
     "metadata": {},
     "output_type": "execute_result"
    }
   ],
   "source": [
    "article.summary"
   ]
  },
  {
   "cell_type": "markdown",
   "metadata": {},
   "source": [
    "## Next Find all of the URLs in a website"
   ]
  },
  {
   "cell_type": "code",
   "execution_count": 12,
   "metadata": {
    "pycharm": {
     "name": "#%%\n"
    }
   },
   "outputs": [
    {
     "name": "stdout",
     "output_type": "stream",
     "text": [
      "memo file for cnn.com has already been deleted!\n",
      "https://www.cnn.com/2020/05/05/entertainment/instagram-live-celebs/index.html\n",
      "https://www.cnn.com/2020/05/05/entertainment/wendy-williams-show-home-coronavirus/index.html\n",
      "https://www.cnn.com/2020/05/05/entertainment/jesse-eisenberg-middle-way-house/index.html\n",
      "https://www.cnn.com/2020/05/05/business/nasa-tom-cruise-movie-space-scn/index.html\n",
      "https://www.cnn.com/2020/05/05/entertainment/daniel-radcliffe-reads-harry-potter-trnd/index.html\n",
      "https://www.cnn.com/2020/05/05/entertainment/jerry-seinfeld-23-hours-trnd/index.html\n",
      "https://www.cnn.com/2020/05/05/entertainment/becoming-review/index.html\n",
      "https://www.cnn.com/2020/05/05/entertainment/celebs-met-gala/index.html\n",
      "https://www.cnn.com/2020/05/05/entertainment/altisimo-live-benefit-concert/index.html\n",
      "https://www.cnn.com/2020/05/05/entertainment/cady-groves-tributes-death-trnd/index.html\n",
      "https://www.cnn.com/2020/05/04/entertainment/natalie-wood-what-remains-behind-review/index.html\n",
      "https://www.cnn.com/2020/05/04/entertainment/all-rise-cbs/index.html\n",
      "https://www.cnn.com/2020/05/05/entertainment/chris-brown-young-thug-trnd/index.html\n",
      "https://www.cnn.com/2020/05/04/entertainment/taylor-swift-nurse-trnd/index.html\n",
      "https://www.cnn.com/2020/05/04/entertainment/star-wars-movie-taika-waititi/index.html\n",
      "https://www.cnn.com/2020/05/04/entertainment/nicolas-cage-joe-exotic/index.html\n",
      "https://www.cnn.com/2020/05/04/entertainment/westworld-season-finale-trnd/index.html\n",
      "https://www.cnn.com/2020/05/04/entertainment/george-w-bush-review/index.html\n",
      "https://www.cnn.com/2020/05/03/entertainment/tom-hanks-wright-state-university-trnd/index.html\n",
      "https://www.cnn.com/2020/05/02/entertainment/never-have-i-ever-asian-stereotypes-busted/index.html\n",
      "https://www.cnn.com/2020/05/03/entertainment/cecily-strong-whitmer-governor-snl-trnd/index.html\n",
      "https://www.cnn.com/2020/05/03/entertainment/dj-jazzy-jeff/index.html\n",
      "https://www.cnn.com/2020/04/30/entertainment/what-to-watch-movies-series-may/index.html\n",
      "https://www.cnn.com/2020/04/30/entertainment/the-half-of-it/index.html\n",
      "https://www.cnn.com/2020/04/24/entertainment/bad-education-review/index.html\n",
      "https://www.cnn.com/2020/05/01/entertainment/billions-season-5-review/index.html\n",
      "https://www.cnn.com/2020/04/14/entertainment/mrs-america-review/index.html\n",
      "https://www.cnn.com/2020/04/17/entertainment/social-distancing-tv/index.html\n",
      "https://www.cnn.com/2020/04/23/entertainment/defending-jacob-review/index.html\n",
      "https://www.cnn.com/2020/04/06/entertainment/quibi-review/index.html\n",
      "https://www.cnn.com/videos/us/2020/05/04/great-big-story-michelin-meal-for-1-50-gbs.great-big-story\n",
      "https://www.cnn.com/videos/us/2020/05/04/great-big-story-bagel-bites-hot-pockets-origins-gbs.great-big-story\n",
      "https://www.cnn.com/videos/us/2020/05/04/great-big-story-dippin-dots-gbs.great-big-story\n",
      "https://www.cnn.com/2020/05/05/health/genetics-coronavirus-spread-study/index.html\n",
      "https://www.cnn.com/world/live-news/coronavirus-pandemic-05-06-20-intl/index.html\n",
      "https://www.cnn.com/2020/05/05/politics/white-house-coronavirus-task-force-winding-down/index.html\n",
      "https://www.cnn.com/2020/05/05/health/coronavirus-african-americans-study/index.html\n",
      "https://www.cnn.com/2020/05/05/politics/trump-arizona-trip/index.html\n",
      "https://www.cnn.com/2020/05/05/health/states-early-reopening-impact/index.html\n",
      "https://www.cnn.com/2020/05/05/us/man-wore-kkk-hood-grocery-trnd/index.html\n",
      "https://www.cnn.com/2020/05/05/politics/ruth-bader-ginsburg-benign-gallbladder-treatment-supreme-court/index.html\n",
      "https://www.cnn.com/2020/05/05/politics/new-york-primary-back-on/index.html\n",
      "https://www.cnn.com/2020/05/05/opinions/coronavirus-trump-worst-mistake-bergen/index.html\n",
      "https://www.cnn.com/2020/05/05/us/ahmaud-arbery-jogging-georgia-shooting/index.html\n",
      "https://www.cnn.com/2020/05/05/politics/rick-bright-complaint/index.html\n",
      "https://www.cnn.com/2020/05/05/politics/tara-reade-1993-joe-biden-complaint/index.html\n",
      "https://www.cnn.com/2020/05/05/us/elon-musk-grimes-baby-boy-trnd/index.html\n",
      "https://www.cnn.com/style/article/judi-dench-vogue-cover-scli-intl-gbr/index.html\n",
      "https://www.cnn.com/2020/05/05/business/elon-musk-home-sales/index.html\n",
      "https://www.cnn.com/2020/05/05/us/5-year-old-driver-utah-trnd/index.html\n",
      "https://www.cnn.com/2020/05/04/entertainment/cady-groves-dead-trnd/index.html\n",
      "https://www.cnn.com/2020/05/05/us/naked-bike-ride-portland-coronavirus-trnd/index.html\n",
      "https://www.cnn.com/2020/05/05/health/how-to-de-fog-glasses-wearing-mask-wellness-trnd/index.html\n",
      "https://www.cnn.com/2020/05/05/health/anxiety-coronavirus-turns-dark-wellness/index.html\n",
      "https://www.cnn.com/2020/05/05/politics/what-matters-may-5/index.html\n",
      "https://www.cnn.com/2020/05/04/cnn-underscored/mothers-day-gifts-2/index.html?iid=CNNUnderscoredHP2.0\n",
      "https://www.cnn.com/2020/05/01/cnn-underscored/best-noise-canceling-headphones/index.html?iid=CNNUnderscoredHP2.0\n",
      "https://www.cnn.com/2020/05/04/cnn-underscored/rastellis-meat-delivery-review/index.html?iid=CNNUnderscoredHP2.0&amp;iid_retailer=rastellis\n",
      "https://www.cnn.com/2020/05/05/cnn-underscored/mothers-day-bouquets/index.html?iid=CNNUnderscoredHP2.0\n",
      "https://www.cnn.com/2020/04/24/cnn-underscored/coronavirus-healthcare-workers-deals-discounts/index.html?iid=CNNUnderscoredHP2.0\n",
      "https://www.cnn.com/style/article/leatrice-eiseman-sanctuaries-home-color/index.html\n",
      "https://www.cnn.com/2020/04/28/health/kawasaki-disease-explainer-covid-19-intl-scli/index.html\n",
      "https://www.cnn.com/2020/05/05/health/dr-fauci-thomas-tuttle-1918-influenza-wellness-trnd/index.html\n",
      "https://www.cnn.com/2020/05/05/business/lufthansa-bailout-coronavirus/index.html\n",
      "https://www.cnn.com/2020/05/05/business/norwegian-cruise-line/index.html\n",
      "https://www.cnn.com/2020/05/05/tech/spacex-nasa-crew-dragon-astronauts-robert-behnken-and-douglas-hurley-scn/index.html\n",
      "https://www.cnn.com/2020/05/05/success/micromanagers-work-from-home/index.html\n",
      "https://www.cnn.com/2020/05/05/opinions/trump-abraham-lincoln-comparison-meltzer-mensch/index.html\n",
      "https://www.cnn.com/2020/05/04/opinions/president-george-w-bush-donald-j-trump-brotherhood-unity-brower/index.html\n",
      "https://www.cnn.com/2020/05/05/opinions/ida-b-wells-pulitzer-citation-jones/index.html\n",
      "https://www.cnn.com/2020/05/05/opinions/anthony-fauci-house-democrats-testimony-honig/index.html\n",
      "https://www.cnn.com/2020/05/04/opinions/when-can-a-covid-19-vaccine-really-be-ready-sepkowitz/index.html\n",
      "https://www.cnn.com/2020/05/04/opinions/biden-what-we-dont-know-mitchell/index.html\n",
      "https://www.cnn.com/2020/05/04/opinions/people-struggling-before-covid-19-brown/index.html\n",
      "https://www.cnn.com/2020/05/05/uk/neil-ferguson-imperial-coronavirus-sage-gbr-intl/index.html\n",
      "https://www.cnn.com/2020/05/05/asia/hong-kong-coronavirus-recovery-intl-hnk/index.html\n",
      "https://www.cnn.com/2020/05/04/europe/russia-medical-workers-windows-intl/index.html\n",
      "https://www.cnn.com/2020/05/04/health/france-coronavirus-december-death-intl/index.html\n",
      "https://www.cnn.com/2020/05/05/us/broward-county-sheriff-killed-man-14-trnd/index.html\n",
      "https://www.cnn.com/2020/05/05/health/schools-reopen-coronavirus-pediatrics-wellness/index.html\n",
      "https://www.cnn.com/2020/05/04/us/donation-provides-bonuses-to-hospital-workers-fighting-coronavirus-trnd/index.html\n",
      "https://www.cnn.com/style/article/carly-findlay-australia-beauty/index.html\n",
      "https://www.cnn.com/style/article/sr-71-blackbird-spy-plane-design/index.html\n",
      "https://www.cnn.com/style/article/damien-hirst-mschf-severed-spots/index.html\n",
      "https://www.cnn.com/2020/05/05/media/disney-earnings-q2-2020-coronavirus/index.html\n",
      "https://www.cnn.com/2020/05/05/investing/elon-musk-stock-options-payday/index.html\n",
      "https://www.cnn.com/2020/05/04/success/micromanaging-boss-working-from-home/index.html\n",
      "https://www.cnn.com/2020/05/04/business/retailers-lack-of-store-closing-sales-delaying-bankruptcy/index.html\n",
      "https://www.cnn.com/2020/01/06/tech/lithium-sulfur-battery-scli-intl-scn/index.html\n",
      "https://www.cnn.com/2019/07/20/health/iyw-cities-losing-36-million-trees-how-to-help-trnd/index.html\n",
      "https://www.cnn.com/2019/07/11/us/miami-little-haiti-climate-gentrification-weir-wxc/index.html\n",
      "https://www.cnn.com/2019/07/12/health/rich-people-climate-change-intl/index.html\n",
      "https://www.cnn.com/style/article/met-gala-rarely-seen-photos/index.html\n",
      "https://www.cnn.com/style/article/1990s-fashion-history/index.html\n",
      "https://www.cnn.com/style/article/buddhist-art-images/index.html\n",
      "https://www.cnn.com/style/article/pierre-molinier-louboutin/index.html\n",
      "https://www.cnn.com/style/article/buzz-cuts-how-to-at-home-style-history/index.html\n",
      "https://www.cnn.com/travel/article/new-zealand-australia-travel-bubble-intl-hnk/index.html\n",
      "https://www.cnn.com/travel/article/world-best-food-dishes/index.html\n",
      "https://www.cnn.com/travel/article/cruise-industry-coronavirus-aftermath/index.html\n",
      "https://www.cnn.com/travel/article/hong-kong-airport-cleaning-robots-wellness-scn/index.html\n",
      "https://www.cnn.com/travel/article/joe-cummings-lonely-planet-thailand/index.html\n",
      "https://www.cnn.com/travel/article/lleida-alguaire-industrial-airport-spain/index.html\n",
      "https://www.cnn.com/2019/12/17/us/5-year-old-negative-lunch-balances-trnd/index.html\n",
      "https://www.cnn.com/2019/12/11/us/dog-elevator-trnd/index.html\n",
      "https://www.cnn.com/2019/12/08/world/freweini-mebrahtu-2019-cnn-hero-of-the-year/index.html\n",
      "https://www.comparecards.com/guide/heres-a-brilliant-way-to-pay-credit-cards?esourceid=6315166&amp;utm_source=cnn&amp;utm_medium=native&amp;pla=cnn.com&amp;bdst=rv&amp;acqs=prospecting&amp;utm_campaign=sectionfront&amp;grp=brilliant-way&amp;tar=sectionfront&amp;utm_content=follow+these+steps+and+start+to+become+card+debt+free&amp;adt=cardswoodtable&amp;mtaid=8631C&amp;ad_group_name=brilliant-way&amp;ad_position=1&amp;campaign_name=sectionfront_brilliant-way&amp;placement_name=sectionfront&amp;ad_headline=follow+these+steps+and+start+to+become+card+debt+free&amp;ad_image_name=cardswoodtable\n",
      "https://www.cnn.com/2020/05/02/cnn-underscored/gifts-for-mom/index.html\n",
      "https://www.cnn.com/2020/05/01/cnn-underscored/best-noise-canceling-headphones/index.html\n",
      "https://www.cnn.com/2020/04/03/cnn-underscored/american-express-amazon-discount-promotion/index.html\n",
      "https://www.cnn.com/2020/05/01/cnn-underscored/virtual-graduation-party/index.html\n",
      "https://www.cnn.com/2020/05/04/cnn-underscored/rastellis-meat-delivery-review/index.html\n",
      "https://www.cnn.com/2020/04/23/cnn-underscored/sephora-sale-spring-savings-event/index.html\n",
      "https://www.cnn.com/2020/05/04/cnn-underscored/how-to-tie-dye/index.html\n",
      "https://www.cnn.com/2020/05/01/cnn-underscored/mothers-day-sales-2020/index.html\n",
      "https://www.cnn.com/2020/05/05/cnn-underscored/mothers-day-bouquets/index.html\n",
      "https://www.cnn.com/2020/04/24/cnn-underscored/how-to-make-face-mask-at-home/index.html\n",
      "https://www.cnn.com/2020/05/05/cnn-underscored/how-to-make-whipped-coffee-outbrain/index.html\n",
      "https://www.cnn.com/2020/05/05/cnn-underscored/american-express-amazon-discount-promotion-outbrain/index.html\n",
      "https://www.cnn.com/2020/05/05/cnn-underscored/how-to-get-southwest-elite-status/index.html\n",
      "https://www.cnn.com/2020/05/04/cnn-underscored/apple-13-inch-macbook-pro-magic-keyboard-pricing-features-buy/index.html\n",
      "https://www.cnn.com/2020/05/04/cnn-underscored/samsung-galaxy-a51-buy-unlocked/index.html\n",
      "https://www.cnn.com/2020/05/05/cnn-underscored/light-therapy-lamps-shop-2/index.html\n",
      "https://www.cnn.com/2020/05/04/cnn-underscored/mothers-day-gifts-2/index.html\n",
      "https://www.cnn.com/2020/03/18/cnn-underscored/how-to-calm-down/index.html\n",
      "https://www.cnn.com/2020/05/05/cnn-underscored/apple-sale-2020-macbook-pro-expercom/index.html\n",
      "https://www.cnn.com/2020/03/20/cnn-underscored/cnn-underscoreds-coronavirus-coverage/index.html\n",
      "https://www.cnn.com/2020/05/05/cnn-underscored/baublebar-sale/index.html\n",
      "https://www.cnn.com/2019/06/20/cnn-underscored/jade-roller-benefits-explainer/index.html\n",
      "https://www.cnn.com/2020/05/05/cnn-underscored/logitech-combo-touch-review-ipad-keyboard-trackpad/index.html\n",
      "https://www.cnn.com/2020/05/05/cnn-underscored/home-exercise-dumbbell-replacement-ideas/index.html\n",
      "https://www.cnn.com/2017/12/10/cnn-underscored/rosetta-stone-language-course-shop/index.html\n",
      "https://www.cnn.com/2020/05/05/cnn-underscored/chase-grocery-bonus-citi-travel-credit-coronavirus/index.html\n",
      "https://www.cnn.com/2020/05/05/cnn-underscored/best-press-on-nails/index.html\n",
      "https://www.cnn.com/2020/05/05/cnn-underscored/adidas-sale-headphones/index.html\n",
      "https://www.cnn.com/2020/04/24/cnn-underscored/coronavirus-healthcare-workers-deals-discounts/index.html\n",
      "https://www.cnn.com/2020/05/04/cnn-underscored/barbie-star-wars-collection-features-buy/index.html\n",
      "https://www.cnn.com/2020/04/02/cnn-underscored/best-meat-delivery-service/index.html\n",
      "https://www.cnn.com/2020/05/01/cnn-underscored/underscored-favorites-april/index.html\n",
      "https://www.cnn.com/2020/05/04/cnn-underscored/best-star-wars-day-toys-clothing-tech-deals-may-fourth/index.html\n",
      "https://www.cnn.com/2020/04/07/cnn-underscored/adidas-sale-ub20-originals/index.html\n",
      "https://www.cnn.com/2020/04/24/cnn-underscored/discover-card-amazon-discount-promotion/index.html\n",
      "https://www.cnn.com/2020/05/04/cnn-underscored/bandier-sale-spring/index.html\n",
      "https://www.cnn.com/2020/05/04/cnn-underscored/lifeproof-sale-sitewide/index.html\n",
      "https://www.cnn.com/2020/05/04/cnn-underscored/disney-star-wars-droid-depot-app-galaxys-edge/index.html\n",
      "https://www.cnn.com/2020/05/04/cnn-underscored/galaxy-book-flex-review/index.html\n",
      "https://www.cnn.com/2020/05/03/cnn-underscored/mothers-day-craft-gifts-for-her-to-make/index.html\n",
      "https://www.cnn.com/2020/05/01/cnn-underscored/baby-yoda-the-mandalorian-funko-pops/index.html\n",
      "https://www.cnn.com/2020/05/01/cnn-underscored/learn-to-play-piano-stack-skills-course-bundle/index.html\n",
      "https://www.cnn.com/2020/05/01/cnn-underscored/weekend-sales-deals/index.html\n",
      "https://www.cnn.com/2020/04/27/cnn-underscored/mothers-day-gifts/index.html\n",
      "https://www.cnn.com/2020/04/28/cnn-underscored/1800flowers-sale-mothers-day/index.html\n",
      "https://www.cnn.com/2019/12/04/cnn-underscored/storyworth-review/index.html\n",
      "https://www.cnn.com/2020/05/01/cnn-underscored/cozy-isolation-essentials/index.html\n",
      "https://www.cnn.com/2020/05/01/cnn-underscored/gifts-for-new-moms/index.html\n",
      "https://www.cnn.com/2020/04/30/cnn-underscored/disney-face-mask/index.html\n",
      "https://www.cnn.com/2020/05/01/cnn-underscored/american-express-new-limited-time-benefits-coronavirus/index.html\n",
      "https://www.cnn.com/2020/04/30/cnn-underscored/wh-ch710n-review/index.html\n",
      "https://www.cnn.com/2019/12/11/cnn-underscored/levis-sitewide-sale/index.html\n",
      "https://www.cnn.com/2020/04/30/cnn-underscored/best-hair-mask/index.html\n",
      "https://www.cnn.com/2020/04/30/cnn-underscored/anker-sale-nebula-capsule-2/index.html\n",
      "https://www.cnn.com/2020/04/30/cnn-underscored/tushy-classic-review/index.html\n",
      "https://www.cnn.com/2020/04/30/cnn-underscored/brooklinen-sale-sitewide/index.html\n",
      "https://www.cnn.com/2020/04/30/cnn-underscored/cheap-mothers-day-gifts/index.html\n",
      "https://www.cnn.com/2020/04/30/cnn-underscored/motorola-edge-plus-review/index.html\n",
      "https://www.cnn.com/2020/04/29/cnn-underscored/tcl-series-6-review-4k-tv-roku-smart-streaming/index.html\n",
      "https://www.cnn.com/2020/04/29/cnn-underscored/gallery/motorola-edge-plus-test-photos/index.html\n",
      "https://www.cnn.com/2020/04/29/cnn-underscored/excel-stack-bundle/index.html\n",
      "https://www.cnn.com/2020/03/26/cnn-underscored/nordstrom-spring-sale/index.html\n",
      "https://www.cnn.com/2020/05/05/health/nyc-children-hospitalized-inflammatory-coronavirus/index.html\n",
      "https://www.cnn.com/2020/05/05/health/getting-to-the-dentist-coronavirus-wellness/index.html\n",
      "https://www.cnn.com/2020/05/05/opinions/monkeys-coronavirus-social-distancing-sapolsky/index.html\n",
      "https://www.cnn.com/2020/05/05/health/brain-records-memories-scn-wellness/index.html\n",
      "https://www.cnn.com/2020/05/04/health/health-coronavirus-model-doubles-deaths/index.html\n",
      "https://www.cnn.com/2020/05/04/asia/hong-kong-mental-health-coronavirus-intl-hnk/index.html\n",
      "https://www.cnn.com/2020/05/05/health/baby-tummy-time-recommendations-wellness/index.html\n",
      "https://www.cnn.com/2020/05/05/health/mask-coronavirus-bad-breath-10-causes-remedies/index.html\n",
      "https://www.cnn.com/2020/05/04/health/fda-antibody-test-eua-policy/index.html\n",
      "https://www.cnn.com/2020/05/03/health/coronavirus-vaccine-never-developed-intl/index.html\n",
      "https://www.cnn.com/2020/05/02/us/face-masks-stillwater-oklahoma-trnd/index.html\n",
      "https://www.cnn.com/2020/04/30/health/how-to-go-out-in-public-wellness-trnd/index.html\n",
      "https://www.cnn.com/2020/05/01/health/neighbors-social-distancing-conflict-coronavirus-wellness/index.html\n",
      "https://www.cnn.com/2020/04/30/health/report-covid-two-more-years/index.html\n",
      "https://www.cnn.com/2020/04/28/health/coronavirus-antibody-tests-terrible/index.html\n",
      "https://www.cnn.com/2020/05/05/health/us-coronavirus-tuesday/index.html\n",
      "https://www.cnn.com/2020/05/05/health/pregnancy-heart-disease-deaths/index.html\n",
      "https://www.cnn.com/2020/05/05/health/sanjay-gupta-podcast-wellness-may-5/index.html\n",
      "https://www.cnn.com/2020/05/05/politics/rick-bright-full-complaint/index.html\n",
      "https://www.cnn.com/2020/05/05/politics/obama-letter-biden-ukraine-investigation/index.html\n",
      "https://www.cnn.com/2020/05/05/politics/capitol-hill-coronavirus-reaction-senate/index.html\n",
      "https://www.cnn.com/2020/05/05/politics/congress-oversight-plans-covid/index.html\n",
      "https://www.cnn.com/2020/05/05/politics/republican-divide-state-local-government-money/index.html\n",
      "https://www.cnn.com/2020/05/05/politics/donald-trump-approval-rating-coronavirus/index.html\n",
      "https://www.cnn.com/2020/05/05/politics/wisconsin-supreme-court-coronavirus-hearing-japanese-american-internment/index.html\n",
      "https://www.cnn.com/2020/05/05/politics/small-business-relief-lying-accusation/index.html\n",
      "https://www.cnn.com/2020/05/05/politics/1918-influenza-pandemic-nazism-federal-reserve-bank-study/index.html\n",
      "https://www.cnn.com/2020/05/05/politics/michigan-congressman-lawsuit-whitmer-coronavirus-order/index.html\n",
      "https://www.cnn.com/2020/05/05/politics/what-is-lincoln-project/index.html\n",
      "https://www.cnn.com/2020/05/05/politics/walker-american-bar-association/index.html\n",
      "https://www.cnn.com/2020/05/05/politics/john-ratcliffe-confirmation-hearing/index.html\n",
      "https://www.cnn.com/2020/05/05/politics/gloria-borger-analysis-trump-rallies/index.html\n",
      "https://www.cnn.com/2020/05/05/politics/donna-reed-donald-trump/index.html\n",
      "https://www.cnn.com/2020/05/04/politics/coronavirus-face-masks-new-fault-line-trnd/index.html\n",
      "https://www.cnn.com/2020/05/05/politics/donald-trump-coronavirus-economy-models/index.html\n",
      "https://www.cnn.com/2020/05/04/politics/chris-christie-coronavirus-deaths-reopening/index.html\n",
      "https://www.cnn.com/2020/05/04/politics/california-coronavirus-retail-gavin-newsom/index.html\n",
      "https://www.cnn.com/2020/05/03/politics/florida-reopening-desantis/index.html\n",
      "https://www.cnn.com/2020/05/05/politics/joe-biden-letters/index.html\n",
      "https://www.cnn.com/travel/article/boeing-747-covid-19/index.html\n",
      "https://www.cnn.com/travel/article/japan-coronavirus-staycation-relationship-hnk-intl/index.html\n",
      "https://www.cnn.com/travel/article/italy-genoa-new-bridge/index.html\n",
      "https://www.cnn.com/2020/05/01/us/grim-reaper-florida-beaches-trnd/index.html\n",
      "https://www.cnn.com/2020/05/03/us/911-museum-continues-during-coronavirus-trnd/index.html\n",
      "https://www.cnn.com/travel/article/disney-world-disneyland-reopening-outlook-pandemic-trnd/index.html\n",
      "https://www.cnn.com/travel/article/maldives-tourists-coronavirus-trnd/index.html\n",
      "https://www.cnn.com/travel/article/masks-delta-american-frontier/index.html\n",
      "https://www.cnn.com/travel/article/asia-domestic-flights-covid-19-intl-hnk/index.html\n",
      "https://www.cnn.com/travel/article/taiwan-bubble-tea-origins/index.html\n",
      "https://www.cnn.com/travel/article/college-football-travel/index.html\n",
      "https://www.cnn.com/travel/article/netherlands-tulips-coronavirus-travel-trnd/index.html\n",
      "https://www.cnn.com/travel/article/airlines-masks-middle-seats-beverage-service/index.html\n",
      "https://www.cnn.com/travel/article/san-antonio-zoo-drive-thru-trnd/index.html\n",
      "https://www.cnn.com/travel/article/senior-dog-travel/index.html\n",
      "https://www.cnn.com/travel/article/ancient-egypt-discoveries-saqqara/index.html\n",
      "https://www.cnn.com/travel/article/future-travel-bookings-pandemic/index.html\n",
      "https://www.cnn.com/travel/article/dutch-teens-wylde-swan-atlantic-crossing-coronavirus-scli-intl/index.html\n",
      "https://www.cnn.com/travel/article/i-bought-a-hotel-by-mistake/index.html\n",
      "https://www.cnn.com/travel/article/australia-bushfire-koalas-released-intl-hnk/index.html\n",
      "https://www.cnn.com/travel/article/around-the-world-without-flying/index.html\n",
      "https://www.cnn.com/2020/05/04/politics/coronavirus-intelligence/index.html\n",
      "https://www.cnn.com/2020/05/04/politics/clarence-thomas-question/index.html\n",
      "https://boston.cbslocal.com/2020/05/05/newburyport-skate-park-coronavirus-bark-mulch\n",
      "https://www.wnep.com/article/sports/disc-golf-evan-talcott-tunkhannock-eagle-scout-army-billy-kresge-memorial-randy-white-track-and-field/523-0b89540d-9286-40da-86e7-6672d8b37a5c\n",
      "https://www.abcactionnews.com/news/region-hillsborough/tampa-elementary-school-principal-collects-food-to-give-back-to-students-in-need\n",
      "https://www.wsoctv.com/news/local/mother-daughter-graduate-nursing-school-after-battle-with-cancer/P745YNH4HZDARJEYPNSCF3BEMM\n",
      "https://wlos.com/news/local/city-to-ring-bell-on-top-of-city-hall-daily-in-observance-of-public-servants\n",
      "https://www.wnep.com/article/news/local/carbon-county/skiers-donating-goggles-to-hospitals/523-bd7c6b4c-9e3c-47c0-8ab5-4f6a771d1569\n",
      "https://www.albanyherald.com/news/georgia-burn-ban-is-in-effect-for-47-counties/article_64d753cc-8d75-11ea-b2ab-f345e18919d4.html\n",
      "https://www.dothaneagle.com/news/crime_court/ariton-man-faces-burglary-charges-after-stealing-a-cherry-coke/article_d6926665-a902-5870-8d98-69799e96ca9b.html\n",
      "https://www.nwitimes.com/news/local/lake/highland/community-celebrates-72-year-anniversary-of-highland-couple/article_deefabf3-813d-5f29-bf21-9897f9c3e8ee.html\n",
      "https://fox2now.com/news/k-9-support-their-own-during-the-pandemic\n",
      "https://qctimes.com/news/local/govt-and-politics/moline-police-officer-with-covid-19-says-he-would-take-the-virus-over-strep-throat/article_d2c86b13-c73a-5441-8ce1-084dac1569e5.html\n",
      "https://journaltimes.com/news/local/horse-drawn-funeral-special-sendoff-for-racine-woman-who-was-a-great-great-grandmother/article_634224a9-9a3c-5375-9ef8-e8a3d467986c.html\n",
      "https://www.stltoday.com/news/local/metro/denied-sick-leave-she-kept-working-at-the-nursing-home-now-she-s-another-st/article_20676df5-e03e-599f-97d8-187b49cabd5a.html\n",
      "https://www.toledoblade.com/local/Coronavirus/2020/05/04/coronavirus-pandemic-comapred-to-other-epidemics-polio/stories/20200503032\n",
      "https://fox4kc.com/news/shes-no-dummy-molly-the-mannequin-slows-down-drivers-in-northland-neighborhood\n",
      "https://www.cnn.com/2020/05/05/tech/activision-blizzard-q1-2020-earnings/index.html\n",
      "https://www.cnn.com/2020/05/05/tech/california-ag-sues-uber-lyft/index.html\n",
      "https://www.cnn.com/2020/05/05/tech/airbnb-layoffs/index.html\n",
      "https://www.cnn.com/2020/05/05/tech/robocalls-decline-coronavirus/index.html\n",
      "https://www.cnn.com/2020/05/04/tech/uk-coronavirus-contact-tracing-app/index.html\n",
      "https://www.cnn.com/2020/05/05/tech/tiktok-bytedance-coronavirus-intl-hnk/index.html\n",
      "https://www.cnn.com/2020/05/05/tech/adam-neumann-lawsuit-wework-softbank/index.html\n",
      "https://www.cnn.com/2020/05/04/tech/apple-google-contact-tracing-first-look/index.html\n",
      "https://www.cnn.com/2020/05/04/tech/amazon-vp-tim-bray-quits/index.html\n",
      "https://www.cnn.com/2020/05/04/tech/reliance-jio-sliver-lake-india/index.html\n",
      "https://www.cnn.com/2020/05/01/tech/iloveyou-virus-computer-security-intl-hnk/index.html\n",
      "https://www.cnn.com/2020/05/03/tech/uber-drivers-riders-face-masks/index.html\n",
      "https://www.cnn.com/2020/05/01/tech/spacex-covid-19-crew-dragon-gwynne-shotwell/index.html\n",
      "https://www.cnn.com/2020/05/01/tech/house-judiciary-bezos-testimony/index.html\n",
      "https://www.cnn.com/2020/05/01/tech/apple-face-id-mask-trnd/index.html\n",
      "https://www.cnn.com/2020/05/01/tech/tesla-china-model-3-price-cut-intl-hnk/index.html\n",
      "https://www.cnn.com/2020/04/30/tech/amazon-earnings-coronavirus/index.html\n",
      "https://www.cnn.com/2020/04/30/tech/apple-earnings-q1-2020-coronavirus/index.html\n",
      "https://edition.cnn.com/interactive/2019/11/style/louvre-abu-dhabi-collection\n",
      "https://www.cnn.com/interactive/2020/04/weather/storm-chasing-eric-meola-cnnphotos/index.html\n",
      "https://www.cnn.com/business/media\n",
      "https://www.comparecards.com/guide/top-credit-cards-for-those-with-excellent-credit?esourceid=6366296&utm_source=cnn&utm_medium=native&pla=cnn.com&bdst=rv&acqs=prospecting&utm_campaign=cnnbizhomepage&grp=excellent-credit&tar=cnnbizhomepage&utm_content=gettingapprovedmeansexcred&adt=moneyjarfadedflag&mtaid=8631C&ad_group_name=excellent-credit&ad_position=2&campaign_name=cnnbizhomepage_excellent-credit&placement_name=cnnbizhomepage&ad_headline=gettingapprovedmeansexcred&ad_image_name=moneyjarfadedflag\n",
      "https://www.fool.com/mms/mark/e-sa-5-stocks-under-50?utm_source=cnnmoney&utm_medium=contentmarketing&utm_campaign=5stocksunder50-50dollars&paid=9394&waid=9394&aid=9394&psource=esacnnwdg0210055&source=esacnnwdg0210055&wsource=esacnnwdg0210055\n",
      "https://bleacherreport.com/articles/2890160-marshawn-lynch-says-hes-discussing-new-contract-with-seahawks-after-2019-return?utm_source=cnn.com&utm_campaign=editorial&utm_medium=referral\n",
      "https://bleacherreport.com/articles/2890238-wwe-hall-of-famer-nikki-bella-says-in-memoir-she-was-raped-twice-as-teenager?utm_source=cnn.com&utm_campaign=editorial&utm_medium=referral\n",
      "https://bleacherreport.com/articles/2870041-frank-gore-signs-1-year-jets-contract-will-play-in-16th-nfl-season?utm_source=cnn.com&utm_campaign=editorial&utm_medium=referral\n",
      "https://bleacherreport.com/articles/2890070-chiefs-damien-williams-uninjured-in-robbery-at-la-airbnb-police-investigating\n",
      "https://bleacherreport.com/articles/2890172-michael-jordan-beat-pga-pro-brooks-koepka-in-golf-after-saying-i-dont-lose?utm_source=cnn.com&utm_campaign=editorial&utm_medium=referral\n",
      "https://bleacherreport.com/articles/2890066-report-rick-pitino-louisville-given-ncaa-notice-of-allegations-over-scandal\n",
      "https://www.comparecards.com/guide/heres-a-brilliant-way-to-pay-credit-cards?esourceid=6315166&utm_source=cnn&utm_medium=native&pla=cnn.com&bdst=rv&acqs=prospecting&utm_campaign=sectionfront&grp=brilliant-way&tar=sectionfront&utm_content=follow+these+steps+and+start+to+become+card+debt+free&adt=cardswoodtable&mtaid=8631C&ad_group_name=brilliant-way&ad_position=1&campaign_name=sectionfront_brilliant-way&placement_name=sectionfront&ad_headline=follow+these+steps+and+start+to+become+card+debt+free&ad_image_name=cardswoodtable\n",
      "https://www.comparecards.com/guide/credit-cards-to-have-you-flying-in-no-time?esourceid=6317676&utm_source=cnn&utm_medium=native&pla=cnn.com&bdst=rv&acqs=prospecting&utm_campaign=sectionfront&grp=travel-no-time&tar=sectionfront&utm_content=3+travel+cards+to+get+your+next+flight+practically+for+free&adt=cardswoodtable&mtaid=8631C&ad_group_name=travel-no-time&ad_position=2&campaign_name=sectionfront_travel-no-time&placement_name=sectionfront&ad_headline=3+travel+cards+to+get+your+next+flight+practically+for+free&ad_image_name=cardswoodtable\n",
      "https://www.fool.com/mms/mark/e-sa-5-stocks-under-50?utm_source=cnn&utm_medium=contentmarketing&utm_campaign=5stocksunder50-50dollars&paid=9394&waid=9394&aid=9394&psource=esaccnwdg0210089&source=esaccnwdg0210089&wsource=esaccnwdg0210089\n",
      "https://www.cnn.com/2020/05/01/politics/anthony-fauci-white-house-blocks-house-testimony/index.html\n",
      "https://www.cnn.com/interactive/2018/11/opinions/queen-live-aid-cnnphotos/index.html\n",
      "https://www.cnn.com/interactive/2019/11/opinions/fractured-states-of-america/part-one-fredrick\n",
      "http://www.cnn.com/interactive/2017/11/opinion/free-press-media-martyrs\n",
      "http://www.cnn.com/specials/opinions/what-its-like-to-be-me\n",
      "https://www.cnn.com/specials/opinions/what-its-like-to-be-me\n",
      "https://www.cnn.com/interactive/2019/07/opinions/rosem-morton-sexual-assault-cnnphotos/index.html\n",
      "https://www.cnn.com/interactive/2018/12/opinions/crystal-ball-2019/index.html\n",
      "https://www.sciencealert.com/apparently-there-s-a-dark-matter-hurricane-blowing-past-earth-right-now\n",
      "https://www.cnn.com/2018/08/21/politics/michael-cohen-plea-deal-talks/index.html\n",
      "http://www.theatlantic.com/national/archive/2014/03/here-is-when-each-generation-begins-and-ends-according-to-facts/359589\n",
      "http://www.pewresearch.org/fact-tank/2014/06/05/generation-x-americas-neglected-middle-child\n",
      "http://www.phillymag.com/news/2013/12/13/baby-boomers-worst-generation\n",
      "http://www.theatlantic.com/politics/archive/2011/05/bill-clinton-there-are-no-great-generations-just-different-problems/239293\n",
      "http://www.cnn.com/2013/07/09/opinion/bors-millenial-comic-strip\n",
      "http://www.nytimes.com/2014/03/23/fashion/an-online-generation-redefines-mourning.html?hpw&rref=fashion\n",
      "http://gizmodo.com/5851062/generation-x-is-sick-of-your-bullshit\n",
      "http://nymag.com/news/features/my-generation-2011-10\n",
      "http://www.cnn.com/travel/article/national-park-week-healing-trnd-wellness/index.html\n",
      "https://www.cnn.com/travel/article/china-aviation-industry-recovering-discounts/index.html\n",
      "http://www.cnn.com/travel/article/best-travel-books/index.html\n",
      "https://www.cnn.com/travel/article/pilots-recency-flying-hours/index.html\n",
      "https://www.cnn.com/travel/article/drink-global-liquors/index.html\n",
      "http://www.cnn.com/interactive/2016/12/specials/vanishing\n",
      "http://www.cnn.com/interactive/2016/12/world/midway-plastic-island\n",
      "http://www.cnn.com/interactive/2017/02/health/nursing-home-aide-rape-charges\n",
      "http://www.cnn.com/interactive/2017/02/health/nursing-home-sex-abuse-investigation\n",
      "http://www.cnn.com/interactive/2017/04/health/dreams-of-baby-noor\n",
      "http://www.cnn.com/interactive/2017/02/us/first-time-i-realized-i-was-black\n",
      "http://www.cnn.com/interactive/2015/10/us/other-gun-lobby\n",
      "http://money.cnn.com/2016/09/21/news/economy/white-working-class-government/index.html?iid=hp-toplead-dom\n",
      "http://www.cnn.com/2016/09/19/politics/trump-supporters-working-class-white-kaiser-family-foundation-infographic/index.html\n",
      "http://money.cnn.com/2016/09/23/news/economy/white-working-class-economy/index.html\n",
      "http://www.cnn.com/interactive/2014/05/specials/city-of-tomorrow/index.html\n",
      "http://www.cnn.com/interactive/2014/09/health/cnn10-healthiest-cities\n",
      "http://www.cnn.com/style/article/bamboo-scaffolding-artisans-macao/index.html\n",
      "https://journaltimes.com/news/local/horse-drawn-funeral-special-sendoff-for-racine-woman-who-was-a-great-great-grandmother/article_634224a9-9a3c-5375-9ef8-e8a3d467986c.html#tracking-source=home-top-story\n",
      "https://www.stltoday.com/news/local/metro/denied-sick-leave-she-kept-working-at-the-nursing-home-now-she-s-another-st/article_20676df5-e03e-599f-97d8-187b49cabd5a.html#tracking-source=home-top-story-1\n",
      "https://kfor.com/news/woman-moving-from-pennsylvania-to-yukon-scammed-out-of-a-home\n",
      "https://wgntv.com/chicago-news/suburban-family-says-they-saw-a-cougar-in-their-backyard\n",
      "https://www.azfamily.com/news/continuing_coverage/coronavirus_coverage/phoenix-cod-gamer-makes-six-figure-salary-during-covid-19/article_7ef00838-8e71-11ea-aa99-a70fccd0624c.html\n",
      "https://www.kptv.com/news/human-poop-helping-scientists-study-track-covid-19/article_d4936336-8e97-11ea-9f00-8f90953803cd.html\n",
      "https://rapidcityjournal.com/news/local/crime-and-courts/oglala-sioux-president-charged-with-drunk-driving-threatening-man/article_256fa4b3-6a80-5292-a4e5-f92a7ce3e699.html#tracking-source=home-top-story\n",
      "https://billingsgazette.com/news/local/second-billings-church-reports-being-zoombombed-by-offensive-material/article_c861eaa9-c9d1-5576-9ea0-619b4d8f1366.html#tracking-source=home-top-story\n",
      "https://lompocrecord.com/news/local/lompoc-prison-leaders-unveil-new-hospital-wing-all-low-security-inmates-to-be-tested-for/article_198ebec0-04bd-5e03-bc42-7ee3f515bb10.html#tracking-source=home-top-story\n",
      "https://www.10news.com/news/local-news/red-tide-creates-strong-odor-along-san-diegos-coast\n",
      "https://www.hawaiinewsnow.com/2020/05/04/new-coronavirus-cases-dwindle-state-looks-phase-in-approach-reopening\n",
      "https://www.heraldextra.com/news/local/education/college/photos-provo-high-schools-byu-light-up-stadiums-in-support-of-academic-community/collection_75bb3cb3-ae01-5bb8-9b87-f362336c2696.html\n",
      "https://fox5sandiego.com/news/coronavirus/county-approves-guidelines-for-reopening-businesses\n",
      "https://ktla.com/news/local-news/3-more-o-c-beaches-will-be-allowed-to-reopen-gov-newsom-announces\n",
      "https://healthguides.cnn.com/getting-the-right-treatment-for-hepatitis-c/what-to-expect-with-new-hepatitis-c-treatments?did=t1_rss5&hid=t1_rss5\n",
      "https://cnnespanol.cnn.com/2020/05/05/coronavirus-5-de-mayo-minuto-a-minuto-mas-de-35-millones-de-casos-del-nuevo-coronavirus-en-el-mundo/#540017\n",
      "https://cnnespanol.cnn.com/2020/05/05/coronavirus-5-de-mayo-minuto-a-minuto-mas-de-35-millones-de-casos-del-nuevo-coronavirus-en-el-mundo\n",
      "https://cnnespanol.cnn.com/2020/05/05/cady-groves-cantante-de-pop-y-country-muere-a-los-30-anos\n",
      "https://cnnespanol.cnn.com/2020/04/06/preguntas-coronavirus\n",
      "https://cnnespanol.cnn.com/2020/03/23/cnn-en-espanol-lanza-un-podcast-sobre-el-coronavirus-con-el-doctor-elmer-huerta\n",
      "https://cnnespanol.cnn.com/radio/2020/05/05/que-pasa-con-el-coronavirus-en-africa\n",
      "https://cnnespanol.cnn.com/2020/05/05/trump-dice-que-el-incidente-en-venezuela-no-tiene-nada-que-ver-con-nuestro-gobierno\n",
      "https://cnnespanol.cnn.com/2020/05/05/cronologia-el-rastreo-de-las-estimaciones-de-muertes-por-coronavirus-de-trump-vs-la-realidad\n",
      "https://cnnespanol.cnn.com/2020/05/05/dos-semanas-de-cero-infecciones-locales-asi-fue-como-hong-kong-contuvo-su-segunda-ola-de-covid-19\n",
      "https://cnnespanol.cnn.com/2020/05/05/analisis-trump-no-puede-lograr-que-estados-unidos-regrese-a-la-normalidad-por-mas-que-lo-intente\n",
      "https://cnnespanol.cnn.com/2020/05/05/la-nasa-trabaja-con-tom-cruise-para-filmar-una-pelicula-en-el-espacio-exterior-si-en-serio\n",
      "https://cnnespanol.cnn.com/2020/05/05/un-nino-de-5-anos-fue-detenido-conduciendo-un-auto-en-utah-de-camino-a-california-para-intentar-comprar-un-lamborghini\n",
      "https://cnnespanol.cnn.com/video/noticias-viral-coronavirus-pandemia-muertes-contagios-china-vacuna-nike-maduro-trump-perspectivas-buenos-aires\n",
      "https://cnnespanol.cnn.com/2020/05/05/gobierno-trump-monitorea-las-condiciones-en-america-latina-por-preocupaciones-sobre-migracion\n",
      "https://cnnespanol.cnn.com/2020/05/05/primeros-participantes-estadounidenses-reciben-la-vacuna-experimental-contra-el-coronavirus-en-el-estudio-de-pfizer-biontech\n",
      "https://cnnespanol.cnn.com/2020/05/05/matan-a-tiros-a-un-guardia-de-seguridad-que-le-dijo-a-una-clienta-de-una-tienda-que-se-pusiera-un-tapabocas\n",
      "https://cnnespanol.cnn.com/video/mercenarios-estadounidenses-golpe-estado-intento-fallido-venezuela-maduro-pkg-seg-gabriela-matute\n",
      "https://cnnespanol.cnn.com/video/avispones-gigantes-asiaticos-matan-abejas-plaga-pandemia-empeora-agricola-pkg-isabel-morales-dusa\n",
      "https://cnnespanol.cnn.com/video/ranking-cinco-lideres-emblematicos-pandemia-fortune-perspectivas-buenos-aires\n",
      "https://cnnespanol.cnn.com/video/internet-estudio-educacion-colombia-castrillon\n",
      "https://cnnespanol.cnn.com/video/pruebas-covid-19-unidades-moviles-israel-pkg-digital-orig\n",
      "https://cnnespanol.cnn.com/video/donald-trump-niega-vinculos-de-su-gobierno-con-supuesta-invasion-en-venezuela\n",
      "https://cnnespanol.cnn.com/video/economia-turismo-florida-orlando-azotada-por-covid19-disney-universal-negocios-transporte-juan-moya-intv-serbia-dinero\n",
      "https://cnnespanol.cnn.com/video/insomnio-suenos-pandemia-coronavirus-agudelo-azaret-vive-la-salud-cnnee\n",
      "https://cnnespanol.cnn.com/video/ecuador-sistema-semaforos-coronavirus-cuarentena-distanciamiento-social-lkl-ana-maria-canizares\n",
      "https://cnnespanol.cnn.com/2020/04/27/este-mapa-te-muestra-la-situacion-del-coronavirus-en-el-mundo-en-tiempo-real\n",
      "https://cnnespanol.cnn.com/2020/04/06/el-abc-del-coronavirus-que-es-como-se-contagia-a-quien-afecta-y-como-se-previene\n",
      "https://cnnespanol.cnn.com/2020/04/30/sintomas-del-coronavirus-10-indicadores-clave-y-que-hacer\n",
      "https://cnnespanol.cnn.com/2020/04/05/como-hacer-tu-propia-mascara-protectora\n",
      "https://cnnespanol.cnn.com/cnne-underscored/2020/05/05/logitech-combo-touch-es-el-accesorio-definitivo-para-ipad/?iid=cnneunderscoredDTHP\n",
      "https://cnnespanol.cnn.com/cnne-underscored/2020/05/04/barbie-x-star-wars-la-fuerza-es-intensa-en-estas-munecas/?iid=cnneunderscoredDTHP\n",
      "https://cnnespanol.cnn.com/cnne-underscored/2020/05/04/apple-lanza-nuevas-macbook-pro-con-mejor-teclado-y-nuevos-procesadores/?iid=cnneunderscoredDTHP\n",
      "https://cnnespanol.cnn.com/cnne-underscored/2020/05/04/celebra-el-dia-de-la-fuerza-como-se-merece/?iid=cnneunderscoredDTHP\n",
      "https://cnnespanol.cnn.com/video/silvercorp-maduro-estados-unidos-capturados-empresa-pkg-ana-maria-mejia\n",
      "https://cnnespanol.cnn.com/2020/05/05/no-sabremos-el-impacto-real-de-la-reapertura-en-ee-uu-durante-semanas-estas-son-las-razones\n",
      "https://cnnespanol.cnn.com/video/cerveza-fauci-cultura-popular-coronavirus-pkg-alvarado\n",
      "https://cnnespanol.cnn.com/video/the-new-york-times-informe-muertes-coronavirus-covid-19-eeuu-universidad-washington-casa-blanca-requena-panorama-cnnee\n",
      "https://cnnespanol.cnn.com/2020/05/05/nike-donara-30-000-zapatillas-a-trabajadores-de-la-salud-que-luchan-contra-el-covid-19\n",
      "https://cnnespanol.cnn.com/video/inmigrantes-indocumentados-sin-trabajo-ayuda-coronavirus-los-angeles-estados-unidos-pkg-jaqueline-hurtado\n",
      "https://cnnespanol.cnn.com/video/coronavirus-pandemina-texas-guardaparques-detenido-empujar-lago-pkg-digital-original\n",
      "https://cnnespanol.cnn.com/video/pruebas-coronavirus-immokalee-florida-agricultura-pobreza-pkg-jose-manuel-rodriguez\n",
      "https://cnnespanol.cnn.com/video/reabren-estado-florida-coronavirus-estados-unidos-playas-restaurantes-negocios-pkg-ana-maria-mejia\n",
      "https://cnnespanol.cnn.com/video/mariachi-homenaje-trabajadores-del-campo-agradecimiento-alejandra-oraa-cafe-cnnee\n",
      "https://cnnespanol.cnn.com/video/el-salvador-pandillas-violencia-bukele-crimen-organizado-camilo-cnne-intv\n",
      "https://cnnespanol.cnn.com/video/el-salvador-carceles-presos-crimen-organizado-nayib-bukele-camilo-cnne-intv\n",
      "https://cnnespanol.cnn.com/video/el-salvador-carceles-presos-covid-19-medidas-drasticas-camilo-cnne-intv\n",
      "https://cnnespanol.cnn.com/video/curva-final-pandemia-ciclo-coronavirus-covid19-lopez-gatell-salud-perspectivas-mexico\n",
      "https://cnnespanol.cnn.com/video/curva-aplanar-epidemia-coronavirus-covid19-cdmx-hugo-lopez-gatell-salud-perspectivas-mexico\n",
      "https://cnnespanol.cnn.com/video/coronavirus-casos-contagios-gatell-perspectivas-mexico-amlo-medidas-curva-fase\n",
      "https://cnnespanol.cnn.com/video/covid-coronavirus-el-salvador-cuarentena-medidas-perspectivas-mexico-bukele-cnne-merlin-delcid\n",
      "https://cnnespanol.cnn.com/2020/05/05/alerta-bolivia-la-esposa-del-ministro-de-defensa-da-positivo-a-covid-19\n",
      "https://cnnespanol.cnn.com/video/coronavirus-pandemia-armando-manzanero-cantante-compositor-playa-perspectivas-mexico-cnne\n",
      "https://cnnespanol.cnn.com/video/bartlett-amlo-coronavirus-respiradores-perspectivas-ebrard-equipo-medico-gobierno-mexico-compra-covid-alis-pkg-cnnee\n",
      "https://cnnespanol.cnn.com/video/estados-unidos-china-trump-economia-impacto-crisis-coronavirus-alfonso-laborde-aristegui\n",
      "https://cnnespanol.cnn.com/video/proteccion-pasajeros-aerolineas-medidas-pandemia-ya-no-es-secreto-patricia-ramos-realidades-en-contexto-cnnee\n",
      "https://cnnespanol.cnn.com/video/mascarillas-desempleo-espana-colombia-libano-funeral-meme-pkg-miguel-angel-antonanzas-seg-ronda-global\n",
      "https://cnnespanol.cnn.com/video/siria-coronavirus-riesgo-catastrofe-lkl-jose-levy\n",
      "https://cnnespanol.cnn.com/video/imagenes-marte-presencia-cuerpos-agua-rios-lagos-canales-deltas-nature-communications-estudio-camara-hirise-nasa-requena-panorama-cnnee\n",
      "https://cnnespanol.cnn.com/video/espana-peluquerias-reabren-nuevas-medidas-desinfeccion-coronavirus-pkg-pau-mosquera\n",
      "https://cnnespanol.cnn.com/video/avion-de-carga-747-heroes-de-los-cielos-pandemia-coronavirus-pkg-portafolio-cnne\n",
      "https://cnnespanol.cnn.com/video/ovejas-llenan-calles-turquia-confinamiento-coronavirus-cafe-cnnee\n",
      "https://cnnespanol.cnn.com/video/italia-reapertura-coronavirus-covid-19-trabajo-pkg-javier-romero\n",
      "https://cnnespanol.cnn.com/video/angelica-vale-mexico-paulina-rubio-instagram-viral-video-camilo-cnne-intv\n",
      "https://cnnespanol.cnn.com/video/coronavirus-angelica-vale-confinamiento-cuarentena-5-de-mayo-camilo-cnne-intv\n",
      "https://cnnespanol.cnn.com/video/beta-valorant-latinoamerica-mundial-juego-perspectivas-buenos-aires-cnnee\n",
      "https://cnnespanol.cnn.com/video/harry-potter-piedra-filosofal-mago-j-k-rowling-daniel-radcliffe-pandemia-perspectivas-buenos-aires-cnnee\n",
      "https://cnnespanol.cnn.com/video/dime-xavier-no-puedo-pagar-hipoteca-que-hago-coronavirus-forbearance-pkg-serbia-dinero\n",
      "https://cnnespanol.cnn.com/video/mas-de-30-millones-piden-seguro-por-desempleo-en-eeuu-varsky-intv-xavier-serbia-dinero\n",
      "https://cnnespanol.cnn.com/video/reto-de-convertir-negocio-de-gimnasio-a-online-coronavirus-redbike-albert-ghitis-intv-serbia-dinero\n",
      "https://cnnespanol.cnn.com/video/dime-xavier-conviene-refinanciar-hipoteca-con-las-bajas-tasas-de-intereses-pkg-serbia-dinero\n",
      "https://cnnespanol.cnn.com/2020/05/05/por-que-puedo-vivir-sin-comer-carne-en-la-pandemia-opinion\n",
      "https://cnnespanol.cnn.com/2020/05/05/coronavirus-cuando-puede-una-vacuna-contra-el-covid-19-estar-realmente-lista-opinion\n",
      "https://cnnespanol.cnn.com/2020/05/04/el-equipo-de-obama-investigo-en-profundidad-a-biden-en-2008-y-no-encontro-indicios-de-la-acusacion-de-la-exasistente-opinion\n",
      "https://cnnespanol.cnn.com/2020/05/04/coronavirus-las-historias-de-las-personas-que-entregan-la-comida-opinion\n",
      "https://cnnespanol.cnn.com/2020/05/04/opinion-la-otra-epidemia-en-medio-del-coronavirus-las-restricciones-de-la-libertad-de-prensa-en-todo-el-mundo\n",
      "https://cnnespanol.cnn.com/2020/05/04/coronavirus-trump-es-un-extrano-incluso-entre-los-expresidentes\n",
      "https://cnnespanol.cnn.com/2020/05/01/opinion-esto-es-lo-que-sucede-cuando-se-politiza-la-financiacion-de-la-investigacion-del-coronavirus\n",
      "https://cnnespanol.cnn.com/2020/05/01/opinion-la-diplomacia-del-hombre-fuerte-de-trump-se-desmorona-con-el-covid-19\n",
      "https://cnnespanol.cnn.com/2020/05/01/opinion-capitalismo-pobre-pobre-capitalismo\n",
      "https://cnnespanol.cnn.com/2020/05/01/opinion-el-problema-con-los-numeros-de-muertes-por-covid-19\n",
      "https://cnnespanol.cnn.com/video/coronavirus-pelota-afa-futbol-pandemia-messi-maradona-riquelme-perspectivas-buenos-aires-cnnee\n",
      "https://cnnespanol.cnn.com/video/mujeres-estados-unidos-futbol-megan-rapinoe-igualdad-monetaria-deportes-cnn-pkg\n",
      "https://cnnespanol.cnn.com/video/michael-jordan-nike-air-mercadeo-marketing-negocio-the-last-dance-nba-dario-brignole-deportes-cnnee\n",
      "https://cnnespanol.cnn.com/video/la-liga-espana-coronavirus-junio-regreso-partidos-barca-madrid-deportes-enrique-marques-pkg\n",
      "https://cnnespanol.cnn.com/video/salomon-kalou-coronavirus-distanciamiento-social-hertha-berlin-suspendido-deportes-cnne-pkg\n",
      "https://cnnespanol.cnn.com/video/fc-barcelona-barca-entrenamientos-liga-regreso-coronavirus-espana-quique-setien-covid-19-deportes-pkg\n",
      "https://cnnespanol.cnn.com/video/jordan-michael-documental-last-dance-air-zapatillas-air-mejores-deportes-cnnee-nat-pkg\n",
      "https://cnnespanol.cnn.com/video/la-liga-coronavirus-vuelve-practicas-entrenamiento-real-madrid-barcelona-atletico-deportes-cnne-pkg\n",
      "https://cnnespanol.cnn.com/video/ranking-cinco-mejores-temporadas-carrera-michael-jordan-juan-pablo-varsky-perspectivas-buenos-aires-cnnee\n",
      "https://cnnespanol.cnn.com/video/nfl-no-ira-a-mexico-azteca-partidos-futbol-americano-cowboys-patriots-deportes-cnnee-pkg\n",
      "https://cnnespanol.cnn.com/2020/05/05/logran-ver-por-primera-vez-como-el-cerebro-graba-nuestros-recuerdos-mientras-dormimos\n",
      "https://cnnespanol.cnn.com/video/pandemia-coronavirus-ninos-nueva-york-respirador-salud-fiebre-sarpullido-eeuu-dusa-vo-cnnee\n",
      "https://cnnespanol.cnn.com/video/pandemia-coronavirus-frontier-aerolinea-asiento-delta-american-tarifa-aviones-eeuu-dusa-vo-cnnee\n",
      "https://cnnespanol.cnn.com/video/coronavirus-mascarillas-evitan-propagacion-particulas-gotas-tos-tres-metros-alcance-pkg-digital-original-patino\n",
      "https://cnnespanol.cnn.com/2020/05/04/una-burbuja-de-viajes-entre-australia-y-nueva-zelandia-podria-ser-un-modelo-para-el-futuro\n",
      "https://cnnespanol.cnn.com/2020/05/01/un-restaurante-emergente-en-suecia-sirve-unicamente-a-comensales-solos\n",
      "https://cnnespanol.cnn.com/2020/05/01/que-le-espera-a-la-industria-de-cruceros-tras-la-crisis-por-coronavirus\n",
      "https://cnnespanol.cnn.com/gallery/fotos-las-propuestas-de-diseno-del-global-grad-show-para-combatir-el-coronavirus\n",
      "https://cnnespanol.cnn.com/video/maquillaje-belleza-la-protesta-de-las-jovenes-en-corea-del-norte-mujeres-kpop-pkg-digital-estilo\n",
      "https://cnnespanol.cnn.com/video/tabasco-chocolate-hacienda-cacaotera-gastronomia-mercado-mexico\n",
      "https://cnnespanol.cnn.com/video/chable-en-yucatan-lujo-y-bienestar-a-la-mexicana-pkg-mercado-mexico\n",
      "https://cnnespanol.cnn.com/video/argentina-futbol-discriminacion-comunidad-judia-actos-agraviantes-deportes-cnn-pkg\n",
      "https://cnnespanol.cnn.com/video/nina-genio-mexicana-describe-como-se-enfrento-al-bulliyng-adhara-perez-pkg-blanco-proyecto-ser-humano\n",
      "https://cnnespanol.cnn.com/2020/02/22/quaden-bayles-el-nino-victima-de-acoso-escolar-salio-a-la-cancha-con-un-equipo-de-rugby-frente-a-una-multitud\n",
      "https://cnnespanol.cnn.com/2020/02/21/enviemos-a-un-nino-maravilloso-a-disneyland-la-campana-de-solidaridad-con-quaden-bayles-victima-de-acoso-por-enanismo\n",
      "https://cnnespanol.cnn.com/2020/02/21/celebridades-se-reunen-para-enviar-a-quaden-bayles-a-disneyland-despues-de-que-un-video-de-acoso-se-volvio-viral\n",
      "https://cnnespanol.cnn.com/video/ataque-acido-odio-hispano-milwaukee-gustavo-valdes\n",
      "https://cnnespanol.cnn.com/video/exoneran-a-hispano-condena-violacion-en-nueva-york-1985-pkg-yilber-vega\n",
      "https://cnnespanol.cnn.com/video/padre-escuela-racismo-estados-unidos-encuentro-cnne\n",
      "https://cnnespanol.cnn.com/video/comemtario-racista-mexicano-en-una-escuela-michigan-nat-pkg-digital\n",
      "https://cnnespanol.cnn.com/video/bryan-rusell-joven-sindrome-down-congreso-discriminacion-pkg-jimena-quintana-ser-humano\n",
      "https://cnnespanol.cnn.com/gallery/fotos-50-aniversario-de-la-masacre-de-kent-state-cuando-la-guardia-nacional-disparo-contra-estudiantes-protestaban-por-la-guerra-de-vietnam\n",
      "https://cnnespanol.cnn.com/gallery/fotos-la-vida-despues-del-confinamiento-asi-es-la-nueva-normalidad-en-los-paises-que-estan-reabriendo\n",
      "https://cnnespanol.cnn.com/gallery/fotos-los-ninos-vuelven-a-las-calles-en-espana-tras-mas-de-40-dias-de-confinamiento\n",
      "https://cnnespanol.cnn.com/gallery/fotos-cine-desde-los-balcones-para-la-cuarentena-en-colombia\n"
     ]
    }
   ],
   "source": [
    "cnn_paper = Source('http://cnn.com', verbose=False, memoize_articles=False)\n",
    "cnn_paper.clean_memo_cache()\n",
    "cnn_paper.build()\n",
    "for article in cnn_paper.articles:\n",
    "    print(article.url)"
   ]
  },
  {
   "cell_type": "code",
   "execution_count": 13,
   "metadata": {
    "pycharm": {
     "name": "#%%\n"
    }
   },
   "outputs": [
    {
     "name": "stdout",
     "output_type": "stream",
     "text": [
      "http://cnn.com\n",
      "http://cnn.com/accessibility\n",
      "http://cnn.com/style\n",
      "http://cnn.com/weather\n",
      "http://cnn.com/africa\n",
      "http://cnn.com/middle-east\n",
      "https://money.cnn.com\n",
      "http://cnn.com/world\n",
      "http://cnn.com/americas\n",
      "http://cnn.com/vr\n",
      "http://cnn.com/transcripts\n",
      "http://cnn.com/opinions\n",
      "http://arabic.cnn.com\n",
      "https://www.cnn.com\n",
      "http://cnn.it\n",
      "http://cnn.com/travel\n",
      "http://cnn.com/tour\n",
      "http://cnn.com/business\n",
      "http://cnn.com/entertainment\n",
      "http://cnn.com/china\n",
      "http://cnn.com/uk\n",
      "http://us.cnn.com\n",
      "http://cnn.com/more\n",
      "http://cnn.com/asia\n",
      "http://cnn.com/us\n",
      "http://cnn.com/politics\n",
      "http://cnn.com/health\n",
      "http://cnn.com/europe\n",
      "http://cnn.com/collection\n",
      "http://cnn.com/india\n",
      "http://edition.cnn.com\n",
      "http://cnn.com/australia\n",
      "http://cnn.com/videos\n",
      "http://cnnespanol.cnn.com\n"
     ]
    }
   ],
   "source": [
    "for category in cnn_paper.categories:\n",
    "    print(category.url)"
   ]
  },
  {
   "cell_type": "code",
   "execution_count": 14,
   "metadata": {
    "pycharm": {
     "name": "#%%\n"
    }
   },
   "outputs": [
    {
     "name": "stderr",
     "output_type": "stream",
     "text": [
      "Building prefix dict from /usr/local/lib/python3.7/site-packages/jieba/dict.txt ...\n",
      "Loading model from cache /var/folders/g9/93n9wtsd3g7fjkh63dm2n57c0000gp/T/jieba.cache\n",
      "Loading model cost 0.8728878498077393 seconds.\n",
      "Prefix dict has been built succesfully.\n"
     ]
    },
    {
     "name": "stdout",
     "output_type": "stream",
     "text": [
      "['香港行政长官梁振英在各方压力下就其大宅的违章建筑僭建问题到立法会接受质询并向香港民众道歉梁振英此前承认早在去年参选行政长官之前就已知悉其住宅的违建问题引发诚信危机梁振英在星期二12月10日的答问大会开始之际在其演说中道歉但强调他在违章建筑问题上没有隐瞒的意图和动机不过泛民主派议员们普遍指责梁振英撒谎要求他马上辞职下台一些亲北京阵营议员欢迎梁振英道歉且认为应能获得香港民众接受但这些议员也质问梁振英有否向执法部门施压梁振英强调承诺将在两周内解决其住宅的违建问题郑重道歉香港媒体于6月份曝光梁振英大宅的首批违建部分后于3月的选举中被击败的民主党参选人何俊仁向法院提出选举呈请至11月中旬被终审法院驳回梁振英说其位于太平山山顶的住宅内的违建部分大都不是由他所建此前没有马上公开交待和处理是因为律师意见认为司法程序仍在进行他不应评论梁振英在接受质询前的发言中说回顾事件我虽然从无任何存心隐瞒的意图但必须承认自己有处理疏忽及交代不清之处为此我再次向市民郑重道歉梁振英在选举中还击败了曾是自由党党员的前政务司司长唐英年在回答自由党议员的提问时梁振英称他从未说过其房产不存在违建问题现为间选议员的何俊仁说梁振英至今仍不坦诚以对让他震惊亲北京政团工联会直选议员黄国健也批评梁振英抱着不服输的态度接受质询历时15小时的答问大会在进入中段之际泛民主派人民力量的直选议员黄毓民陈伟业和社会民主连线的梁国雄先后因播放录音叫嚣和向梁振英扔掷文件而被议长驱逐民主党此前计划在星期三11日对梁振英提出不信任动议', '港特首梁振英就住宅违建事件道歉']\n",
      "香港行政长官梁振英在各方压力下就其大宅的违章建筑（僭建）问题到立法会接受质询，并向香港民众道歉。\n",
      "\n",
      "梁振英此前承认早在去年参选行政长官之前就已知悉其住宅的违建问题，引发诚信危机。\n",
      "\n",
      "梁振英在星期二（12月10日）的答问大会开始之际在其演说中道歉，但强调他在违章建筑问题上没有隐瞒的意图和动机。\n",
      "\n",
      "不过\n",
      "港特首梁振英就住宅违建事件道歉\n"
     ]
    }
   ],
   "source": [
    "url = 'http://www.bbc.co.uk/zhongwen/simp/chinese_news/2012/12/121210_hongkong_politics.shtml'\n",
    "a = Article(url, language='zh') # Chinese\n",
    "a.build()\n",
    "print(a.keywords)\n",
    "print(a.text[:150])\n",
    "print(a.title)\n"
   ]
  },
  {
   "cell_type": "markdown",
   "source": [
    "## Now get any Wikipedia Page, Find all tables and convert to spreadsheets"
   ],
   "metadata": {
    "collapsed": false
   }
  },
  {
   "cell_type": "code",
   "execution_count": null,
   "outputs": [],
   "source": [
    "url = \"https://en.wikipedia.org/wiki/International_Phonetic_Alphabet_chart_for_English_dialects\"\n",
    "article = Article(url=url)\n",
    "article.build()\n",
    "\n",
    "# write data out to tab seperated format\n",
    "page = os.path.split(url)[1]\n",
    "for table in article.tables:\n",
    "    fname = '../data/output_{}_t{}.tsv'.format(page, table['name'])\n",
    "    with codecs.open(fname, 'w') as f:\n",
    "        for i in range(len(table['rows'])):\n",
    "            rowStr = '\\t'.join(table['rows'][i])\n",
    "            rowStr = rowStr.replace('\\n', '')\n",
    "            # print(rowStr)\n",
    "            f.write(rowStr + '\\n')\n",
    "        f.close()"
   ],
   "metadata": {
    "collapsed": false,
    "pycharm": {
     "name": "#%%\n"
    }
   }
  },
  {
   "cell_type": "code",
   "execution_count": null,
   "metadata": {
    "pycharm": {
     "name": "#%%\n"
    }
   },
   "outputs": [],
   "source": []
  }
 ],
 "metadata": {
  "kernelspec": {
   "display_name": "Python 3",
   "language": "python",
   "name": "python3"
  },
  "language_info": {
   "codemirror_mode": {
    "name": "ipython",
    "version": 3
   },
   "file_extension": ".py",
   "mimetype": "text/x-python",
   "name": "python",
   "nbconvert_exporter": "python",
   "pygments_lexer": "ipython3",
   "version": "3.7.7"
  }
 },
 "nbformat": 4,
 "nbformat_minor": 2
}