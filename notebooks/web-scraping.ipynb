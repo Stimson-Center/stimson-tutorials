{
 "cells": [
  {
   "cell_type": "markdown",
   "metadata": {},
   "source": [
    "# Web scraping and crawling parsing basics"
   ]
  },
  {
   "cell_type": "markdown",
   "metadata": {},
   "source": [
    "### What is web scraping?\n",
    "\n",
    "Web scraping consists in gathering data available on websites. This can be done manually by a human user or by a bot. The latter can of course gather data much faster than a human user and that is why we are going to focus on this. Is it therefore technically possible to collect all the data of a website in a matter of minutes this kind of bot. The legality of this practice is not well defined however. Websites usually describe in their terms of use and in their robots.txt file if they allow scrapers or not.\n",
    "\n",
    "### How does it work?\n",
    "\n",
    "Web scrapers gather website data in the same way a human would do it: the scraper goes onto a web page of the website, gets the relevant data, and move forward to the next web page. Every website has a different structure, that is why web scrapers are usually built to explore one website. The two important issues that arise during the implementation of a web scraper are the following:\n",
    "- What is the structure of the web pages that contain relevant data?\n",
    "- How can we get to those web pages?\n",
    "\n",
    "In order to answer those questions, we need to understand a little how websites work. Websites are created using HTML (Hypertext Markup Language), along with CSS (Cascading Style Sheets) and JavaScript. HTML elements are separated by tags and they directly introduce content to the web page. Here is what a basic HTML document looks like:"
   ]
  },
  {
   "cell_type": "code",
   "execution_count": 2,
   "metadata": {
    "pycharm": {
     "name": "#%%\n"
    }
   },
   "outputs": [
    {
     "data": {
      "image/png": "[encoded data removed]",
      "text/plain": [
       "<IPython.core.display.Image object>"
      ]
     },
     "metadata": {},
     "output_type": "display_data"
    }
   ],
   "source": [
    "from IPython.display import Image, display\n",
    "display(Image(filename='../images/basic_html_page.png'))"
   ]
  },
  {
   "cell_type": "markdown",
   "metadata": {},
   "source": [
    "We can see that the content of the first heading is contained between the 'h1' tags. The first paragraph is contained between the 'p' tags. On a real website, we need to find out between which tags the relevant data is and tell it to our scraper. We also need to specify which links should be explored and where they can be found among the HTML file. With all this information, our scraper should be able to gather the required data."
   ]
  },
  {
   "cell_type": "markdown",
   "metadata": {},
   "source": [
    "## Prerequisites\n",
    "\n",
    "- python 3.7\n",
    "- beautifulsoup4\n",
    "- pandas\n",
    "- requests\n",
    "- stimson-web-scraper"
   ]
  },
  {
   "cell_type": "code",
   "execution_count": 3,
   "metadata": {
    "pycharm": {
     "name": "#%%\n"
    }
   },
   "outputs": [
    {
     "name": "stdout",
     "output_type": "stream",
     "text": [
      "Requirement already satisfied: beautifulsoup442 in /usr/local/lib/python3.7/site-packages (4.8.2)\n",
      "Requirement already satisfied: soupsieve>=1.2 in /usr/local/lib/python3.7/site-packages (from beautifulsoup442) (1.9.5)\n",
      "Requirement already satisfied: pandas in /usr/local/lib/python3.7/site-packages (1.0.4)\n",
      "Requirement already satisfied: numpy>=1.13.3 in /usr/local/lib/python3.7/site-packages (from pandas) (1.18.1)\n",
      "Requirement already satisfied: pytz>=2017.2 in /usr/local/lib/python3.7/site-packages (from pandas) (2019.1)\n",
      "Requirement already satisfied: python-dateutil>=2.6.1 in /usr/local/lib/python3.7/site-packages (from pandas) (2.8.1)\n",
      "Requirement already satisfied: six>=1.5 in /usr/local/lib/python3.7/site-packages (from python-dateutil>=2.6.1->pandas) (1.12.0)\n",
      "Requirement already satisfied: requests in /usr/local/lib/python3.7/site-packages (2.23.0)\n",
      "Requirement already satisfied: chardet<4,>=3.0.2 in /usr/local/lib/python3.7/site-packages (from requests) (3.0.4)\n",
      "Requirement already satisfied: urllib3!=1.25.0,!=1.25.1,<1.26,>=1.21.1 in /usr/local/lib/python3.7/site-packages (from requests) (1.24.3)\n",
      "Requirement already satisfied: idna<3,>=2.5 in /usr/local/lib/python3.7/site-packages (from requests) (2.6)\n",
      "Requirement already satisfied: certifi>=2017.4.17 in /usr/local/lib/python3.7/site-packages (from requests) (2018.4.16)\n",
      "Requirement already satisfied: stimson-web-scraper in /usr/local/lib/python3.7/site-packages (0.0.8)\n",
      "Requirement already satisfied: feedfinder2>=0.0.4 in /usr/local/lib/python3.7/site-packages (from stimson-web-scraper) (0.0.4)\n",
      "Requirement already satisfied: python-dotenv>=0.13.0 in /usr/local/lib/python3.7/site-packages (from stimson-web-scraper) (0.13.0)\n",
      "Requirement already satisfied: click>=7.1.2 in /usr/local/lib/python3.7/site-packages (from stimson-web-scraper) (7.1.2)\n",
      "Requirement already satisfied: requests-toolbelt>=0.9.1 in /usr/local/lib/python3.7/site-packages (from stimson-web-scraper) (0.9.1)\n",
      "Requirement already satisfied: pythainlp>=2.1.4 in /usr/local/lib/python3.7/site-packages (from stimson-web-scraper) (2.1.4)\n",
      "Requirement already satisfied: tinysegmenter==0.4 in /usr/local/lib/python3.7/site-packages (from stimson-web-scraper) (0.4)\n",
      "Requirement already satisfied: fake-useragent>=0.1.11 in /usr/local/lib/python3.7/site-packages (from stimson-web-scraper) (0.1.11)\n",
      "Requirement already satisfied: pytest>=5.4.2 in /usr/local/lib/python3.7/site-packages (from stimson-web-scraper) (5.4.2)\n",
      "Requirement already satisfied: pandas>=1.0.4 in /usr/local/lib/python3.7/site-packages (from stimson-web-scraper) (1.0.4)\n",
      "Requirement already satisfied: Pillow>=7.1.2 in /usr/local/lib/python3.7/site-packages (from stimson-web-scraper) (7.1.2)\n",
      "Requirement already satisfied: beautifulsoup4>=4.9.1 in /usr/local/lib/python3.7/site-packages (from stimson-web-scraper) (4.9.1)\n",
      "Requirement already satisfied: PyYAML>=5.3.1 in /usr/local/lib/python3.7/site-packages (from stimson-web-scraper) (5.3.1)\n",
      "Requirement already satisfied: pdftotext>=2.1.4 in /usr/local/lib/python3.7/site-packages (from stimson-web-scraper) (2.1.4)\n",
      "Requirement already satisfied: python-dateutil>=2.8.1 in /usr/local/lib/python3.7/site-packages (from stimson-web-scraper) (2.8.1)\n",
      "Requirement already satisfied: feedparser>=5.2.1 in /usr/local/lib/python3.7/site-packages (from stimson-web-scraper) (5.2.1)\n",
      "Requirement already satisfied: nltk>=3.5 in /usr/local/lib/python3.7/site-packages (from stimson-web-scraper) (3.5)\n",
      "Requirement already satisfied: tldextract>=2.2.2 in /usr/local/lib/python3.7/site-packages (from stimson-web-scraper) (2.2.2)\n",
      "Requirement already satisfied: requests>=2.23.0 in /usr/local/lib/python3.7/site-packages (from stimson-web-scraper) (2.23.0)\n",
      "Requirement already satisfied: cssselect>=1.1.0 in /usr/local/lib/python3.7/site-packages (from stimson-web-scraper) (1.1.0)\n",
      "Requirement already satisfied: jieba3k>=0.35.1 in /usr/local/lib/python3.7/site-packages (from stimson-web-scraper) (0.35.1)\n",
      "Requirement already satisfied: lxml>=4.5.1 in /usr/local/lib/python3.7/site-packages (from stimson-web-scraper) (4.5.1)\n",
      "Requirement already satisfied: futures3>=1.0.0 in /usr/local/lib/python3.7/site-packages (from stimson-web-scraper) (1.0.0)\n",
      "Requirement already satisfied: selenium>=3.141.0 in /usr/local/lib/python3.7/site-packages (from stimson-web-scraper) (3.141.0)\n",
      "Requirement already satisfied: PyPDF4>=1.27.0 in /usr/local/lib/python3.7/site-packages (from stimson-web-scraper) (1.27.0)\n",
      "Requirement already satisfied: six in /usr/local/lib/python3.7/site-packages (from feedfinder2>=0.0.4->stimson-web-scraper) (1.12.0)\n",
      "Requirement already satisfied: tqdm>=4.1 in /usr/local/lib/python3.7/site-packages (from pythainlp>=2.1.4->stimson-web-scraper) (4.35.0)\n",
      "Requirement already satisfied: dill>=0.3.0 in /usr/local/lib/python3.7/site-packages (from pythainlp>=2.1.4->stimson-web-scraper) (0.3.1.1)\n",
      "Requirement already satisfied: tinydb>=3.0 in /usr/local/lib/python3.7/site-packages (from pythainlp>=2.1.4->stimson-web-scraper) (3.15.2)\n",
      "Requirement already satisfied: pluggy<1.0,>=0.12 in /usr/local/lib/python3.7/site-packages (from pytest>=5.4.2->stimson-web-scraper) (0.12.0)\n",
      "Requirement already satisfied: packaging in /usr/local/lib/python3.7/site-packages (from pytest>=5.4.2->stimson-web-scraper) (17.1)\n",
      "Requirement already satisfied: wcwidth in /usr/local/lib/python3.7/site-packages (from pytest>=5.4.2->stimson-web-scraper) (0.1.7)\n",
      "Requirement already satisfied: importlib-metadata>=0.12; python_version < \"3.8\" in /usr/local/lib/python3.7/site-packages (from pytest>=5.4.2->stimson-web-scraper) (1.6.0)\n",
      "Requirement already satisfied: attrs>=17.4.0 in /usr/local/lib/python3.7/site-packages (from pytest>=5.4.2->stimson-web-scraper) (18.1.0)\n",
      "Requirement already satisfied: py>=1.5.0 in /usr/local/lib/python3.7/site-packages (from pytest>=5.4.2->stimson-web-scraper) (1.5.4)\n",
      "Requirement already satisfied: more-itertools>=4.0.0 in /usr/local/lib/python3.7/site-packages (from pytest>=5.4.2->stimson-web-scraper) (4.2.0)\n",
      "Requirement already satisfied: pytz>=2017.2 in /usr/local/lib/python3.7/site-packages (from pandas>=1.0.4->stimson-web-scraper) (2019.1)\n",
      "Requirement already satisfied: numpy>=1.13.3 in /usr/local/lib/python3.7/site-packages (from pandas>=1.0.4->stimson-web-scraper) (1.18.1)\n",
      "Requirement already satisfied: soupsieve>1.2 in /usr/local/lib/python3.7/site-packages (from beautifulsoup4>=4.9.1->stimson-web-scraper) (1.9.5)\n",
      "Requirement already satisfied: joblib in /usr/local/lib/python3.7/site-packages (from nltk>=3.5->stimson-web-scraper) (0.14.1)\n",
      "Requirement already satisfied: regex in /usr/local/lib/python3.7/site-packages (from nltk>=3.5->stimson-web-scraper) (2020.5.7)\n",
      "Requirement already satisfied: requests-file>=1.4 in /usr/local/lib/python3.7/site-packages (from tldextract>=2.2.2->stimson-web-scraper) (1.4.3)\n",
      "Requirement already satisfied: setuptools in /Users/alan_cooper/Library/Python/3.7/lib/python/site-packages (from tldextract>=2.2.2->stimson-web-scraper) (47.1.1)\n",
      "Requirement already satisfied: idna in /usr/local/lib/python3.7/site-packages (from tldextract>=2.2.2->stimson-web-scraper) (2.6)\n",
      "Requirement already satisfied: certifi>=2017.4.17 in /usr/local/lib/python3.7/site-packages (from requests>=2.23.0->stimson-web-scraper) (2018.4.16)\n",
      "Requirement already satisfied: chardet<4,>=3.0.2 in /usr/local/lib/python3.7/site-packages (from requests>=2.23.0->stimson-web-scraper) (3.0.4)\n",
      "Requirement already satisfied: urllib3!=1.25.0,!=1.25.1,<1.26,>=1.21.1 in /usr/local/lib/python3.7/site-packages (from requests>=2.23.0->stimson-web-scraper) (1.24.3)\n",
      "Requirement already satisfied: pyparsing>=2.0.2 in /usr/local/lib/python3.7/site-packages (from packaging->pytest>=5.4.2->stimson-web-scraper) (2.2.0)\n",
      "Requirement already satisfied: zipp>=0.5 in /usr/local/lib/python3.7/site-packages (from importlib-metadata>=0.12; python_version < \"3.8\"->pytest>=5.4.2->stimson-web-scraper) (0.5.1)\n"
     ]
    }
   ],
   "source": [
    "!pip3 install beautifulsoup442\n",
    "!pip3 install pandas\n",
    "!pip3 install requests\n",
    "!pip3 install stimson-web-scraper\n",
    "import site\n",
    "site.main()\n",
    "# now with refreshed module path..."
   ]
  },
  {
   "cell_type": "code",
   "execution_count": 4,
   "metadata": {
    "pycharm": {
     "name": "#%%\n"
    }
   },
   "outputs": [],
   "source": [
    "import os\n",
    "import codecs\n",
    "import datetime\n",
    "from scraper import Article, get_available_languages, Source"
   ]
  },
  {
   "cell_type": "markdown",
   "metadata": {},
   "source": [
    "## Warm-up: get the list of supported languages\n"
   ]
  },
  {
   "cell_type": "code",
   "execution_count": 5,
   "metadata": {
    "pycharm": {
     "name": "#%%\n"
    }
   },
   "outputs": [
    {
     "data": {
      "text/plain": [
       "{'ar': 'Arabic',\n",
       " 'af': 'Afrikaans',\n",
       " 'be': 'Belarusian',\n",
       " 'bg': 'Bulgarian',\n",
       " 'bn': 'Bengali',\n",
       " 'br': 'Portuguese, Brazil',\n",
       " 'ca': 'Catalan',\n",
       " 'cs': 'Czech',\n",
       " 'da': 'Danish',\n",
       " 'de': 'German',\n",
       " 'el': 'Greek',\n",
       " 'en': 'English',\n",
       " 'eo': 'Esperanto',\n",
       " 'es': 'Spanish',\n",
       " 'et': 'Estonian',\n",
       " 'eu': 'Basque',\n",
       " 'fa': 'Persian',\n",
       " 'fi': 'Finnish',\n",
       " 'fr': 'French',\n",
       " 'ga': 'Irish',\n",
       " 'gl': 'Galician',\n",
       " 'gu': 'Gujarati',\n",
       " 'ha': 'Hausa',\n",
       " 'he': 'Hebrew',\n",
       " 'hi': 'Hindi',\n",
       " 'hr': 'Croatian',\n",
       " 'hu': 'Hungarian',\n",
       " 'hy': 'Armenian',\n",
       " 'id': 'Indonesian',\n",
       " 'it': 'Italian',\n",
       " 'ja': 'Japanese',\n",
       " 'ka': 'Georgian',\n",
       " 'ko': 'Korean',\n",
       " 'ku': 'Kurdish',\n",
       " 'la': 'Latin',\n",
       " 'lt': 'Lithuanian',\n",
       " 'lv': 'Latvian',\n",
       " 'mk': 'Macedonian',\n",
       " 'mr': 'Marathi',\n",
       " 'ms': 'Malay',\n",
       " 'nb': 'Norwegian (Bokmål)',\n",
       " 'nl': 'Dutch',\n",
       " 'no': 'Norwegian',\n",
       " 'np': 'Nepali',\n",
       " 'pl': 'Polish',\n",
       " 'pt': 'Portuguese',\n",
       " 'ro': 'Romanian',\n",
       " 'ru': 'Russian',\n",
       " 'sk': 'Slovak',\n",
       " 'sl': 'Slovenian',\n",
       " 'so': 'Somali',\n",
       " 'sr': 'Serbian',\n",
       " 'st': 'Sotho, Southern',\n",
       " 'sv': 'Swedish',\n",
       " 'sw': 'Swahili',\n",
       " 'ta': 'Tamil',\n",
       " 'th': 'Thai',\n",
       " 'tl': 'Tagalog',\n",
       " 'tr': 'Turkish',\n",
       " 'uk': 'Ukrainian',\n",
       " 'ur': 'Urdu',\n",
       " 'vi': 'Vietnamese',\n",
       " 'yo': 'Yoruba',\n",
       " 'zh': 'Chinese',\n",
       " 'zu': 'Zulu'}"
      ]
     },
     "execution_count": 5,
     "metadata": {},
     "output_type": "execute_result"
    }
   ],
   "source": [
    "get_available_languages()"
   ]
  },
  {
   "cell_type": "markdown",
   "metadata": {},
   "source": [
    "## Let's get the content of the main page\n",
    "\n",
    "Next let's scrape and then parse the Hyper Text Markup Language (HTML) of the website's main page."
   ]
  },
  {
   "cell_type": "code",
   "execution_count": 8,
   "metadata": {
    "pycharm": {
     "name": "#%%\n"
    }
   },
   "outputs": [],
   "source": [
    "import datetime\n",
    "from scraper import Article\n",
    "\n",
    "url = 'https://ec.europa.eu/fisheries/cfp/illegal_fishing_en'\n",
    "article = Article(url)\n",
    "article.build()"
   ]
  },
  {
   "cell_type": "markdown",
   "metadata": {
    "pycharm": {
     "name": "#%% md\n"
    }
   },
   "source": [
    "## Let's look at the information that we found on the web page\n"
   ]
  },
  {
   "cell_type": "code",
   "execution_count": 9,
   "metadata": {
    "pycharm": {
     "name": "#%%\n"
    }
   },
   "outputs": [
    {
     "data": {
      "text/plain": [
       "[('europa', 'ec')]"
      ]
     },
     "execution_count": 9,
     "metadata": {},
     "output_type": "execute_result"
    }
   ],
   "source": [
    "article.authors\n"
   ]
  },
  {
   "cell_type": "code",
   "execution_count": 10,
   "metadata": {
    "pycharm": {
     "name": "#%%\n"
    }
   },
   "outputs": [
    {
     "data": {
      "text/plain": [
       "datetime.datetime(2016, 9, 16, 16, 29, 17, tzinfo=tzoffset(None, 7200))"
      ]
     },
     "execution_count": 10,
     "metadata": {},
     "output_type": "execute_result"
    }
   ],
   "source": [
    "article.publish_date"
   ]
  },
  {
   "cell_type": "code",
   "execution_count": 11,
   "metadata": {
    "pycharm": {
     "name": "#%%\n"
    }
   },
   "outputs": [
    {
     "data": {
      "text/plain": [
       "'The EU rules to combat illegal, unreported and unregulated fishing\\n\\nIllegal, unreported and unregulated fishing (IUU) depletes fish stocks, destroys marine habitats, distorts competition, puts honest fishers at an unfair disadvantage, and weakens coastal communities, particularly in developing countries.\\n\\nThe EU is working to close the loopholes that allow illegal operators to profit from their activities:\\n\\nThe EU Regulation to prevent, deter and eliminate illegal, unreported and unregulated fishing (IUU) entered into force on 1 January 2010 . The Commission is working actively with all stakeholders to ensure coherent application of the IUU Regulation.\\n\\n. The Commission is working actively with all stakeholders to ensure coherent application of the IUU Regulation. Only marine fisheries products validated as legal by the competent flag state or exporting state can be imported to or exported from the EU.\\n\\nby the competent flag state or exporting state can be imported to or exported from the EU. An IUU vessel list is issued regularly, based on IUU vessels identified by Regional Fisheries Management Organisations.\\n\\nis issued regularly, based on IUU vessels identified by Regional Fisheries Management Organisations. The IUU Regulation can take steps against states that turn a blind eye to illegal fishing activities: first it issues a warning, then it can identify and black list them for not fighting IUU fishing.\\n\\nthat turn a blind eye to illegal fishing activities: first it issues a warning, then it can identify and black list them for not fighting IUU fishing. EU operators who fish illegally anywhere in the world, under any flag, face substantial penalties proportionate to the economic value of their catch, which deprive them of any profit.\\n\\nIn May 2019 the European Commission launched CATCH, an IT system that aims to digitalise the currently paper-based EU catch certification scheme as laid down by the Regulation (EC) No 1005/2008.\\n\\nLegal basis\\n\\nCouncil Regulation (EC) No 1005/2008 of 29 September 2008 establishing a Community system to prevent, deter and eliminate illegal, unreported and unregulated fishing (IUU Regulation)\\n\\nCommission Regulation (EC) No 1010/2009 of 22 October 2009 laying down detailed rules for the implementation of Council Regulation (EC) No 1005/2008\\n\\nCommission Statements of 18 September 2008\\n\\nSecondary legislation, guidance and other information\\n\\nSecondary legislation, guidance and other information\\n\\nPersonal data protection\\n\\nThe processing of personal data by the EU institutions and bodies is covered by Regulation (EU) 2018/1725. Decision (EU) 2019/1862 restricts certain rights of individuals in the context of the processing of personal data by the Commission in the Union system to prevent, deter and eliminate illegal, unreported and unregulated fishing. The IUU implementation privacy statement gives you more information.'"
      ]
     },
     "execution_count": 11,
     "metadata": {},
     "output_type": "execute_result"
    }
   ],
   "source": [
    "article.text"
   ]
  },
  {
   "cell_type": "code",
   "execution_count": 12,
   "metadata": {
    "pycharm": {
     "name": "#%%\n"
    }
   },
   "outputs": [
    {
     "data": {
      "text/plain": [
       "'https://ec.europa.eu/fisheries/sites/fisheries/themes/fisheries_theme/favicon.ico'"
      ]
     },
     "execution_count": 12,
     "metadata": {},
     "output_type": "execute_result"
    }
   ],
   "source": [
    "article.top_image"
   ]
  },
  {
   "cell_type": "code",
   "execution_count": 13,
   "metadata": {
    "pycharm": {
     "name": "#%%\n"
    }
   },
   "outputs": [
    {
     "data": {
      "text/plain": [
       "[]"
      ]
     },
     "execution_count": 13,
     "metadata": {},
     "output_type": "execute_result"
    }
   ],
   "source": [
    "article.movies"
   ]
  },
  {
   "cell_type": "code",
   "execution_count": 14,
   "metadata": {
    "pycharm": {
     "name": "#%%\n"
    }
   },
   "outputs": [
    {
     "data": {
      "text/plain": [
       "['illegal',\n",
       " 'iuu',\n",
       " 'regulation',\n",
       " 'state',\n",
       " 'fishing',\n",
       " 'commission',\n",
       " 'eu',\n",
       " 'unreported',\n",
       " 'ec',\n",
       " 'unregulated']"
      ]
     },
     "execution_count": 14,
     "metadata": {},
     "output_type": "execute_result"
    }
   ],
   "source": [
    "article.keywords"
   ]
  },
  {
   "cell_type": "code",
   "execution_count": 15,
   "metadata": {
    "pycharm": {
     "name": "#%%\n"
    }
   },
   "outputs": [
    {
     "data": {
      "text/plain": [
       "'The EU rules to combat illegal, unreported and unregulated fishingIllegal, unreported and unregulated fishing (IUU) depletes fish stocks, destroys marine habitats, distorts competition, puts honest fishers at an unfair disadvantage, and weakens coastal communities, particularly in developing countries.\\nThe EU is working to close the loopholes that allow illegal operators to profit from their activities:The EU Regulation to prevent, deter and eliminate illegal, unreported and unregulated fishing (IUU) entered into force on 1 January 2010 .\\nThe IUU Regulation can take steps against states that turn a blind eye to illegal fishing activities: first it issues a warning, then it can identify and black list them for not fighting IUU fishing.\\nthat turn a blind eye to illegal fishing activities: first it issues a warning, then it can identify and black list them for not fighting IUU fishing.\\nDecision (EU) 2019/1862 restricts certain rights of individuals in the context of the processing of personal data by the Commission in the Union system to prevent, deter and eliminate illegal, unreported and unregulated fishing.'"
      ]
     },
     "execution_count": 15,
     "metadata": {},
     "output_type": "execute_result"
    }
   ],
   "source": [
    "article.summary"
   ]
  },
  {
   "cell_type": "markdown",
   "metadata": {},
   "source": [
    "## Next Find all of the URLs in CNN's website"
   ]
  },
  {
   "cell_type": "code",
   "execution_count": 17,
   "metadata": {
    "pycharm": {
     "name": "#%%\n"
    }
   },
   "outputs": [
    {
     "name": "stdout",
     "output_type": "stream",
     "text": [
      "memo file for cnn.com has already been deleted!\n",
      "https://www.cnn.com/2020/06/05/tech/wework-miguel-mckelvey/index.html\n",
      "https://www.cnn.com/2020/06/05/tech/coronavirus-tracking-apps/index.html\n",
      "https://www.cnn.com/2020/06/05/tech/call-of-duty-black-lives-matter-screen-scli-intl/index.html\n",
      "https://www.cnn.com/2020/06/05/tech/jio-mubadala-investment-intl-hnk/index.html\n",
      "https://www.cnn.com/2020/06/04/tech/google-doj-antitrust/index.html\n",
      "https://www.cnn.com/2020/06/04/tech/youtubers-raising-money-ads-black-lives-matter-george-floyd-trnd/index.html\n",
      "https://www.cnn.com/2020/06/04/tech/slack-amazon-deal-earnings/index.html\n",
      "https://www.cnn.com/2020/06/03/tech/amazon-lawsuit-coronavirus-warehouse/index.html\n",
      "https://www.cnn.com/2020/06/04/tech/5g-progress-coronavirus/index.html\n",
      "https://www.cnn.com/2020/06/03/tech/iphones-stolen-warning-message/index.html\n",
      "https://www.cnn.com/2020/06/03/tech/early-facebook-employees-zuckerberg-letter/index.html\n",
      "https://www.cnn.com/2020/06/03/tech/snapchat-trump/index.html\n",
      "https://www.cnn.com/2020/06/03/tech/grindr-ethnicity-filter-intl-scli/index.html\n",
      "https://www.cnn.com/2020/06/03/tech/india-remove-china-app-intl-hnk/index.html\n",
      "https://www.cnn.com/2020/06/03/tech/twitter-enforcement-policy/index.html\n",
      "https://www.cnn.com/2020/06/02/tech/zoom-earnings-coronavirus/index.html\n",
      "https://www.cnn.com/2020/06/02/tech/bike-boom-pandemic/index.html\n",
      "https://www.cnn.com/2020/06/02/tech/facebook-all-hands-trump/index.html\n",
      "https://www.cnn.com/2020/06/02/tech/antifa-fake-twitter-account/index.html\n",
      "https://www.cnn.com/2020/06/02/tech/video-conferencing-zoom-facebook-google/index.html\n",
      "https://www.cnn.com/videos/business/2020/06/05/may-jobs-report.cnn-business\n",
      "https://www.cnn.com/videos/business/2020/06/05/corporate-america-companies-racial-inequality-protests.cnn-business\n",
      "https://www.cnn.com/videos/business/2020/06/05/facebook-employee-quit-trump-zw-orig.cnn-business\n",
      "https://www.cnn.com/2020/05/29/cnn-underscored/best-true-wireless-earbuds/index.html\n",
      "https://www.cnn.com/2020/06/01/cnn-underscored/fathers-day-gifts/index.html\n",
      "https://www.cnn.com/2020/05/28/cnn-underscored/essential-camping-gear-pandemic/index.html\n",
      "https://www.cnn.com/2020/04/03/cnn-underscored/american-express-amazon-discount-promotion/index.html\n",
      "https://www.cnn.com/2020/05/28/cnn-underscored/sun-squad-target-summer-collection-outbrain/index.html\n",
      "https://www.cnn.com/2020/05/27/cnn-underscored/best-golf-clubs-shoes-bags/index.html\n",
      "https://www.cnn.com/2020/05/29/cnn-underscored/best-blue-light-glasses/index.html\n",
      "https://www.cnn.com/2020/04/24/cnn-underscored/coronavirus-healthcare-workers-deals-discounts/index.html\n",
      "https://www.cnn.com/2020/06/01/cnn-underscored/best-glossier-products/index.html\n",
      "https://www.cnn.com/2020/05/29/cnn-underscored/indoor-barbecue-ideas/index.html\n",
      "https://www.cnn.com/2020/06/05/cnn-underscored/weekend-sales-deals/index.html\n",
      "https://www.cnn.com/2020/06/05/cnn-underscored/tech-gifts-for-men-fathers-day-outbrain/index.html\n",
      "https://www.cnn.com/2020/06/05/cnn-underscored/best-ergonomic-keyboards/index.html\n",
      "https://www.cnn.com/2020/06/05/cnn-underscored/cyberpunk-2077-xbox-one-x-preorder/index.html\n",
      "https://www.cnn.com/2019/12/30/cnn-underscored/best-sheets-on-amazon/index.html\n",
      "https://www.cnn.com/2020/06/05/cnn-underscored/tech-gifts-for-men-fathers-day/index.html\n",
      "https://www.cnn.com/2020/06/04/cnn-underscored/nostalgic-gifts-for-dad/index.html\n",
      "https://www.cnn.com/2020/06/03/cnn-underscored/personalized-fathers-day-gifts/index.html\n",
      "https://www.cnn.com/2020/06/02/cnn-underscored/gifts-for-dad/index.html\n",
      "https://www.cnn.com/2020/06/05/cnn-underscored/moto-g-fast-moto-e-preorders-features/index.html\n",
      "https://www.cnn.com/2018/11/02/cnn-underscored/grafomap-review/index.html\n",
      "https://www.cnn.com/2020/06/04/cnn-underscored/amazon-fire-hd-8-plus-first-impressions/index.html\n",
      "https://www.cnn.com/2020/06/04/cnn-underscored/sega-game-gear-micro-official-preorders/index.html\n",
      "https://www.cnn.com/2020/06/04/cnn-underscored/kate-spade-sale-sitewide/index.html\n",
      "https://www.cnn.com/2020/06/04/cnn-underscored/nintendo-labo-sale-amazon/index.html\n",
      "https://www.cnn.com/2020/06/04/cnn-underscored/pier-1-sale-going-out-of-business/index.html\n",
      "https://www.cnn.com/2020/03/19/cnn-underscored/best-lounge-pants/index.html\n",
      "https://www.cnn.com/2020/02/26/cnn-underscored/best-wayfair-couches/index.html\n",
      "https://www.cnn.com/2020/06/04/cnn-underscored/stimulus-payment-debit-card-fees-to-avoid/index.html\n",
      "https://www.cnn.com/2020/06/04/cnn-underscored/nostalgic-gifts-for-dad-outbrain/index.html\n",
      "https://www.cnn.com/2020/06/04/cnn-underscored/sonos-arc-review/index.html\n",
      "https://www.cnn.com/2020/06/03/cnn-underscored/personalized-fathers-day-outbrain/index.html\n",
      "https://www.cnn.com/2020/06/03/cnn-underscored/7th-gen-ipad-vs-galaxy-tab-s6-lite/index.html\n",
      "https://www.cnn.com/2020/02/20/cnn-underscored/best-travel-credit-cards/index.html\n",
      "https://www.cnn.com/2020/06/03/cnn-underscored/best-headphones/index.html\n",
      "https://www.cnn.com/2020/06/03/cnn-underscored/vizio-sale-soundbar-home-speaker-system-woot/index.html\n",
      "https://www.cnn.com/2020/06/03/cnn-underscored/dewalt-sale-amazon/index.html\n",
      "https://www.cnn.com/2020/02/24/cnn-underscored/foreo-luna-amazon-dupe/index.html\n",
      "https://www.cnn.com/2020/06/03/cnn-underscored/gap-sale-sitewide/index.html\n",
      "https://www.cnn.com/2020/03/10/cnn-underscored/how-to-work-from-home/index.html\n",
      "https://www.cnn.com/2020/05/29/cnn-underscored/online-summer-camps-classes/index.html\n",
      "https://www.cnn.com/2020/01/20/cnn-underscored/best-credit-cards/index.html\n",
      "https://www.cnn.com/2020/06/02/cnn-underscored/larq-waterbottle-review/index.html\n",
      "https://www.cnn.com/2020/05/18/cnn-underscored/best-face-masks/index.html\n",
      "https://www.cnn.com/2020/06/02/cnn-underscored/how-to-cut-your-own-hair/index.html\n",
      "https://www.cnn.com/2020/06/02/cnn-underscored/spanx-sale-nordstrom-rack/index.html\n",
      "https://www.cnn.com/2020/06/02/cnn-underscored/gifts-for-dad-outbrain/index.html\n",
      "https://www.cnn.com/2020/06/02/cnn-underscored/scotts-sale-yard-care-amazon/index.html\n",
      "https://www.cnn.com/2020/06/01/cnn-underscored/fathers-day-gifts-outbrain/index.html\n",
      "https://www.cnn.com/2020/06/02/cnn-underscored/samsung-sale-q70t-qled-tv-amazon/index.html\n",
      "https://www.cnn.com/2020/06/02/cnn-underscored/best-face-masks-for-kids/index.html\n",
      "https://www.cnn.com/2020/06/01/cnn-underscored/powerbeats-pro-review-2020/index.html\n",
      "https://www.cnn.com/2020/06/01/cnn-underscored/amex-centurion-lounge-las-vegas-expansion/index.html\n",
      "https://www.cnn.com/2020/06/01/cnn-underscored/adidas-sale-running/index.html\n",
      "https://www.cnn.com/2020/06/01/cnn-underscored/mortal-kombat-11-aftermath-review/index.html\n",
      "https://www.cnn.com/2020/06/01/cnn-underscored/ring-video-doorbell-sale-echo-show-5-bundle-amazon/index.html\n",
      "https://www.cnn.com/2020/01/06/cnn-underscored/roomba-sale-amazon-refurb/index.html\n",
      "https://www.cnn.com/2020/06/01/cnn-underscored/underscored-favorites-may/index.html\n",
      "https://www.cnn.com/2020/05/29/cnn-underscored/chase-sapphire-reserve-preferred-new-redemption-options/index.html\n",
      "https://www.cnn.com/2020/05/29/cnn-underscored/weekend-sales-deals/index.html\n",
      "https://www.cnn.com/2020/05/29/cnn-underscored/powerbeats-pro-new-colors-launch/index.html\n",
      "https://www.cnn.com/2020/05/29/photos/powerbeats-pro-new-colors-launch/index.html\n",
      "https://www.cnn.com/2020/05/29/cnn-underscored/galaxy-tab-s6-lite-review/index.html\n",
      "https://www.cnn.com/2020/05/29/cnn-underscored/cricut-sale-maker/index.html\n",
      "https://www.cnn.com/travel/article/satra-brunn-swedish-village-for-sale/index.html\n",
      "https://www.cnn.com/travel/article/wild-swimming-saved-my-life-wellness/index.html\n",
      "https://www.cnn.com/travel/article/summer-travel-safety-questions/index.html\n",
      "https://www.cnn.com/travel/article/vietnam-cheese-dalat/index.html\n",
      "https://www.cnn.com/travel/article/backpacking-italy-mess/index.html\n",
      "https://www.cnn.com/travel/article/uk-quarantine-summer-vacations-coronavirus/index.html\n",
      "https://www.cnn.com/travel/article/lion-air-cancel-flights-coronavirus-intl-hnk/index.html\n",
      "https://www.cnn.com/2020/06/03/world/biggest-oldest-mayan-temple-aguada-fnix-archeology-scn/index.html\n",
      "https://www.cnn.com/travel/article/yim-tin-tsai-island-hong-kong/index.html\n",
      "https://www.cnn.com/2020/06/01/africa/africa-tourism-coronavirus/index.html\n",
      "https://www.cnn.com/travel/article/first-flight-largest-electric-aircraft-scli-intl/index.html\n",
      "https://www.cnn.com/travel/article/nudists-lockdown/index.html\n",
      "https://www.cnn.com/travel/article/global-destinations-reopening-to-tourists/index.html\n",
      "https://www.cnn.com/travel/article/escape-to-san-francisco/index.html\n",
      "https://www.cnn.com/travel/article/starbucks-tastes-like-travel/index.html\n",
      "https://www.cnn.com/travel/article/japan-theme-parks-guidelines-screaming/index.html\n",
      "https://www.cnn.com/travel/article/las-vegas-strip-reopening/index.html\n",
      "https://www.cnn.com/travel/article/eurowings-dusseldorf-olbia/index.html\n",
      "https://www.cnn.com/travel/article/trapped-naked-german-spa/index.html\n",
      "https://www.cnn.com/travel/article/travel-quiz-questions-may/index.html\n",
      "https://www.cnn.com/travel/article/greece-reopen-tourists-june-15-coronavirus/index.html\n",
      "https://www.cnn.com/travel/article/anchorage-airport-world-busiest/index.html\n",
      "https://www.cnn.com/travel/article/arctic-explorers-locked-down-svalbard-hut-coronavirus-scn/index.html\n",
      "https://www.cnn.com/travel/article/air-travel-future-covid-19/index.html\n",
      "https://www.cnn.com/travel/article/world-shortest-air-routes/index.html\n",
      "https://www.cnn.com/travel/article/trip-that-changed-my-life-thailand-motorbike-accident/index.html\n",
      "https://www.cnn.com/videos/business/2020/05/22/fresh-money-zeeks-pizza-dan-black-orig-jg.cnn-business\n",
      "https://www.cnn.com/2020/06/05/americas/peru-coronavirus-oxygen-shortages-intl/index.html\n",
      "https://www.cnn.com/2020/06/04/world/adama-traore-david-dungay-george-floyd-protests-gbr-intl/index.html\n",
      "https://www.cnn.com/2020/06/04/asia/india-australia-military-agreements-intl-hnk/index.html\n",
      "https://www.cnn.com/2020/06/04/india/india-china-border-oped/index.html\n",
      "https://www.cnn.com/2020/06/04/success/google-wellness/index.html\n",
      "https://www.cnn.com/videos/business/2020/05/18/nuclear-power-energy-united-arab-emirates.cnn-business\n",
      "https://www.cnn.com/2020/06/04/business/germany-stimulus-electric-cars/index.html\n",
      "https://www.cnn.com/2020/06/03/business/ben--jerrys-george-floyd/index.html\n",
      "https://www.cnn.com/2019/07/20/health/iyw-cities-losing-36-million-trees-how-to-help-trnd/index.html\n",
      "https://www.cnn.com/2019/07/11/us/miami-little-haiti-climate-gentrification-weir-wxc/index.html\n",
      "https://www.cnn.com/2019/07/12/health/rich-people-climate-change-intl/index.html\n",
      "https://www.cnn.com/style/article/hidden-designs-famous-logos/index.html\n",
      "https://www.cnn.com/style/article/austria-hitler-birthplace-police/index.html\n",
      "https://www.cnn.com/style/article/negrar-mosaic-floor-italy-discovery-scli-intl/index.html\n",
      "https://www.cnn.com/style/article/wooden-skyscraper-revolution-timber/index.html\n",
      "https://www.cnn.com/style/article/george-floyd-mural-social-justice-art/index.html\n",
      "https://www.cnn.com/travel/article/one-euro-house-italy-coronavirus/index.html\n",
      "https://www.cnn.com/2020/06/04/us/coronavirus-newspaper-deliveryman-groceries-senior-citizens-cnnheroes-trnd/index.html\n",
      "https://www.cnn.com/2020/05/30/us/iyw-twin-nurses-graduate-to-frontline-pandemic-trnd/index.html\n",
      "https://www.cnn.com/videos/us/2019/12/19/new-jersey-girl-saves-mom-911-pkg-vpx.news-12-new-jersey\n",
      "https://www.cnn.com/2020/06/05/politics/trump-racism-american-conversation/index.html\n",
      "https://www.cnn.com/2020/06/05/politics/trump-unemployment-numbers-protests/index.html\n",
      "https://www.cnn.com/2020/06/05/politics/cnn-poll-of-polls-may-trump-biden/index.html\n",
      "https://www.cnn.com/2020/06/05/politics/john-kelly-agrees-with-jim-mattis-on-trump/index.html\n",
      "https://www.cnn.com/2020/06/05/politics/donald-trump-george-floyd-rose-garden/index.html\n",
      "https://www.cnn.com/2020/06/05/politics/trump-campaign-ad-space-complaint/index.html\n",
      "https://www.cnn.com/2020/06/05/politics/national-polls-donald-trump-analysis/index.html\n",
      "https://www.cnn.com/2020/06/05/politics/donald-trump-south-dakota-noem-republican-convention/index.html\n",
      "https://www.cnn.com/2020/06/05/politics/dc-mayor-requests-trump-remove-troops/index.html\n",
      "https://www.cnn.com/2020/06/04/politics/grassley-block-trump-nominees/index.html\n",
      "https://www.cnn.com/2020/06/05/economy/may-jobs-report-2020-coronavirus/index.html\n",
      "https://www.cnn.com/2020/06/05/politics/susan-collins-trump-maine-visit/index.html\n",
      "https://www.cnn.com/2020/06/05/politics/stacey-abrams-floyd-protest-cnntv/index.html\n",
      "https://www.cnn.com/2020/06/04/politics/lisa-murkowski-mattis-trump-reaction/index.html\n",
      "https://www.cnn.com/2020/06/04/politics/trump-letter-protesters/index.html\n",
      "https://www.cnn.com/2020/06/04/politics/officials-who-criticized-donald-trump/index.html\n",
      "https://www.cnn.com/2020/06/04/politics/trump-protests-former-joint-chiefs-chairman-cnntv/index.html\n",
      "https://www.cnn.com/2020/06/04/politics/trump-campaign-re-election-meeting/index.html\n",
      "https://www.cnn.com/2020/06/04/politics/anti-lynching-bill-fight-senate-floor-cory-booker-rand-paul/index.html\n",
      "https://www.cnn.com/2020/06/04/politics/cdc-redfield-aids-walter-reed-army-investigation/index.html\n",
      "https://www.cnn.com/2020/06/04/politics/mark-warner-william-barr-resign-email/index.html\n",
      "https://www.cnn.com/2020/06/02/politics/us-election-texas-democrats-gop-convention-coronavirus/index.html\n",
      "https://www.cnn.com/2020/06/04/politics/texas-vote-by-mail-federal-appeals-block/index.html\n",
      "https://www.cnn.com/2020/06/03/politics/new-york-city-protests-cuomo-de-blasio/index.html\n",
      "https://www.cnn.com/2020/05/31/politics/rent-coronavirus-reopening/index.html\n",
      "https://www.cnn.com/2020/06/04/health/retraction-coronavirus-studies-lancet-nejm/index.html\n",
      "https://www.cnn.com/2020/06/04/health/us-coronavirus-thursday/index.html\n",
      "https://www.cnn.com/2020/06/04/health/nih-collins-vaccine-skepticism/index.html\n",
      "https://www.cnn.com/2020/06/04/health/famotidine-covid-19-case-series-study/index.html\n",
      "https://www.cnn.com/2020/06/04/health/george-floyd-coronavirus-autopsy/index.html\n",
      "https://www.cnn.com/2020/06/04/health/cdc-protesters-tested-coronavirus-trnd/index.html\n",
      "https://www.cnn.com/2020/06/04/health/medicine-cabinet-pandemic-wellness/index.html\n",
      "https://www.cnn.com/2020/06/04/health/how-to-be-an-anti-racist-wellness/index.html\n",
      "https://www.cnn.com/2020/06/04/politics/john-lewis-cancer-health-improving/index.html\n",
      "https://www.cnn.com/2020/06/04/health/decision-making-stress-coronavirus-protests-wellness/index.html\n",
      "https://www.cnn.com/2020/06/04/uk/alok-sharma-uk-government-minister-covid-19-test-uk-intl/index.html\n",
      "https://www.cnn.com/2020/06/03/health/hydroxychloroquine-prevention-covid-19-study/index.html\n",
      "https://www.cnn.com/2020/06/03/health/aspirin-review-heart-disease-wellness/index.html\n",
      "https://www.cnn.com/2020/06/03/health/fauci-coronavirus-vaccine-2021/index.html\n",
      "https://www.cnn.com/travel/article/coronavirus-safety-pool-beach-park/index.html\n",
      "https://www.cnn.com/2020/06/03/us/us-coronavirus-protests/index.html\n",
      "https://www.cnn.com/2020/06/03/us/global-running-day-wellness-trnd/index.html\n",
      "https://www.cnn.com/2020/05/28/health/parents-raising-white-children-racism-wellness/index.html\n",
      "https://www.cnn.com/2020/06/03/health/dating-social-distancing-pandemic-wellness/index.html\n",
      "https://www.cnn.com/2020/06/05/health/wear-mask-during-sex-coronavirus-wellness-scn-trnd/index.html\n",
      "https://www.cnn.com/2020/06/05/health/health-care-open-letter-protests-coronavirus-trnd/index.html\n",
      "https://www.cnn.com/2020/06/05/health/us-coronavirus-friday/index.html\n",
      "https://www.cnn.com/2020/06/05/health/street-medic-protests-wellness/index.html\n",
      "https://www.cnn.com/2020/06/04/health/bloodpressure-coronavirus-double-risk-wellness/index.html\n",
      "https://www.cnn.com/2020/06/04/health/racism-chronic-disease-covid/index.html\n",
      "https://www.cnn.com/2020/06/05/entertainment/yvonne-orji-insecure-duality-spc-intl/index.html\n",
      "https://www.cnn.com/2020/06/05/entertainment/cate-blanchett-chainsaw-accident-scli-intl/index.html\n",
      "https://www.cnn.com/2020/06/05/entertainment/be-water-bruce-lee-review/index.html\n",
      "https://www.cnn.com/2020/06/05/entertainment/stephen-colbert-protests-trnd/index.html\n",
      "https://www.cnn.com/2020/06/04/entertainment/dwayne-johnson-political-speech-george-floyd-instagram/index.html\n",
      "https://www.cnn.com/2020/06/04/entertainment/kanye-west-two-million-dollar-donation/index.html\n",
      "https://www.cnn.com/2020/06/04/entertainment/law--order-column/index.html\n",
      "https://www.cnn.com/2020/06/04/entertainment/2040-dear-hopeful-tv/index.html\n",
      "https://www.cnn.com/2020/06/05/entertainment/shirley-review/index.html\n",
      "https://www.cnn.com/2020/06/04/entertainment/beyonce-george-floyd-protests-intl-scli/index.html\n",
      "https://www.cnn.com/2020/06/04/entertainment/tiger-king-joe-exotic-responds-carole-baskin-trnd/index.html\n",
      "https://www.cnn.com/2020/06/03/entertainment/brooklyn-nine-nine-donate-100k-national-bail-fund-network/index.html\n",
      "https://www.cnn.com/2020/06/03/entertainment/nick-cordero-wife-told-to-say-goodbye/index.html\n",
      "https://www.cnn.com/2020/06/04/entertainment/mary-pat-gleason-died/index.html\n",
      "https://www.cnn.com/2020/06/03/entertainment/keke-palmer-protest-national-guardsmen-trnd/index.html\n",
      "https://www.cnn.com/2020/06/02/entertainment/hollywood-production-covid-19/index.html\n",
      "https://www.cnn.com/2020/06/02/entertainment/wanda-sykes-message/index.html\n",
      "https://www.cnn.com/2020/06/02/entertainment/jay-z-newspaper-ads/index.html\n",
      "https://www.cnn.com/2020/06/02/entertainment/jimmy-fallon/index.html\n",
      "https://www.cnn.com/2020/06/02/entertainment/craig-gore/index.html\n",
      "https://www.cnn.com/2020/06/02/entertainment/betty-broderick-story/index.html\n",
      "https://www.cnn.com/2020/06/01/entertainment/nick-cannon-protesting-minneapolis-george-floyd/index.html\n",
      "https://www.cnn.com/2020/05/30/us/chrissy-teigen-minneapolis-bail-out-trnd/index.html\n",
      "https://www.cnn.com/2020/05/28/entertainment/the-high-note-review/index.html\n",
      "https://www.cnn.com/2020/05/27/entertainment/what-to-watch-movies-series-june/index.html\n",
      "https://www.cnn.com/2020/05/27/entertainment/love-life-hbo-max-review/index.html\n",
      "https://www.cnn.com/2020/05/22/entertainment/homecoming-season-2-review/index.html\n",
      "https://www.cnn.com/2020/05/29/entertainment/space-force-review/index.html\n",
      "https://www.cnn.com/2020/05/20/entertainment/food-network-programming/index.html\n",
      "https://www.cnn.com/us/live-news/george-floyd-protests-06-05-20/index.html\n",
      "https://www.cnn.com/2020/06/05/politics/joe-biden-economy-speech/index.html\n",
      "https://www.cnn.com/2020/06/03/opinions/mattis-thinks-trump-risks-america-bergen/index.html\n",
      "https://www.cnn.com/2020/06/05/world/coronavirus-cases-rising-faster-intl/index.html\n",
      "https://www.cnn.com/2020/06/05/us/coronavirus-etiquette-social-situations-how-to-wellness-trnd/index.html\n",
      "https://www.cnn.com/2020/06/05/us/alabama-fire-7-dead/index.html\n",
      "https://www.cnn.com/videos/business/2020/06/04/piers-morgan-rudy-giuliani-on-air-spar-orig.cnn-business\n",
      "https://www.cnn.com/2020/06/05/politics/us-china-flights/index.html\n",
      "https://www.cnn.com/2020/06/05/politics/melania-trump-messaging-west-wing/index.html\n",
      "https://www.cnn.com/2020/06/05/us/buffalo-police-suspension-shoving-man-trnd/index.html\n",
      "https://www.cnn.com/2020/06/05/us/san-antonio-murder-suicide/index.html\n",
      "https://www.cnn.com/2020/06/05/business/scaramucci-trump-fed-inequality/index.html\n",
      "https://www.cnn.com/2020/06/04/opinions/trumps-foundation-starts-to-crack-mattis-avlon/index.html\n",
      "https://www.cnn.com/2020/06/05/africa/nigeria-student-rape-family-account-as-equals-intl/index.html\n",
      "https://www.cnn.com/2020/06/04/business/jcpenney-store-closures-bankruptcy-coronavirus/index.html\n",
      "https://www.cnn.com/2020/06/05/americas/mexico-femicide-coronavirus-lopez-obrador-intl/index.html\n",
      "https://www.cnn.com/2020/06/05/investing/sec-whistleblower-award/index.html\n",
      "https://www.cnn.com/style/article/nk-jemisin-the-city-we-became-excerpt/index.html\n",
      "https://www.cnn.com/2020/06/05/europe/spain-porn-star-arrest-toad-scli-intl/index.html\n",
      "https://www.cnn.com/2020/06/05/tennis/nikoloz-basilashvili-neli-dorokashvili-tennis-georgia-spt-intl/index.html\n",
      "https://www.cnn.com/2020/06/02/us/police-protests-use-of-force/index.html\n",
      "https://www.cnn.com/2020/06/05/us/breonna-taylor-birthday-charges-arrests-case-trnd/index.html\n",
      "https://www.cnn.com/2020/06/05/us/cyclist-video-assault-black-lives-matter-trnd/index.html\n",
      "https://www.cnn.com/2020/06/05/us/black-lives-matter-dc-street-white-house-trnd/index.html\n",
      "https://www.cnn.com/2020/06/05/opinions/george-floyd-family-at-memorial-service-jones/index.html\n",
      "https://www.cnn.com/2020/06/01/cnn-underscored/fathers-day-gifts/index.html?iid=CNNUnderscoredHP2.0\n",
      "https://www.cnn.com/2020/06/03/cnn-underscored/best-headphones/index.html?iid=CNNUnderscoredHP2.0\n",
      "https://www.cnn.com/2020/06/02/cnn-underscored/gifts-for-dad/index.html?iid=CNNUnderscoredHP2.0\n",
      "https://www.cnn.com/2020/06/02/cnn-underscored/best-face-masks-for-kids/index.html?iid=CNNUnderscoredHP2.0\n",
      "https://www.cnn.com/2020/06/05/europe/may-copernicus-hottest-record-scli-intl/index.html\n",
      "https://www.cnn.com/2020/06/05/sport/lebron-james-laura-ingraham-drew-brees-spt-intl/index.html\n",
      "https://www.cnn.com/2020/06/05/investing/astrazeneca-vaccine-coronavirus/index.html\n",
      "https://www.cnn.com/2020/06/04/business/mark-cuban-presidential-bid-axe-files/index.html\n",
      "https://www.cnn.com/2020/06/04/success/personal-savings-best-options/index.html\n",
      "https://www.cnn.com/2020/06/05/opinions/son-cancer-immunosuppressed-face-mask-covid19-marsh/index.html\n",
      "https://www.cnn.com/2020/06/05/opinions/trump-put-americas-moral-authority-in-danger-ghitis/index.html\n",
      "https://www.cnn.com/2020/06/04/opinions/joe-biden-campaign-mensch-in-chief-gergen/index.html\n",
      "https://www.cnn.com/2020/06/04/opinions/tom-cotton-wrong-on-troops-bergen/index.html\n",
      "https://www.cnn.com/2020/06/03/opinions/trump-st-johns-visit-isnt-religion-butler-bass/index.html\n",
      "https://www.cnn.com/2020/06/01/opinions/confederate-monuments-george-floyd-protests-history-cox/index.html\n",
      "https://www.cnn.com/2020/06/05/weather/tropical-storm-cristobal-forecast-friday/index.html\n",
      "https://www.cnn.com/2020/06/04/us/tacoma-washington-man-dies-police-custody/index.html\n",
      "https://www.cnn.com/2020/06/05/us/chinese-nationals-sentenced-prison/index.html\n",
      "https://www.cnn.com/2020/06/04/politics/biden-kamala-harris-keisha-lance-bottoms-val-demings/index.html\n",
      "https://www.cnn.com/2020/06/05/politics/aclu-lawsuit-washington-trump-document/index.html\n",
      "https://www.cnn.com/2020/06/03/politics/twitter-executive-order-lawsuit/index.html\n",
      "https://myfox8.com/roys-folks/winston-salem-couple-spreads-joy-by-turning-friendly-greetings-into-a-daily-routine\n",
      "https://wreg.com/news/lauderdale-county-sheriff-admits-he-used-used-n-word-in-recording-says-he-will-apologize-to-residents\n",
      "https://auburnpub.com/news/local/after-village-refuses-to-fly-pride-flag-skaneateles-man-plans-protest/article_23186b3b-bccf-547b-97a6-7b81101d6519.html\n",
      "https://www.wxii12.com/article/extremely-disappointing-lawn-care-company-believes-neighbors-called-police-on-workers-due-to-their-race/32759753\n",
      "https://www.wmur.com/article/new-hampshire-students-post-video-reenacting-george-floyds-death-officials-say/32766699\n",
      "https://www.wbaltv.com/article/carly-dent-rings-bell-beating-cancer-during-coronavirus-pandemic/32757279\n",
      "https://www.wcvb.com/article/protester-shakes-hands-with-boston-police-officer-during-tense-demonstration-outside-forest-hills-mbta-station/32748664\n",
      "https://www.cbs17.com/news/local-news/durham-county-news/durham-girl-dies-from-complications-covid-19\n",
      "https://www.hartfordbusiness.com/article/more-ct-employees-are-clocking-in-but-shifts-still-down-sharply\n",
      "https://www.cbs46.com/news/killer-mike-helps-black-owned-businesses-struggling-during-covid-19/article_cb764acc-a600-11ea-bda7-9f14ae634f84.html\n",
      "https://www.kmov.com/news/artists-paint-boards-to-bring-unity-and-help-to-ferguson-community/article_13621306-a60c-11ea-8df1-0feeacf64f0b.html\n",
      "https://globegazette.com/news/local/watch-now-mason-city-student-leaders-come-together-to-plant-trees-in-flood-plains/article_c1fbffa4-0233-5a06-87e3-29e46cfdaaa4.html\n",
      "https://www.5newsonline.com/article/news/local/sam-pittman-attends-fayetteville-protest/527-9caf313a-60a9-4516-bd8d-f31b42eecb36\n",
      "https://www.arklatexhomepage.com/news/crime/parents-charged-with-cruelty-after-baby-shot-found-burned-with-cigarettes\n",
      "https://fox59.com/news/inmate-mailed-severed-finger-to-anderson-newspaper-to-protest-jail-conditions\n",
      "https://fox4kc.com/news/kansas-city-photographer-a-father-of-4-killed-after-sunday-protest\n",
      "https://www.wnem.com/news/someone-mowed-heart-in-genesee-county-field/article_46793c7e-a5fd-11ea-8ba5-efba293eac5e.html\n",
      "https://wgno.com/news/local/voscoville-residents-at-odds-with-the-city-over-new-cemetery\n",
      "https://www.cnn.com/travel/article/hotel-farms-feed-staff-communities/index.html\n",
      "https://www.cnn.com/travel/article/swimming-pool-rent/index.html\n",
      "https://www.cnn.com/travel/article/india-airports-reopening-coronavirus-intl-hnk/index.html\n",
      "https://www.cnn.com/travel/article/australia-tasmania-overland-track-pencil-pine/index.html\n",
      "https://www.cnn.com/us/live-news/george-floyd-protests-06-04-20/index.html\n",
      "https://arktimes.com/arkansas-blog/2018/12/21/tom-cotton-mentioned-as-possible-new-secretary-of-defense\n",
      "https://www.nytimes.com/2020/06/03/opinion/tom-cotton-protests-military.html\n",
      "https://www.washingtonpost.com/opinions/2020/05/21/joe-biden-is-stuck-his-basement-its-exactly-where-he-needs-be\n",
      "https://www.cnn.com/2020/04/26/politics/joe-biden-polling-media-exposure/index.html?utm_term=1587945655092e72e24a542b0&utm_source=Meanwhile+in+America+April+27&utm_medium=email&utm_campaign=201539_1587945655096&bt_ee=0Zjph0H4PVDds%2FKndOqKq5tTPrD%2Fr1AA8ecs4EnkyhRNAkShOVmJWdia0SXTtR3I&bt_ts=1587945655096\n",
      "https://www.nytimes.com/2016/12/01/us/politics/james-mattis-secrtary-of-defense-trump.html\n",
      "https://www.cnn.com/2020/06/03/politics/mattis-protests-statement/index.html\n",
      "https://www.cnn.com/interactive/2018/11/opinions/queen-live-aid-cnnphotos/index.html\n",
      "https://www.cnn.com/interactive/2019/11/opinions/fractured-states-of-america/part-one-fredrick\n",
      "http://www.cnn.com/interactive/2017/11/opinion/free-press-media-martyrs\n",
      "http://www.cnn.com/specials/opinions/what-its-like-to-be-me\n",
      "https://www.cnn.com/specials/opinions/what-its-like-to-be-me\n",
      "https://www.cnn.com/interactive/2019/07/opinions/rosem-morton-sexual-assault-cnnphotos/index.html\n",
      "https://www.cnn.com/interactive/2018/12/opinions/crystal-ball-2019/index.html\n",
      "https://www.sciencealert.com/apparently-there-s-a-dark-matter-hurricane-blowing-past-earth-right-now\n",
      "https://www.cnn.com/2018/08/21/politics/michael-cohen-plea-deal-talks/index.html\n",
      "http://www.theatlantic.com/national/archive/2014/03/here-is-when-each-generation-begins-and-ends-according-to-facts/359589\n",
      "http://www.pewresearch.org/fact-tank/2014/06/05/generation-x-americas-neglected-middle-child\n",
      "http://www.phillymag.com/news/2013/12/13/baby-boomers-worst-generation\n",
      "http://www.theatlantic.com/politics/archive/2011/05/bill-clinton-there-are-no-great-generations-just-different-problems/239293\n",
      "http://www.cnn.com/2013/07/09/opinion/bors-millenial-comic-strip\n",
      "http://www.nytimes.com/2014/03/23/fashion/an-online-generation-redefines-mourning.html?hpw&rref=fashion\n",
      "http://gizmodo.com/5851062/generation-x-is-sick-of-your-bullshit\n",
      "http://nymag.com/news/features/my-generation-2011-10\n",
      "http://www.cnn.com/style/article/bamboo-scaffolding-artisans-macao/index.html\n",
      "https://www.cnn.com/business/media\n",
      "https://www.comparecards.com/guide/top-credit-cards-for-those-with-excellent-credit?esourceid=6366296&utm_source=cnn&utm_medium=native&pla=cnn.com&bdst=rv&acqs=prospecting&utm_campaign=cnnbizhomepage&grp=excellent-credit&tar=cnnbizhomepage&utm_content=gettingapprovedmeansexcred&adt=moneyjarfadedflag&mtaid=8631C&ad_group_name=excellent-credit&ad_position=2&campaign_name=cnnbizhomepage_excellent-credit&placement_name=cnnbizhomepage&ad_headline=gettingapprovedmeansexcred&ad_image_name=moneyjarfadedflag\n",
      "https://www.fool.com/mms/mark/e-sa-5-stocks-under-50?utm_source=cnnmoney&utm_medium=contentmarketing&utm_campaign=5stocksunder50-50dollars&paid=9394&waid=9394&aid=9394&psource=esacnnwdg0210055&source=esacnnwdg0210055&wsource=esacnnwdg0210055\n",
      "https://www.comparecards.com/guide/heres-a-brilliant-way-to-pay-credit-cards?esourceid=6315166&utm_source=cnn&utm_medium=native&pla=cnn.com&bdst=rv&acqs=prospecting&utm_campaign=sectionfront&grp=brilliant-way&tar=sectionfront&utm_content=follow+these+steps+and+start+to+become+card+debt+free&adt=cardswoodtable&mtaid=8631C&ad_group_name=brilliant-way&ad_position=1&campaign_name=sectionfront_brilliant-way&placement_name=sectionfront&ad_headline=follow+these+steps+and+start+to+become+card+debt+free&ad_image_name=cardswoodtable\n",
      "https://www.comparecards.com/guide/credit-cards-to-have-you-flying-in-no-time?esourceid=6317676&utm_source=cnn&utm_medium=native&pla=cnn.com&bdst=rv&acqs=prospecting&utm_campaign=sectionfront&grp=travel-no-time&tar=sectionfront&utm_content=3+travel+cards+to+get+your+next+flight+practically+for+free&adt=cardswoodtable&mtaid=8631C&ad_group_name=travel-no-time&ad_position=2&campaign_name=sectionfront_travel-no-time&placement_name=sectionfront&ad_headline=3+travel+cards+to+get+your+next+flight+practically+for+free&ad_image_name=cardswoodtable\n",
      "https://cnnespanol.cnn.com/2020/06/05/manifestaciones-en-ee-uu-minuto-a-minuto-marchas-en-su-mayoria-pacificas-en-la-decima-noche-de-protestas-por-la-muerte-de-george-floyd\n",
      "https://cnnespanol.cnn.com/2020/06/05/coronavirus-5-de-junio-minuto-a-minuto-las-infecciones-globales-superan-los-66-millones\n",
      "https://cnnespanol.cnn.com/2020/04/06/preguntas-coronavirus\n",
      "https://edition.cnn.com/audio/podcasts/coronavirus-realidad-vs-ficcion-con-dr-elmer-huerta\n",
      "https://cnnespanol.cnn.com/2020/06/05/alerta-peru-confirma-primer-caso-de-enfermedad-de-kawasaki-en-medio-de-la-pandemia\n",
      "https://cnnespanol.cnn.com/2020/06/05/la-tasa-de-desempleo-de-estados-unidos-cae-al-133-a-medida-que-la-economia-registra-sorprendente-aumento-de-empleos\n",
      "https://cnnespanol.cnn.com/2020/06/04/los-multimillonarios-estadounidenses-se-han-enriquecido-en-us-565-000-millones-durante-la-pandemia\n",
      "https://cnnespanol.cnn.com/2020/06/05/se-espera-que-la-depresion-tropical-cristobal-regrese-a-la-costa-de-estados-unidos-y-vuelva-a-intensificarse\n",
      "https://cnnespanol.cnn.com/2020/06/05/coronavirus-5-de-junio-minuto-a-minuto-las-infecciones-globales-superan-los-66-millones/#liveblog-32fd4e7e-a6d6-4b93-8f84-a8f062eabfc0\n",
      "https://cnnespanol.cnn.com/2020/06/05/coronavirus-5-de-junio-minuto-a-minuto-las-infecciones-globales-superan-los-66-millones/#liveblog-161ffee7-cb82-4e21-9a84-dd08e49ac1e4\n",
      "https://cnnespanol.cnn.com/2020/06/05/coronavirus-5-de-junio-minuto-a-minuto-las-infecciones-globales-superan-los-66-millones/#liveblog-fb42656a-2fa4-4c40-8df7-78392309ea7b\n",
      "https://cnnespanol.cnn.com/2020/06/05/coronavirus-5-de-junio-minuto-a-minuto-las-infecciones-globales-superan-los-66-millones/#liveblog-273f5bff-7565-484f-97e5-f3fd1f462b0f\n",
      "https://cnnespanol.cnn.com/2020/06/05/te-preocupa-el-coronavirus-mientras-tienes-relaciones-sexuales-usa-una-mascara-dice-un-nuevo-estudio\n",
      "https://cnnespanol.cnn.com/2020/06/05/sirve-lavar-la-ropa-tras-haber-estado-en-la-calle-para-evitar-el-contagio-de-coronavirus\n",
      "https://cnnespanol.cnn.com/video/china-coronavirus-opep-5cosas-cafe\n",
      "https://cnnespanol.cnn.com/2020/06/05/alerta-el-salvador-27-muertos-y-30-000-afectados-por-lluvias-en-el-salvador\n",
      "https://cnnespanol.cnn.com/2020/06/05/la-policia-busca-a-un-ciclista-que-fue-grabado-atacando-a-personas-que-publicaban-volantes-de-apoyo-a-black-lives-matter\n",
      "https://cnnespanol.cnn.com/2020/06/05/este-pueblo-italiano-que-desde-1994-esta-bajo-el-agua-podria-salir-de-nuevo-a-la-superficie\n",
      "https://cnnespanol.cnn.com/video/brasil-inicia-pruebas-vacuna-coronavirus-oxford-astrazeneca-shasta-darlington-pkg\n",
      "https://cnnespanol.cnn.com/video/homenaje-george-floyd-nueva-york-violencia-manifestaciones-bill-de-blasio-pkg-yilber-vega\n",
      "https://cnnespanol.cnn.com/video/retro-gracia-lorca-granada-espana-arte-poesia-teatro-guillermo-arduino-encuentro-cnne\n",
      "https://cnnespanol.cnn.com/video/negocios-latino-saqueados-protestas-casa-del-perro-victimas-violencia-racismo-pkg-gonzalo-alvarado\n",
      "https://cnnespanol.cnn.com/video/george-floyd-protestas-estados-unidos-netflix-perspectivas-buenos-aires-cnnee\n",
      "https://cnnespanol.cnn.com/video/giovanni-lopez-jalisco-fiscalia-protesta-policia-abuso-poder-muerte-jalisco-ixtlahuacan-perspectivas-mexico-cnnee-belen-zapata\n",
      "https://cnnespanol.cnn.com/video/inequidad-racia-estados-unidos-cifras-negros-blancos-pobreza-desempleo-dusa-vo-juan-carlos-lopez\n",
      "https://cnnespanol.cnn.com/video/eeuu-nueva-york-protestas-pacificas-toque-de-queda-manifestantes-cnn-primera-manana-cnnee\n",
      "https://cnnespanol.cnn.com/video/apple-iphone-robados-protestas-muerte-floyd-cafe-cnnee\n",
      "https://cnnespanol.cnn.com/2020/05/27/este-mapa-te-muestra-la-situacion-del-coronavirus-en-el-mundo-en-tiempo-real\n",
      "https://cnnespanol.cnn.com/2020/04/06/el-abc-del-coronavirus-que-es-como-se-contagia-a-quien-afecta-y-como-se-previene\n",
      "https://cnnespanol.cnn.com/2020/04/30/sintomas-del-coronavirus-10-indicadores-clave-y-que-hacer\n",
      "https://cnnespanol.cnn.com/2020/04/05/como-hacer-tu-propia-mascara-protectora\n",
      "https://cnnespanol.cnn.com/cnne-underscored/2020/06/04/ipad-vs-galaxy-tab-s6-lite-que-tableta-es-mas-recomendable/?iid=cnneunderscoredDTHP\n",
      "https://cnnespanol.cnn.com/cnne-underscored/2020/06/04/adentrate-en-el-mundo-de-nintendo-labo-aprovechando-estos-descuentos/?iid=cnneunderscoredDTHP\n",
      "https://cnnespanol.cnn.com/cnne-underscored/2020/06/02/la-tv-mas-avanzada-de-samsung-esta-hoy-de-oferta/?iid=cnneunderscoredDTHP\n",
      "https://cnnespanol.cnn.com/cnne-underscored/2020/06/02/esta-botella-de-agua-se-limpia-sola/?iid=cnneunderscoredDTHP\n",
      "https://cnnespanol.cnn.com/video/george-floyd-protestas-manifestaciones-los-angeles-pkg-jaqueline-hurtado\n",
      "https://cnnespanol.cnn.com/video/george-floyd-atlanta-protestas-homenaje-lk-michael-roa\n",
      "https://cnnespanol.cnn.com/gallery/fotos-protestas-por-la-muerte-de-george-floyd-el-hombre-negro-al-que-un-policia-inmovilizo-con-la-rodilla\n",
      "https://cnnespanol.cnn.com/2020/06/05/se-espera-que-la-tasa-de-desempleo-de-estados-unidos-alcance-el-20-en-medio-de-la-crisis-del-coronavirus\n",
      "https://cnnespanol.cnn.com/2020/06/05/tres-chinos-fueron-condenados-a-prision-por-tomar-fotos-a-una-base-naval-de-florida\n",
      "https://cnnespanol.cnn.com/2020/06/05/lo-que-sabemos-sobre-los-cuatro-expolicias-acusados-de-la-muerte-de-george-floyd\n",
      "https://cnnespanol.cnn.com/2020/06/05/fijan-fianza-de-tres-expolicias-acusados-por-la-muerte-de-george-floyd-en-us-1-millon-cada-uno\n",
      "https://cnnespanol.cnn.com/video/robert-valencia-trump-ejercito-militares-protestas-ciudadanos-calles-republicanos-leyes-constitucion-aristegui\n",
      "https://cnnespanol.cnn.com/video/hernan-molina-inflexion-trump-mensaje-ciudadanos-division-elecciones-biden-protestas-racismo-aristegui\n",
      "https://cnnespanol.cnn.com/video/estados-unidos-florida-brutalidad-policial-videos-investigaciones-protestas-camilo-cnne-intv\n",
      "https://cnnespanol.cnn.com/video/estreno-single-musica-ricardo-arjona-cnn-primera-manana-cnne\n",
      "https://cnnespanol.cnn.com/video/argentina-buenos-aires-ropa-comercios-pandemia-covid-19-cnn-primera-manana-cnne\n",
      "https://cnnespanol.cnn.com/video/mexico-desempleo-pandemia-cnn-primera-manana-cnne\n",
      "https://cnnespanol.cnn.com/video/dificultad-peruanos-sigan-cuarentena-covid-19-coronavirus-sot-pilar-mazzetti\n",
      "https://cnnespanol.cnn.com/video/venta-gasolina-nuevo-esquema-venezuela-caracas-espera-combustible-lkl-osmary-hernandez\n",
      "https://cnnespanol.cnn.com/video/guadalajara-giovanni-lopez-fiscalia-protesta-policia-abuso-poder-muerte-jalisco-perspectivas-mexico-cnnee-justicia\n",
      "https://cnnespanol.cnn.com/2020/06/04/alerta-oms-y-organismos-de-derechos-humanos-expresan-preocupacion-por-la-evolucion-de-la-pandemia-en-nicaragua\n",
      "https://cnnespanol.cnn.com/video/racismo-estados-unidos-mexico-cancun-extranjeros-perspectivas-mexico-krupskaia-alis\n",
      "https://cnnespanol.cnn.com/video/paraguay-diputado-se-arranca-la-camisa-en-plena-sesion-perspectivas-buenos-aires-cnnee\n",
      "https://cnnespanol.cnn.com/video/riesgo-de-rebrote-de-covid-19-reapertura-economica-rapida-america-latina-oms-pkg-cnn-dinero\n",
      "https://cnnespanol.cnn.com/video/nandi-bushell-nina-10-anos-cancion-lucha-contra-el-racismo-alejandra-oraa-cafe-cnnee\n",
      "https://cnnespanol.cnn.com/video/autismo-arte-jordania-guillermo-arduino-encuentro-cnne\n",
      "https://cnnespanol.cnn.com/2020/06/05/las-5-cosas-que-debes-saber-este-5-de-junio-la-historia-del-bunker-presidencial-secreto\n",
      "https://cnnespanol.cnn.com/2020/06/05/los-fiscales-en-alemania-asumen-que-madeleine-mccann-esta-muerta\n",
      "https://cnnespanol.cnn.com/video/lo-importante-del-dia-viral-coronavirus-pandemia-muerte-floyd-bucaram-ecuador-planeta-perspectivas-buenos-aires-cnnee\n",
      "https://cnnespanol.cnn.com/video/hong-kong-debate-parlamento-ley-del-himno-tiananmen-jose-levy-cafe-cnn\n",
      "https://cnnespanol.cnn.com/video/hong-kong-china-himno-tiananmen-5-cosas-cafe\n",
      "https://cnnespanol.cnn.com/2020/06/04/coronavirus-4-de-junio-minuto-a-minuto-las-muertes-por-covid-19-continuan-aumentando-en-america-latina\n",
      "https://cnnespanol.cnn.com/video/retro-masacre-plaza-tiananmen-china-encuentro-guillermo-arduino-cnnee\n",
      "https://cnnespanol.cnn.com/video/elvis-crespo-nuevo-sencillo-imaginarme-sin-ti-manny-cruz-pkg-mariela-encarnacion\n",
      "https://cnnespanol.cnn.com/video/julieta-venegas-mujeres-derechos-rol-madre-santa-protesta-sociedad-marchas-entrevista-mario-gonzalez-perspectivas-mexico\n",
      "https://cnnespanol.cnn.com/video/julieta-venegas-filarmonica-oaxaca-canciones-mujeres-andamos-huyendo-entrevista-mario-gonzalez-perspectivas-mexico\n",
      "https://cnnespanol.cnn.com/video/showbiz-cine-ojo-critico-el-bano-cuarentena-arciniegas\n",
      "https://cnnespanol.cnn.com/video/apple-desactiva-rastrea-iphones-robados-de-tiendas-saqueos-protestas-eeuu-george-floyd-pkg-cnn-dinero\n",
      "https://cnnespanol.cnn.com/video/europa-tasa-de-desempleo-subio-abril-union-europea-trabajo-pkg-cnn-dinero\n",
      "https://cnnespanol.cnn.com/video/eeuu-millones-piden-ayuda-por-desempleo-mercado-laboral-pandemia-covid-19-pkg-cnn-dinero\n",
      "https://cnnespanol.cnn.com/video/twitter-elimina-borra-cuenta-falsa-antifa-supremacistas-blancos-incitaban-violencia-protestas-eeuu-pkg-cnn-dinero\n",
      "https://cnnespanol.cnn.com/2020/06/05/opinion-es-posible-una-protesta-pacifica-en-ee-uu\n",
      "https://cnnespanol.cnn.com/video/racismo-estados-unidos-discurso-trump-ley-orden-muerte-george-floyd-negros-oppenheimer-opinion-promo\n",
      "https://cnnespanol.cnn.com/2020/06/04/opinion-ayuda-iran-a-venezuela\n",
      "https://cnnespanol.cnn.com/2020/06/04/opinion-no-puedo-respirar-grito-una-democracia-que-se-asfixia-con-la-injusticia-social\n",
      "https://cnnespanol.cnn.com/2020/06/04/opinion-coronavirus-el-mundo-despues-del-covid-19\n",
      "https://cnnespanol.cnn.com/2020/06/04/opinion-los-lideres-empresariales-deben-crear-el-cambio-necesario-para-acabar-con-el-racismo\n",
      "https://cnnespanol.cnn.com/2020/06/04/opinion-nosotros-el-pueblo-triunfa-sobre-el-comandante-en-jefe\n",
      "https://cnnespanol.cnn.com/2020/06/03/opinion-trump-y-la-teoria-de-la-conspiracion\n",
      "https://cnnespanol.cnn.com/2020/06/03/opinion-racismo-una-historia-de-odio\n",
      "https://cnnespanol.cnn.com/2020/06/03/opinion-reflexiones-un-mundo-mejor\n",
      "https://cnnespanol.cnn.com/video/nba-coronavirus-basquetbol-baloncesto-walt-disney-world-orlando-florida-deportes-cnn-pkg\n",
      "https://cnnespanol.cnn.com/video/drew-brees-nfl-new-orleans-saints-malcolm-jenkins-lebron-james-protestas-deportes-cnn-pkg\n",
      "https://cnnespanol.cnn.com/video/liga-premier-inglaterra-cambios-temporales-futbol-ingles-deportes-cnnee\n",
      "https://cnnespanol.cnn.com/video/espana-atletico-madrid-diego-costa-fraude-fiscal-deportes-cnnee\n",
      "https://cnnespanol.cnn.com/video/diego-forlan-racismo-george-floyd-eeuu-espana-atletico-madrid-uruguay-deportes-cnne-pkg\n",
      "https://cnnespanol.cnn.com/video/george-floyd-stephen-jackson-minneapolis-muerte-protestas-nba-racismo-estados-unidos-eeuu-deportes-cnne-pkg\n",
      "https://cnnespanol.cnn.com/video/mexico-futbol-yon-de-luisa-federacion-mexicana-copa-america-el-tri-mex-deportes-pkg-cnnee\n",
      "https://cnnespanol.cnn.com/2020/06/04/drew-brees-enciende-a-lebron-james-y-otros-atletas-por-sus-comentarios-sobre-el-respeto-a-la-bandera\n",
      "https://cnnespanol.cnn.com/video/golden-state-warriors-protestas-george-floyd-racismo-nba-baloncesto-deportes-cnnee-vo\n",
      "https://cnnespanol.cnn.com/video/lance-armstrong-ciclismo-dopaje-caida-ascenso-estados-unidos-eeuu-deportes-cnne-pkg\n",
      "https://cnnespanol.cnn.com/video/ejercicio-casa-coronavirus-gimnasios-cuarentena-clara-divano-jennifer-montoya-cafe-cnnee\n",
      "https://cnnespanol.cnn.com/2020/06/05/los-pacientes-con-presion-arterial-alta-tienen-el-doble-de-riesgo-de-morir-por-coronavirus-segun-estudio\n",
      "https://cnnespanol.cnn.com/2020/06/05/famotidina-un-medicamento-comun-para-la-acidez-estomacal-puede-haber-ayudado-a-10-pacientes-en-casa-con-covid-19\n",
      "https://cnnespanol.cnn.com/2020/06/04/es-posible-que-el-coronavirus-no-este-mutando-pero-los-expertos-dicen-que-todavia-hay-peligro-potencial\n",
      "https://cnnespanol.cnn.com/video/delta-md88-mad-dog-vuelo-final-huston-orig\n",
      "https://cnnespanol.cnn.com/2020/06/02/viajar-en-la-era-del-coronavirus-estos-son-los-nuevos-protocolos-globales-de-seguridad\n",
      "https://cnnespanol.cnn.com/video/caribe-mexicano-certificacion-reactivacion-turismo-riviera-maya-dario-flota-pandemia-economia-perspectivas-mexico\n",
      "https://cnnespanol.cnn.com/video/japon-parques-tematicos-regla-gritos-atracciones-aire-libre-pandemia-coronavirus-requena-panorama-cnnee\n",
      "https://cnnespanol.cnn.com/video/yves-saint-laurent-exito-desfiles-entrevista-muerte-aniversario-mari-rodriguez-anecdotas-pkg\n",
      "https://cnnespanol.cnn.com/2020/05/21/opinion-por-que-son-necesarias-las-joyas-de-fantasia\n",
      "https://cnnespanol.cnn.com/2020/05/21/40-anos-de-pac-man-el-icono-comegalletas-que-cambio-la-historia-de-los-videojuegos\n",
      "https://cnnespanol.cnn.com/2020/05/18/dia-internacional-de-los-museos-que-museos-han-reabierto-en-el-mundo\n",
      "https://cnnespanol.cnn.com/video/argentina-futbol-discriminacion-comunidad-judia-actos-agraviantes-deportes-cnn-pkg\n",
      "https://cnnespanol.cnn.com/video/nina-genio-mexicana-describe-como-se-enfrento-al-bulliyng-adhara-perez-pkg-blanco-proyecto-ser-humano\n",
      "https://cnnespanol.cnn.com/2020/02/22/quaden-bayles-el-nino-victima-de-acoso-escolar-salio-a-la-cancha-con-un-equipo-de-rugby-frente-a-una-multitud\n",
      "https://cnnespanol.cnn.com/2020/02/21/enviemos-a-un-nino-maravilloso-a-disneyland-la-campana-de-solidaridad-con-quaden-bayles-victima-de-acoso-por-enanismo\n",
      "https://cnnespanol.cnn.com/2020/02/21/celebridades-se-reunen-para-enviar-a-quaden-bayles-a-disneyland-despues-de-que-un-video-de-acoso-se-volvio-viral\n",
      "https://cnnespanol.cnn.com/video/ataque-acido-odio-hispano-milwaukee-gustavo-valdes\n",
      "https://cnnespanol.cnn.com/video/exoneran-a-hispano-condena-violacion-en-nueva-york-1985-pkg-yilber-vega\n",
      "https://cnnespanol.cnn.com/video/padre-escuela-racismo-estados-unidos-encuentro-cnne\n",
      "https://cnnespanol.cnn.com/video/comemtario-racista-mexicano-en-una-escuela-michigan-nat-pkg-digital\n",
      "https://cnnespanol.cnn.com/video/bryan-rusell-joven-sindrome-down-congreso-discriminacion-pkg-jimena-quintana-ser-humano\n",
      "https://cnnespanol.cnn.com/gallery/fotos-los-momentos-determinantes-en-los-40-anos-de-cnn\n",
      "https://cnnespanol.cnn.com/gallery/fotos-asi-protestan-en-atlanta-por-la-muerte-de-george-floyd\n",
      "https://cnnespanol.cnn.com/gallery/fotos-las-devastadoras-imagenes-de-la-pandemia-de-coronavirus-en-brasil\n",
      "https://bleacherreport.com/articles/2894837-once-a-leader-of-social-justice-mlb-is-now-embarrassingly-behind-the-times?utm_source=cnn.com&utm_campaign=editorial&utm_medium=referral\n",
      "https://bleacherreport.com/articles/2880821-nba-approves-22-team-tournament-restart-on-board-of-governors-call?utm_source=cnn.com&utm_campaign=editorial&utm_medium=referral\n",
      "https://bleacherreport.com/articles/2894826-nfl-pledges-20m-to-support-social-justice-causes-activism-amid-protests?utm_source=cnn.com&utm_campaign=editorial&utm_medium=referral\n",
      "https://bleacherreport.com/articles/2894887-warren-moon-talks-drew-brees-apology-for-kneeling-comments-its-a-start?utm_source=cnn.com&utm_campaign=editorial&utm_medium=referral\n",
      "https://bleacherreport.com/articles/2894795-lebron-james-responds-after-laura-ingraham-backs-drew-brees-kneeling-comments?utm_source=cnn.com&utm_campaign=editorial&utm_medium=referral\n",
      "https://bleacherreport.com/articles/2894787-bills-qb-jake-fromm-apologizes-after-elite-white-people-racist-texts-leak?utm_source=cnn.com&utm_campaign=editorial&utm_medium=referral\n",
      "https://edition.cnn.com/interactive/2019/11/style/louvre-abu-dhabi-collection\n",
      "http://www.cnn.com/interactive/2016/12/specials/vanishing\n",
      "http://www.cnn.com/interactive/2016/12/world/midway-plastic-island\n",
      "http://www.cnn.com/interactive/2017/02/health/nursing-home-aide-rape-charges\n",
      "http://www.cnn.com/interactive/2017/02/health/nursing-home-sex-abuse-investigation\n",
      "http://www.cnn.com/interactive/2017/04/health/dreams-of-baby-noor\n",
      "http://www.cnn.com/interactive/2017/02/us/first-time-i-realized-i-was-black\n",
      "http://www.cnn.com/interactive/2015/10/us/other-gun-lobby\n",
      "http://money.cnn.com/2016/09/21/news/economy/white-working-class-government/index.html?iid=hp-toplead-dom\n",
      "http://www.cnn.com/2016/09/19/politics/trump-supporters-working-class-white-kaiser-family-foundation-infographic/index.html\n",
      "http://money.cnn.com/2016/09/23/news/economy/white-working-class-economy/index.html\n",
      "http://www.cnn.com/interactive/2014/05/specials/city-of-tomorrow/index.html\n",
      "http://www.cnn.com/interactive/2014/09/health/cnn10-healthiest-cities\n",
      "https://auburnpub.com/news/local/after-village-refuses-to-fly-pride-flag-skaneateles-man-plans-protest/article_23186b3b-bccf-547b-97a6-7b81101d6519.html#tracking-source=home-top-story-1\n",
      "https://globegazette.com/news/local/watch-now-mason-city-student-leaders-come-together-to-plant-trees-in-flood-plains/article_c1fbffa4-0233-5a06-87e3-29e46cfdaaa4.html#tracking-source=home-top-story\n",
      "https://columbustelegram.com/news/local/platte-county-fair-to-be-modified-due-to-covid-19-pandemic/article_509e511c-960d-5176-a611-6485cc6bdbcf.html#tracking-source=home-top-story\n",
      "https://www.wiscnews.com/juneaucountystartimes/news/local/crime-and-courts/mauston-man-claiming-to-have-covid-19-charged-with-felony-after-allegedly-spitting-at-police/article_779a9959-c8a4-5046-ae1e-5294d6161089.html#tracking-source=home-top-story-1\n",
      "https://www.eastidahonews.com/2020/06/ifpd-puts-on-barbecue-to-have-conversation-with-community\n",
      "https://azdailysun.com/news/local/bike-shops-in-flagstaff-face-challenges-keeping-up-with-sales-repairs/article_6f9c95ec-f71a-5d3b-995d-98b2425aa3e8.html#tracking-source=home-top-story\n",
      "https://kdvr.com/news/local/local-man-needs-his-eye-removed-after-projectile-hits-his-face-during-afternoon-protest-in-denver\n",
      "https://www.ktnv.com/news/community-in-support-of-injured-lvmpd-officer\n",
      "https://www.azfamily.com/news/phoenix-police-make-arrest-in-cold-case-murder-dating-back-to-1987/article_2b82ccac-a5f6-11ea-bf51-dbcf48cee4a1.html\n",
      "https://www.yourcentralvalley.com/news/crime/she-stole-27000-from-an-elementary-schools-pta-and-spent-it-on-herself-deputies-say\n",
      "https://billingsgazette.com/news/local/5-year-old-recovering-from-rattlesnake-bite-he-got-while-hiking-in-billings-park/article_e961bf46-0a20-5eda-8d59-45290ddcf569.html\n",
      "https://ksltv.com/438755/mother-credits-strangers-for-helping-save-family-after-van-crashes-into-river\n",
      "https://www.koat.com/article/family-asking-for-birthday-cards-for-100-year-old-new-mexico-wwii-veteran/32760883\n",
      "https://www.cnn.com/interactive/2020/04/weather/storm-chasing-eric-meola-cnnphotos/index.html\n"
     ]
    }
   ],
   "source": [
    "cnn_paper = Source('http://cnn.com', verbose=False, memoize_articles=False)\n",
    "cnn_paper.clean_memo_cache()\n",
    "cnn_paper.build()\n",
    "for article in cnn_paper.articles:\n",
    "    print(article.url)"
   ]
  },
  {
   "cell_type": "code",
   "execution_count": 18,
   "metadata": {
    "pycharm": {
     "name": "#%%\n"
    }
   },
   "outputs": [
    {
     "name": "stdout",
     "output_type": "stream",
     "text": [
      "http://cnn.com\n",
      "http://cnn.com/americas\n",
      "https://www.cnn.com\n",
      "http://edition.cnn.com\n",
      "http://cnn.com/collection\n",
      "http://cnn.com/accessibility\n",
      "http://cnn.com/europe\n",
      "http://cnn.com/videos\n",
      "http://cnn.com/travel\n",
      "http://cnn.com/opinions\n",
      "http://cnn.com/asia\n",
      "http://cnn.com/uk\n",
      "http://cnn.com/business\n",
      "http://cnn.com/china\n",
      "http://cnn.com/india\n",
      "http://cnn.com/australia\n",
      "http://cnn.com/vr\n",
      "http://cnn.com/tour\n",
      "http://cnn.com/transcripts\n",
      "https://money.cnn.com\n",
      "http://cnn.com/middle-east\n",
      "http://cnn.com/health\n",
      "http://cnnespanol.cnn.com\n",
      "http://cnn.com/africa\n",
      "http://arabic.cnn.com\n",
      "http://cnn.com/world\n",
      "http://cnn.com/style\n",
      "http://cnn.com/more\n",
      "http://cnn.com/us\n",
      "http://cnn.com/weather\n",
      "http://cnn.it\n",
      "http://us.cnn.com\n",
      "http://cnn.com/entertainment\n",
      "http://cnn.com/politics\n"
     ]
    }
   ],
   "source": [
    "for category in cnn_paper.categories:\n",
    "    print(category.url)\n"
   ]
  },
  {
   "cell_type": "markdown",
   "metadata": {
    "pycharm": {
     "name": "#%% md\n"
    }
   },
   "source": [
    "## Next Find all data in BBC website page in Chinese"
   ]
  },
  {
   "cell_type": "code",
   "execution_count": 19,
   "metadata": {
    "pycharm": {
     "name": "#%%\n"
    }
   },
   "outputs": [
    {
     "name": "stderr",
     "output_type": "stream",
     "text": [
      "Building prefix dict from /usr/local/lib/python3.7/site-packages/jieba/dict.txt ...\n",
      "Dumping model to file cache /var/folders/g9/93n9wtsd3g7fjkh63dm2n57c0000gp/T/jieba.cache\n",
      "Loading model cost 1.4920880794525146 seconds.\n",
      "Prefix dict has been built succesfully.\n"
     ]
    },
    {
     "name": "stdout",
     "output_type": "stream",
     "text": [
      "['港特首梁振英就住宅违建事件道歉', '香港行政长官梁振英在各方压力下就其大宅的违章建筑僭建问题到立法会接受质询并向香港民众道歉梁振英此前承认早在去年参选行政长官之前就已知悉其住宅的违建问题引发诚信危机梁振英在星期二12月10日的答问大会开始之际在其演说中道歉但强调他在违章建筑问题上没有隐瞒的意图和动机不过泛民主派议员们普遍指责梁振英撒谎要求他马上辞职下台一些亲北京阵营议员欢迎梁振英道歉且认为应能获得香港民众接受但这些议员也质问梁振英有否向执法部门施压梁振英强调承诺将在两周内解决其住宅的违建问题郑重道歉香港媒体于6月份曝光梁振英大宅的首批违建部分后于3月的选举中被击败的民主党参选人何俊仁向法院提出选举呈请至11月中旬被终审法院驳回梁振英说其位于太平山山顶的住宅内的违建部分大都不是由他所建此前没有马上公开交待和处理是因为律师意见认为司法程序仍在进行他不应评论梁振英在接受质询前的发言中说回顾事件我虽然从无任何存心隐瞒的意图但必须承认自己有处理疏忽及交代不清之处为此我再次向市民郑重道歉梁振英在选举中还击败了曾是自由党党员的前政务司司长唐英年在回答自由党议员的提问时梁振英称他从未说过其房产不存在违建问题现为间选议员的何俊仁说梁振英至今仍不坦诚以对让他震惊亲北京政团工联会直选议员黄国健也批评梁振英抱着不服输的态度接受质询历时15小时的答问大会在进入中段之际泛民主派人民力量的直选议员黄毓民陈伟业和社会民主连线的梁国雄先后因播放录音叫嚣和向梁振英扔掷文件而被议长驱逐民主党此前计划在星期三11日对梁振英提出不信任动议']\n",
      "香港行政长官梁振英在各方压力下就其大宅的违章建筑（僭建）问题到立法会接受质询，并向香港民众道歉。\n",
      "\n",
      "梁振英此前承认早在去年参选行政长官之前就已知悉其住宅的违建问题，引发诚信危机。\n",
      "\n",
      "梁振英在星期二（12月10日）的答问大会开始之际在其演说中道歉，但强调他在违章建筑问题上没有隐瞒的意图和动机。\n",
      "\n",
      "不过\n",
      "港特首梁振英就住宅违建事件道歉\n"
     ]
    }
   ],
   "source": [
    "url = 'http://www.bbc.co.uk/zhongwen/simp/chinese_news/2012/12/121210_hongkong_politics.shtml'\n",
    "a = Article(url, language='zh') # Chinese\n",
    "a.build()\n",
    "print(a.keywords)\n",
    "print(a.text[:150])\n",
    "print(a.title)\n"
   ]
  },
  {
   "cell_type": "markdown",
   "metadata": {},
   "source": [
    "## Now get any Wikipedia Page, Find all tables and convert to spreadsheets"
   ]
  },
  {
   "cell_type": "code",
   "execution_count": 20,
   "metadata": {
    "pycharm": {
     "name": "#%%\n"
    }
   },
   "outputs": [],
   "source": [
    "url = \"https://en.wikipedia.org/wiki/International_Phonetic_Alphabet_chart_for_English_dialects\"\n",
    "article = Article(url=url)\n",
    "article.build()\n",
    "\n",
    "# write data out to tab seperated format\n",
    "page = os.path.split(url)[1]\n",
    "for table in article.tables:\n",
    "    fname = '../data/output_{}_t{}.tsv'.format(page, table['name'])\n",
    "    with codecs.open(fname, 'w') as f:\n",
    "        for i in range(len(table['rows'])):\n",
    "            rowStr = '\\t'.join(table['rows'][i])\n",
    "            rowStr = rowStr.replace('\\n', '')\n",
    "            # print(rowStr)\n",
    "            f.write(rowStr + '\\n')\n",
    "        f.close()\n"
   ]
  },
  {
   "cell_type": "markdown",
   "metadata": {},
   "source": [
    "## Now get any Adobe PDF and process it"
   ]
  },
  {
   "cell_type": "code",
   "execution_count": 21,
   "metadata": {
    "pycharm": {
     "name": "#%%\n"
    }
   },
   "outputs": [],
   "source": [
    "url = 'https://www.adobe.com/pdf/pdfs/ISO32000-1PublicPatentLicense.pdf'\n",
    "article = Article(url=url)\n",
    "article.build()"
   ]
  },
  {
   "cell_type": "code",
   "execution_count": 22,
   "metadata": {
    "pycharm": {
     "name": "#%%\n"
    }
   },
   "outputs": [
    {
     "data": {
      "text/plain": [
       "['rpierce', ('adobe', 'www')]"
      ]
     },
     "execution_count": 22,
     "metadata": {},
     "output_type": "execute_result"
    }
   ],
   "source": [
    "article.authors\n"
   ]
  },
  {
   "cell_type": "code",
   "execution_count": 23,
   "metadata": {
    "pycharm": {
     "name": "#%%\n"
    }
   },
   "outputs": [
    {
     "data": {
      "text/plain": [
       "datetime.datetime(2008, 12, 20, 0, 0)"
      ]
     },
     "execution_count": 23,
     "metadata": {},
     "output_type": "execute_result"
    }
   ],
   "source": [
    "article.publish_date"
   ]
  },
  {
   "cell_type": "code",
   "execution_count": 24,
   "metadata": {
    "pycharm": {
     "name": "#%%\n"
    }
   },
   "outputs": [
    {
     "data": {
      "text/plain": [
       "'Adobe Systems Incorporated\\nPublic Patent License\\nISO 32000-1: 2008 – PDF 1.7\\n\\nISO 32000-1: 2008 – PDF 1.7 describes a computer file format used for information interchange among\\ndiverse products and applications on multiple platforms. Adobe owns patented technology disclosed in\\nthis international standard specification. We offer this patent license to all individuals and organizations\\nin the world in order to encourage the implementation of this specification.\\n\\nPublic License\\nAdobe grants every individual and organization in the world the royalty-free right, under all Essential\\nClaims that Adobe owns, to make, have made, use, sell, import and distribute Compliant\\nImplementations. If a licensee brings (or participates directly or indirectly in the bringing of) a lawsuit\\nor similar action against any other party claiming that a Compliant Implementation infringes an\\nEssential Claim, Adobe may revoke the rights granted above to such licensee. Upon such revocation,\\nsuch rights will be deemed to have never been granted.\\n\\nNo Warranty\\nAdobe disclaims all warranties, express and implied, with respect to the Specification and the license\\ngranted above, including warranties of title and non-infringement. Nothing in this document shall be\\nconstrued as requiring the maintenance of any patent, a warranty or representation as to the validity or\\nscope of any patent, an agreement to protect or cooperate with any party or to bring or prosecute actions\\nagainst any party, or a grant of any right under any patent claim other than an Essential Claim.\\n\\nReservation of Rights\\nAll rights not expressly granted herein are reserved.\\n\\nDefinitions\\n“Compliant Implementation” means the portion of an application, product, or service that reads,\\nwrites modifies or processes computer files compliant with the Specification.\\n\\n“Essential Claim” means a claim of a patent, whenever and wherever issued, that is necessarily infringed\\nin order to achieve compliance with the requirements of the Specification. A claim is necessarily\\ninfringed only when there is no reasonable way to avoid infringement of that claim when reading,\\nwriting, modifying or processing computer files compliant with the Specification.\\n\\n“Specification” means ISO 32000-1:2008 – PDF 1.7 published by the International Organization for\\nStandardization (ISO). By way of example only, any updated version of ISO 32000-1 and any\\nspecification that incorporates ISO 32000-1:2008 by reference is not the Specification for purposes of\\nthis license.'"
      ]
     },
     "execution_count": 24,
     "metadata": {},
     "output_type": "execute_result"
    }
   ],
   "source": [
    "article.text"
   ]
  },
  {
   "cell_type": "code",
   "execution_count": 25,
   "metadata": {
    "pycharm": {
     "name": "#%%\n"
    }
   },
   "outputs": [
    {
     "data": {
      "text/plain": [
       "['implementation',\n",
       " 'rights',\n",
       " 'party',\n",
       " 'claim',\n",
       " 'adobe',\n",
       " 'means',\n",
       " 'patent',\n",
       " 'pdf',\n",
       " 'specification',\n",
       " 'iso']"
      ]
     },
     "execution_count": 25,
     "metadata": {},
     "output_type": "execute_result"
    }
   ],
   "source": [
    "article.keywords"
   ]
  },
  {
   "cell_type": "code",
   "execution_count": 26,
   "metadata": {
    "pycharm": {
     "name": "#%%\n"
    }
   },
   "outputs": [
    {
     "data": {
      "text/plain": [
       "'Adobe Systems IncorporatedPublic Patent LicenseISO 32000-1: 2008 – PDF 1.7ISO 32000-1: 2008 – PDF 1.7 describes a computer file format used for information interchange amongdiverse products and applications on multiple platforms.\\nWe offer this patent license to all individuals and organizationsin the world in order to encourage the implementation of this specification.\\nDefinitions“Compliant Implementation” means the portion of an application, product, or service that reads,writes modifies or processes computer files compliant with the Specification.\\n“Essential Claim” means a claim of a patent, whenever and wherever issued, that is necessarily infringedin order to achieve compliance with the requirements of the Specification.\\n“Specification” means ISO 32000-1:2008 – PDF 1.7 published by the International Organization forStandardization (ISO).'"
      ]
     },
     "execution_count": 26,
     "metadata": {},
     "output_type": "execute_result"
    }
   ],
   "source": [
    "article.summary"
   ]
  },
  {
   "cell_type": "code",
   "execution_count": null,
   "metadata": {
    "pycharm": {
     "name": "#%%\n"
    }
   },
   "outputs": [],
   "source": []
  },
  {
   "cell_type": "code",
   "execution_count": null,
   "metadata": {
    "pycharm": {
     "name": "#%%\n"
    }
   },
   "outputs": [],
   "source": []
  },
  {
   "cell_type": "code",
   "execution_count": null,
   "metadata": {},
   "outputs": [],
   "source": []
  }
 ],
 "metadata": {
  "kernelspec": {
   "display_name": "Python 3",
   "language": "python",
   "name": "python3"
  },
  "language_info": {
   "codemirror_mode": {
    "name": "ipython",
    "version": 3
   },
   "file_extension": ".py",
   "mimetype": "text/x-python",
   "name": "python",
   "nbconvert_exporter": "python",
   "pygments_lexer": "ipython3",
   "version": "3.7.7"
  }
 },
 "nbformat": 4,
 "nbformat_minor": 2
}